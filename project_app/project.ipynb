{
 "cells": [
  {
   "cell_type": "markdown",
   "metadata": {},
   "source": [
    "## Capston Project - Regulating Vacation Listings"
   ]
  },
  {
   "cell_type": "code",
   "execution_count": 2,
   "metadata": {},
   "outputs": [],
   "source": [
    "#import libraries\n",
    "import numpy as np\n",
    "import pandas as pd\n",
    "#Scalers\n",
    "from sklearn.preprocessing import MinMaxScaler\n",
    "from sklearn.preprocessing import StandardScaler\n",
    "rs = 42\n"
   ]
  },
  {
   "cell_type": "markdown",
   "metadata": {},
   "source": [
    "\n",
    "## Collecting Data"
   ]
  },
  {
   "cell_type": "code",
   "execution_count": 3,
   "metadata": {},
   "outputs": [],
   "source": [
    "#importing dataset\n",
    "files_dir = \"../dataset/\"\n",
    "filename_original = files_dir + \"AB_NYC_2019.csv\"\n",
    "df_2019 = pd.read_csv(filename_original)\n",
    "#filename = files_dir + \"AB_NYC_2019.csv\"\n",
    "filename = files_dir + \"listings.csv\"\n",
    "df_more = pd.read_csv(filename)\n",
    "df_more.drop([ 'number_of_reviews_ltm'], axis=1, inplace=True)\n",
    "df_2019 = df_2019.drop_duplicates(subset = ['id'], inplace=False).copy()\n",
    "df_more = df_more.drop_duplicates(subset = ['id'], inplace=False).copy()\n",
    "other_data= df_more[~ df_more.id.isin(df_2019.id)]\n",
    "df_concat = pd.concat([df_2019, other_data], axis=0, ignore_index=True)"
   ]
  },
  {
   "cell_type": "markdown",
   "metadata": {},
   "source": [
    "## Exploring the Data \n"
   ]
  },
  {
   "cell_type": "code",
   "execution_count": 4,
   "metadata": {},
   "outputs": [
    {
     "data": {
      "text/html": [
       "<div>\n",
       "<style scoped>\n",
       "    .dataframe tbody tr th:only-of-type {\n",
       "        vertical-align: middle;\n",
       "    }\n",
       "\n",
       "    .dataframe tbody tr th {\n",
       "        vertical-align: top;\n",
       "    }\n",
       "\n",
       "    .dataframe thead th {\n",
       "        text-align: right;\n",
       "    }\n",
       "</style>\n",
       "<table border=\"1\" class=\"dataframe\">\n",
       "  <thead>\n",
       "    <tr style=\"text-align: right;\">\n",
       "      <th></th>\n",
       "      <th>id</th>\n",
       "      <th>host_id</th>\n",
       "      <th>latitude</th>\n",
       "      <th>longitude</th>\n",
       "      <th>price</th>\n",
       "      <th>minimum_nights</th>\n",
       "      <th>number_of_reviews</th>\n",
       "      <th>reviews_per_month</th>\n",
       "      <th>calculated_host_listings_count</th>\n",
       "      <th>availability_365</th>\n",
       "    </tr>\n",
       "  </thead>\n",
       "  <tbody>\n",
       "    <tr>\n",
       "      <th>count</th>\n",
       "      <td>6.775100e+04</td>\n",
       "      <td>6.775100e+04</td>\n",
       "      <td>67751.000000</td>\n",
       "      <td>67751.000000</td>\n",
       "      <td>67751.000000</td>\n",
       "      <td>67751.000000</td>\n",
       "      <td>67751.000000</td>\n",
       "      <td>51229.000000</td>\n",
       "      <td>67751.000000</td>\n",
       "      <td>67751.000000</td>\n",
       "    </tr>\n",
       "    <tr>\n",
       "      <th>mean</th>\n",
       "      <td>2.580916e+07</td>\n",
       "      <td>9.789825e+07</td>\n",
       "      <td>40.729251</td>\n",
       "      <td>-73.950606</td>\n",
       "      <td>161.819958</td>\n",
       "      <td>10.327508</td>\n",
       "      <td>19.498679</td>\n",
       "      <td>1.712434</td>\n",
       "      <td>13.373264</td>\n",
       "      <td>130.623902</td>\n",
       "    </tr>\n",
       "    <tr>\n",
       "      <th>std</th>\n",
       "      <td>1.557145e+07</td>\n",
       "      <td>1.138683e+08</td>\n",
       "      <td>0.054947</td>\n",
       "      <td>0.048679</td>\n",
       "      <td>268.861914</td>\n",
       "      <td>24.013786</td>\n",
       "      <td>40.790813</td>\n",
       "      <td>3.425408</td>\n",
       "      <td>50.338179</td>\n",
       "      <td>137.403460</td>\n",
       "    </tr>\n",
       "    <tr>\n",
       "      <th>min</th>\n",
       "      <td>2.539000e+03</td>\n",
       "      <td>2.438000e+03</td>\n",
       "      <td>40.499790</td>\n",
       "      <td>-74.249840</td>\n",
       "      <td>0.000000</td>\n",
       "      <td>1.000000</td>\n",
       "      <td>0.000000</td>\n",
       "      <td>0.010000</td>\n",
       "      <td>1.000000</td>\n",
       "      <td>0.000000</td>\n",
       "    </tr>\n",
       "    <tr>\n",
       "      <th>25%</th>\n",
       "      <td>1.301641e+07</td>\n",
       "      <td>1.017345e+07</td>\n",
       "      <td>40.690140</td>\n",
       "      <td>-73.983540</td>\n",
       "      <td>69.000000</td>\n",
       "      <td>2.000000</td>\n",
       "      <td>1.000000</td>\n",
       "      <td>0.200000</td>\n",
       "      <td>1.000000</td>\n",
       "      <td>0.000000</td>\n",
       "    </tr>\n",
       "    <tr>\n",
       "      <th>50%</th>\n",
       "      <td>2.532429e+07</td>\n",
       "      <td>4.378557e+07</td>\n",
       "      <td>40.724380</td>\n",
       "      <td>-73.955300</td>\n",
       "      <td>110.000000</td>\n",
       "      <td>3.000000</td>\n",
       "      <td>4.000000</td>\n",
       "      <td>0.750000</td>\n",
       "      <td>1.000000</td>\n",
       "      <td>76.000000</td>\n",
       "    </tr>\n",
       "    <tr>\n",
       "      <th>75%</th>\n",
       "      <td>3.622448e+07</td>\n",
       "      <td>1.599862e+08</td>\n",
       "      <td>40.762830</td>\n",
       "      <td>-73.932915</td>\n",
       "      <td>185.000000</td>\n",
       "      <td>7.000000</td>\n",
       "      <td>18.000000</td>\n",
       "      <td>2.170000</td>\n",
       "      <td>3.000000</td>\n",
       "      <td>270.000000</td>\n",
       "    </tr>\n",
       "    <tr>\n",
       "      <th>max</th>\n",
       "      <td>5.366510e+07</td>\n",
       "      <td>4.344080e+08</td>\n",
       "      <td>40.914020</td>\n",
       "      <td>-73.710870</td>\n",
       "      <td>10000.000000</td>\n",
       "      <td>1250.000000</td>\n",
       "      <td>1009.000000</td>\n",
       "      <td>141.000000</td>\n",
       "      <td>421.000000</td>\n",
       "      <td>365.000000</td>\n",
       "    </tr>\n",
       "  </tbody>\n",
       "</table>\n",
       "</div>"
      ],
      "text/plain": [
       "                 id       host_id      latitude     longitude         price  \\\n",
       "count  6.775100e+04  6.775100e+04  67751.000000  67751.000000  67751.000000   \n",
       "mean   2.580916e+07  9.789825e+07     40.729251    -73.950606    161.819958   \n",
       "std    1.557145e+07  1.138683e+08      0.054947      0.048679    268.861914   \n",
       "min    2.539000e+03  2.438000e+03     40.499790    -74.249840      0.000000   \n",
       "25%    1.301641e+07  1.017345e+07     40.690140    -73.983540     69.000000   \n",
       "50%    2.532429e+07  4.378557e+07     40.724380    -73.955300    110.000000   \n",
       "75%    3.622448e+07  1.599862e+08     40.762830    -73.932915    185.000000   \n",
       "max    5.366510e+07  4.344080e+08     40.914020    -73.710870  10000.000000   \n",
       "\n",
       "       minimum_nights  number_of_reviews  reviews_per_month  \\\n",
       "count    67751.000000       67751.000000       51229.000000   \n",
       "mean        10.327508          19.498679           1.712434   \n",
       "std         24.013786          40.790813           3.425408   \n",
       "min          1.000000           0.000000           0.010000   \n",
       "25%          2.000000           1.000000           0.200000   \n",
       "50%          3.000000           4.000000           0.750000   \n",
       "75%          7.000000          18.000000           2.170000   \n",
       "max       1250.000000        1009.000000         141.000000   \n",
       "\n",
       "       calculated_host_listings_count  availability_365  \n",
       "count                    67751.000000      67751.000000  \n",
       "mean                        13.373264        130.623902  \n",
       "std                         50.338179        137.403460  \n",
       "min                          1.000000          0.000000  \n",
       "25%                          1.000000          0.000000  \n",
       "50%                          1.000000         76.000000  \n",
       "75%                          3.000000        270.000000  \n",
       "max                        421.000000        365.000000  "
      ]
     },
     "execution_count": 4,
     "metadata": {},
     "output_type": "execute_result"
    }
   ],
   "source": [
    "df_concat.describe()"
   ]
  },
  {
   "cell_type": "markdown",
   "metadata": {},
   "source": [
    "## Pre-processing the data\n",
    "\n"
   ]
  },
  {
   "cell_type": "code",
   "execution_count": 5,
   "metadata": {},
   "outputs": [],
   "source": [
    "def scaler_transform(scaler_type, X, exclude_vars = ['latitude', 'longitude', 'id','NG_Brooklyn','NG_Manhattan','NG_Queens','NG_Bronx','NG_Staten Island','room_type_Private room','room_type_Shared room']):\n",
    "    '''\n",
    "    Transform the NON-object type data to the selected scaler\n",
    "    '''\n",
    "    X_copy = X.copy(deep = True)\n",
    "    if scaler_type == 'minmax':\n",
    "        scaler = MinMaxScaler()\n",
    "    elif scaler_type == 'standard':\n",
    "        scaler = StandardScaler()\n",
    "    X_notexcluded= X_copy.loc[:, ~X_copy.columns.isin(exclude_vars)]\n",
    "    X_withoutobj = X_notexcluded.select_dtypes(exclude=['object'])\n",
    "    #X_withoutobj = X_withoutobj.add_suffix(f'_{scaler_type}')\n",
    "    # Fit transform the scaler if there are objects in dataset\n",
    "    if X_withoutobj.shape[1] > 0:\n",
    "        X_withoutobj = pd.DataFrame(scaler.fit_transform(X_withoutobj[X_withoutobj.columns]),\n",
    "                                        index=X_withoutobj.index,\n",
    "                                        columns=X_withoutobj.columns)\n",
    "        # Concatenate the rest of the data\n",
    "        X_withexcl = pd.concat([X_withoutobj, X.loc[:, X.columns.isin(exclude_vars)]], axis=1)\n",
    "        others = [x for x in X.select_dtypes('object') if x not in X_withexcl.columns]\n",
    "        X_final = pd.concat([X_withexcl,X[others]], axis=1)\n",
    "    return X_final, scaler"
   ]
  },
  {
   "cell_type": "code",
   "execution_count": 7,
   "metadata": {},
   "outputs": [],
   "source": [
    "#drop duplicates\n",
    "df_duplicates = df_concat.drop_duplicates(subset = ['id'], inplace=False).copy()\n",
    "#df_duplicates = df_2019.drop_duplicates(subset = ['id'], inplace=False).copy()\n",
    "#data types\n",
    "df_duplicates['id'] = df_duplicates['id'].fillna(0)\n",
    "df_duplicates['id'] = df_duplicates['id'].astype(int)\n",
    "df_duplicates['host_id'] = df_duplicates['host_id'].fillna(0)\n",
    "df_duplicates['host_id'] = df_duplicates['host_id'].astype(int)\n",
    "#missing data \n",
    "df_missing = df_duplicates.copy(deep=True)\n",
    "#dropping irrelevant columns\n",
    "df_missing.drop(['host_id','host_name'], axis=1, inplace=True)\n",
    "#replacing missing values\n",
    "df_missing[(df_missing.last_review.isnull()) & (df_missing.reviews_per_month.isnull())] = df_missing[(df_missing.last_review.isnull()) & (df_missing.reviews_per_month.isnull())].replace(np.nan,0)\n",
    "#dropping irrelevant columns\n",
    "df_missing.drop(['last_review'], axis=1, inplace=True)\n",
    "#dropping rows with NaN in listing names\n",
    "df_missing.dropna(subset = ['name'], inplace= True)\n",
    "#feature encoding\n",
    "df_encode = df_missing.copy(deep=True)\n",
    "df_encode['room_type']=pd.factorize(df_encode.room_type)[0]\n",
    "df_dummies = pd.get_dummies(df_encode, columns = ['neighbourhood_group'],\n",
    "                                          prefix = 'NG',drop_first=True)\n",
    "df_dummies.drop(['neighbourhood'], axis=1, inplace=True)\n",
    "#truncate minimum nights\n",
    "from scipy.stats.mstats import winsorize\n",
    "df_win = df_dummies.copy(deep=True)\n",
    "df_win['minimum_nights'] = winsorize(df_win['minimum_nights'], limits=(0, 0.075))\n",
    "df_win['price'] = winsorize(df_win['price'], limits=(0, 0.03))\n",
    "#integrate the geodata dataframe\n",
    "geodata = pd.read_csv('./merged_map.csv')\n",
    "geodata_sub = pd.read_csv('../dataset/subway_data.csv')\n",
    "df_all = df_win.copy()\n",
    "df_all= df_all.merge(geodata, left_on = 'id', right_on = 'id')\n",
    "df_all = df_all.merge(geodata_sub, left_on = 'id', right_on = 'id')\n",
    "df_all.drop(['geom_x','geom_y'], axis=1, inplace=True)\n",
    "df_all.to_csv('df_clean_send.csv', index=False)"
   ]
  },
  {
   "cell_type": "code",
   "execution_count": 8,
   "metadata": {},
   "outputs": [
    {
     "data": {
      "text/plain": [
       "(48800, 19)"
      ]
     },
     "execution_count": 8,
     "metadata": {},
     "output_type": "execute_result"
    }
   ],
   "source": [
    "df_all.shape"
   ]
  },
  {
   "cell_type": "code",
   "execution_count": 9,
   "metadata": {},
   "outputs": [],
   "source": [
    "# Set the global default size of matplotlib figures\n",
    "import matplotlib.pyplot as plt\n",
    "import seaborn   as sns\n",
    "plt.style.use('fivethirtyeight')\n",
    "sns.set_style(\"whitegrid\")\n",
    "rc = {'figure.figsize':(8,6),\n",
    "      'axes.facecolor':'white',\n",
    "      'axes.grid' : False,\n",
    "      'grid.color': '.8',\n",
    "      'font.family':'Times New Roman',\n",
    "      'font.size' : 30,\n",
    "      'xtick.labelsize' :30,\n",
    "      'ytick.labelsize' : 30}\n",
    "plt.rcParams.update(rc)"
   ]
  },
  {
   "cell_type": "code",
   "execution_count": 10,
   "metadata": {},
   "outputs": [
    {
     "name": "stderr",
     "output_type": "stream",
     "text": [
      "/Users/daniela/Documents/myRepos/housing_prediction_ny/ENV/lib/python3.9/site-packages/seaborn/_decorators.py:36: FutureWarning: Pass the following variable as a keyword arg: x. From version 0.12, the only valid positional argument will be `data`, and passing other arguments without an explicit keyword will result in an error or misinterpretation.\n",
      "  warnings.warn(\n"
     ]
    },
    {
     "data": {
      "image/png": "[encoded data removed]",
      "text/plain": [
       "<Figure size 576x432 with 1 Axes>"
      ]
     },
     "metadata": {},
     "output_type": "display_data"
    }
   ],
   "source": [
    "sns.boxplot((df_dummies['price']), color= 'm')\n",
    "plt.title('')\n",
    "plt.ylabel('Price', fontsize = 30)\n",
    "plt.show()"
   ]
  },
  {
   "cell_type": "code",
   "execution_count": 11,
   "metadata": {},
   "outputs": [
    {
     "name": "stderr",
     "output_type": "stream",
     "text": [
      "/Users/daniela/Documents/myRepos/housing_prediction_ny/ENV/lib/python3.9/site-packages/seaborn/_decorators.py:36: FutureWarning: Pass the following variable as a keyword arg: x. From version 0.12, the only valid positional argument will be `data`, and passing other arguments without an explicit keyword will result in an error or misinterpretation.\n",
      "  warnings.warn(\n"
     ]
    },
    {
     "data": {
      "image/png": "[encoded data removed]",
      "text/plain": [
       "<Figure size 576x432 with 1 Axes>"
      ]
     },
     "metadata": {},
     "output_type": "display_data"
    }
   ],
   "source": [
    "sns.boxplot((df_all['price']), color= 'm')\n",
    "plt.title('')\n",
    "plt.ylabel('Price', fontsize = 30)\n",
    "plt.show()"
   ]
  },
  {
   "cell_type": "markdown",
   "metadata": {},
   "source": [
    "## Additional Transformations \n"
   ]
  },
  {
   "cell_type": "code",
   "execution_count": 12,
   "metadata": {},
   "outputs": [],
   "source": [
    "#to remove the skeweness of the price we log transform the price \n",
    "df_log = df_all.copy(deep=True)\n",
    "df_log['price'] =  np.log1p(df_log['price'])\n"
   ]
  },
  {
   "cell_type": "code",
   "execution_count": 13,
   "metadata": {},
   "outputs": [
    {
     "name": "stderr",
     "output_type": "stream",
     "text": [
      "/Users/daniela/Documents/myRepos/housing_prediction_ny/ENV/lib/python3.9/site-packages/seaborn/_decorators.py:36: FutureWarning: Pass the following variable as a keyword arg: x. From version 0.12, the only valid positional argument will be `data`, and passing other arguments without an explicit keyword will result in an error or misinterpretation.\n",
      "  warnings.warn(\n"
     ]
    },
    {
     "data": {
      "text/plain": [
       "Text(0.5, 1.0, 'Original Price Distribution Plot')"
      ]
     },
     "execution_count": 13,
     "metadata": {},
     "output_type": "execute_result"
    },
    {
     "data": {
      "image/png": "[encoded data removed]",
      "text/plain": [
       "<Figure size 576x432 with 2 Axes>"
      ]
     },
     "metadata": {},
     "output_type": "display_data"
    }
   ],
   "source": [
    "import matplotlib.pyplot as plt\n",
    "import seaborn as sns\n",
    "def hist_box_plot(df, col):\n",
    "\tsns.set(style=\"darkgrid\")\n",
    "\tf, (ax_box, ax_hist) = plt.subplots(2, sharex=True, gridspec_kw={\"height_ratios\": (.15, .85)})\n",
    "\tsns.boxplot(df[col], ax=ax_box)\n",
    "\tsns.histplot(data=df[col], ax=ax_hist)\n",
    "\tax_box.set(xlabel='')\n",
    "\treturn ax_box\n",
    "ax_box = hist_box_plot(df_win, 'price')\n",
    "ax_box.set_title('Original Price Distribution Plot')\n",
    "\n",
    "\n"
   ]
  },
  {
   "cell_type": "code",
   "execution_count": 14,
   "metadata": {},
   "outputs": [
    {
     "name": "stderr",
     "output_type": "stream",
     "text": [
      "/Users/daniela/Documents/myRepos/housing_prediction_ny/ENV/lib/python3.9/site-packages/seaborn/_decorators.py:36: FutureWarning: Pass the following variable as a keyword arg: x. From version 0.12, the only valid positional argument will be `data`, and passing other arguments without an explicit keyword will result in an error or misinterpretation.\n",
      "  warnings.warn(\n"
     ]
    },
    {
     "data": {
      "text/plain": [
       "Text(0.5, 1.0, 'Transformed Price Distribution Plot')"
      ]
     },
     "execution_count": 14,
     "metadata": {},
     "output_type": "execute_result"
    },
    {
     "data": {
      "image/png": "[encoded data removed]",
      "text/plain": [
       "<Figure size 576x432 with 2 Axes>"
      ]
     },
     "metadata": {},
     "output_type": "display_data"
    }
   ],
   "source": [
    "ax_box = hist_box_plot(np.log1p(pd.DataFrame(df_all['price']).reset_index().drop(['index'], axis=1)), 'price')\n",
    "ax_box.set_title('Transformed Price Distribution Plot')"
   ]
  },
  {
   "cell_type": "code",
   "execution_count": 15,
   "metadata": {},
   "outputs": [
    {
     "name": "stderr",
     "output_type": "stream",
     "text": [
      "/Users/daniela/Documents/myRepos/housing_prediction_ny/ENV/lib/python3.9/site-packages/seaborn/distributions.py:2619: FutureWarning: `distplot` is a deprecated function and will be removed in a future version. Please adapt your code to use either `displot` (a figure-level function with similar flexibility) or `histplot` (an axes-level function for histograms).\n",
      "  warnings.warn(msg, FutureWarning)\n",
      "/Users/daniela/Documents/myRepos/housing_prediction_ny/ENV/lib/python3.9/site-packages/seaborn/distributions.py:2619: FutureWarning: `distplot` is a deprecated function and will be removed in a future version. Please adapt your code to use either `displot` (a figure-level function with similar flexibility) or `histplot` (an axes-level function for histograms).\n",
      "  warnings.warn(msg, FutureWarning)\n"
     ]
    },
    {
     "data": {
      "text/plain": [
       "[Text(0.5, 0, 'Price Transformed ')]"
      ]
     },
     "execution_count": 15,
     "metadata": {},
     "output_type": "execute_result"
    },
    {
     "data": {
      "image/png": "[encoded data removed]",
      "text/plain": [
       "<Figure size 720x360 with 2 Axes>"
      ]
     },
     "metadata": {},
     "output_type": "display_data"
    }
   ],
   "source": [
    "\n",
    "fig, axes = plt.subplots(1, 2, figsize=(10, 5))\n",
    "ax1 = sns.distplot(df_win['price'], ax=axes[0])\n",
    "ax1.set(xlabel='Price Original ')\n",
    "sns.set_palette(\"Paired\")\n",
    "ax2 = sns.distplot(np.log1p(pd.DataFrame(df_all['price']).reset_index().drop(['index'], axis=1)), ax=axes[1], color = 'r')\n",
    "ax2.set(xlabel='Price Transformed ')"
   ]
  },
  {
   "cell_type": "code",
   "execution_count": 16,
   "metadata": {},
   "outputs": [
    {
     "name": "stderr",
     "output_type": "stream",
     "text": [
      "/Users/daniela/Documents/myRepos/housing_prediction_ny/ENV/lib/python3.9/site-packages/seaborn/distributions.py:2619: FutureWarning: `distplot` is a deprecated function and will be removed in a future version. Please adapt your code to use either `displot` (a figure-level function with similar flexibility) or `histplot` (an axes-level function for histograms).\n",
      "  warnings.warn(msg, FutureWarning)\n",
      "/Users/daniela/Documents/myRepos/housing_prediction_ny/ENV/lib/python3.9/site-packages/seaborn/distributions.py:2619: FutureWarning: `distplot` is a deprecated function and will be removed in a future version. Please adapt your code to use either `displot` (a figure-level function with similar flexibility) or `histplot` (an axes-level function for histograms).\n",
      "  warnings.warn(msg, FutureWarning)\n"
     ]
    },
    {
     "data": {
      "image/png": "[encoded data removed]",
      "text/plain": [
       "<Figure size 576x432 with 2 Axes>"
      ]
     },
     "metadata": {},
     "output_type": "display_data"
    }
   ],
   "source": [
    "from scipy.stats import norm\n",
    "rows = 1\n",
    "cols = 2\n",
    "fig, axes = plt.subplots(nrows=rows, ncols=cols, frameon= False)\n",
    "plt.subplots_adjust(left=None, bottom=None, right=None, top= 0.8, wspace=0.3 , hspace=0.3)\n",
    "\n",
    "\n",
    "g4  = sns.distplot(x = df_win['price'], ax=axes[0], fit = norm, kde = True, bins = 50, color = 'b', hist_kws = {'color':'purple', 'alpha':0.9})\n",
    "\n",
    "g5  = sns.distplot(x = df_log['price'], ax=axes[1],fit = norm, kde = True, bins = 50, color = 'b', hist_kws = {'color':'purple', 'alpha':0.9})\n",
    "\n",
    "axes[1].set_xlabel('Price')\n",
    "axes[0].set_xlabel('Price Log Transformed')\n",
    "axes[0].set_ylabel('Density')\n",
    "axes[1].set_ylabel('Density')\n",
    "plt.tight_layout() \n",
    "plt.show()"
   ]
  },
  {
   "cell_type": "code",
   "execution_count": 17,
   "metadata": {},
   "outputs": [
    {
     "data": {
      "text/plain": [
       "id                                0\n",
       "name                              0\n",
       "latitude                          0\n",
       "longitude                         0\n",
       "room_type                         0\n",
       "price                             0\n",
       "minimum_nights                    0\n",
       "number_of_reviews                 0\n",
       "reviews_per_month                 0\n",
       "calculated_host_listings_count    0\n",
       "availability_365                  0\n",
       "NG_Brooklyn                       0\n",
       "NG_Manhattan                      0\n",
       "NG_Queens                         0\n",
       "NG_Staten Island                  0\n",
       "amenities_500                     0\n",
       "leisure_500                       0\n",
       "subway_500                        0\n",
       "natural_500                       0\n",
       "dtype: int64"
      ]
     },
     "execution_count": 17,
     "metadata": {},
     "output_type": "execute_result"
    }
   ],
   "source": [
    "#here check which dont have data \n",
    "df_log.isna().sum()"
   ]
  },
  {
   "cell_type": "code",
   "execution_count": 18,
   "metadata": {},
   "outputs": [],
   "source": [
    "#scale the numeric features \n",
    "df_std = df_log.copy(deep=True)\n",
    "df_std, scaler = scaler_transform('standard', df_std, exclude_vars = ['price','latitude', 'longitude', 'id','NG_Brooklyn','NG_Manhattan','NG_Queens','NG_Bronx','NG_Staten Island','room_type_Private room','room_type_Shared room'])"
   ]
  },
  {
   "cell_type": "code",
   "execution_count": 19,
   "metadata": {},
   "outputs": [
    {
     "data": {
      "text/html": [
       "<div>\n",
       "<style scoped>\n",
       "    .dataframe tbody tr th:only-of-type {\n",
       "        vertical-align: middle;\n",
       "    }\n",
       "\n",
       "    .dataframe tbody tr th {\n",
       "        vertical-align: top;\n",
       "    }\n",
       "\n",
       "    .dataframe thead th {\n",
       "        text-align: right;\n",
       "    }\n",
       "</style>\n",
       "<table border=\"1\" class=\"dataframe\">\n",
       "  <thead>\n",
       "    <tr style=\"text-align: right;\">\n",
       "      <th></th>\n",
       "      <th>room_type</th>\n",
       "      <th>minimum_nights</th>\n",
       "      <th>number_of_reviews</th>\n",
       "      <th>reviews_per_month</th>\n",
       "      <th>calculated_host_listings_count</th>\n",
       "      <th>availability_365</th>\n",
       "      <th>amenities_500</th>\n",
       "      <th>leisure_500</th>\n",
       "      <th>subway_500</th>\n",
       "      <th>natural_500</th>\n",
       "      <th>id</th>\n",
       "      <th>latitude</th>\n",
       "      <th>longitude</th>\n",
       "      <th>price</th>\n",
       "      <th>NG_Brooklyn</th>\n",
       "      <th>NG_Manhattan</th>\n",
       "      <th>NG_Queens</th>\n",
       "      <th>NG_Staten Island</th>\n",
       "      <th>name</th>\n",
       "    </tr>\n",
       "  </thead>\n",
       "  <tbody>\n",
       "    <tr>\n",
       "      <th>0</th>\n",
       "      <td>-1.048207</td>\n",
       "      <td>-0.571144</td>\n",
       "      <td>-0.321181</td>\n",
       "      <td>-0.552523</td>\n",
       "      <td>-0.034987</td>\n",
       "      <td>1.916459</td>\n",
       "      <td>-0.704809</td>\n",
       "      <td>-0.217848</td>\n",
       "      <td>-0.551365</td>\n",
       "      <td>-0.558404</td>\n",
       "      <td>2539</td>\n",
       "      <td>40.64749</td>\n",
       "      <td>-73.97237</td>\n",
       "      <td>5.010635</td>\n",
       "      <td>1</td>\n",
       "      <td>0</td>\n",
       "      <td>0</td>\n",
       "      <td>0</td>\n",
       "      <td>Clean &amp; quiet apt home by the park</td>\n",
       "    </tr>\n",
       "    <tr>\n",
       "      <th>1</th>\n",
       "      <td>0.799788</td>\n",
       "      <td>-0.571144</td>\n",
       "      <td>0.486321</td>\n",
       "      <td>-0.446148</td>\n",
       "      <td>-0.156260</td>\n",
       "      <td>1.840484</td>\n",
       "      <td>1.886358</td>\n",
       "      <td>-0.579606</td>\n",
       "      <td>3.342925</td>\n",
       "      <td>7.050111</td>\n",
       "      <td>2595</td>\n",
       "      <td>40.75362</td>\n",
       "      <td>-73.98377</td>\n",
       "      <td>5.420535</td>\n",
       "      <td>0</td>\n",
       "      <td>1</td>\n",
       "      <td>0</td>\n",
       "      <td>0</td>\n",
       "      <td>Skylit Midtown Castle</td>\n",
       "    </tr>\n",
       "    <tr>\n",
       "      <th>2</th>\n",
       "      <td>-1.048207</td>\n",
       "      <td>-0.340678</td>\n",
       "      <td>-0.523057</td>\n",
       "      <td>-0.683928</td>\n",
       "      <td>-0.186579</td>\n",
       "      <td>1.916459</td>\n",
       "      <td>-0.687301</td>\n",
       "      <td>0.324789</td>\n",
       "      <td>0.422207</td>\n",
       "      <td>-0.558404</td>\n",
       "      <td>3647</td>\n",
       "      <td>40.80902</td>\n",
       "      <td>-73.94190</td>\n",
       "      <td>5.017280</td>\n",
       "      <td>0</td>\n",
       "      <td>1</td>\n",
       "      <td>0</td>\n",
       "      <td>0</td>\n",
       "      <td>THE VILLAGE OF HARLEM....NEW YORK !</td>\n",
       "    </tr>\n",
       "    <tr>\n",
       "      <th>3</th>\n",
       "      <td>0.799788</td>\n",
       "      <td>-0.571144</td>\n",
       "      <td>5.533213</td>\n",
       "      <td>2.219496</td>\n",
       "      <td>-0.186579</td>\n",
       "      <td>0.617287</td>\n",
       "      <td>-0.494714</td>\n",
       "      <td>-0.217848</td>\n",
       "      <td>0.422207</td>\n",
       "      <td>-0.558404</td>\n",
       "      <td>3831</td>\n",
       "      <td>40.68514</td>\n",
       "      <td>-73.95976</td>\n",
       "      <td>4.499810</td>\n",
       "      <td>1</td>\n",
       "      <td>0</td>\n",
       "      <td>0</td>\n",
       "      <td>0</td>\n",
       "      <td>Cozy Entire Floor of Brownstone</td>\n",
       "    </tr>\n",
       "    <tr>\n",
       "      <th>4</th>\n",
       "      <td>0.799788</td>\n",
       "      <td>0.465951</td>\n",
       "      <td>-0.321181</td>\n",
       "      <td>-0.621354</td>\n",
       "      <td>-0.186579</td>\n",
       "      <td>-0.856629</td>\n",
       "      <td>-0.687301</td>\n",
       "      <td>-0.036969</td>\n",
       "      <td>-0.551365</td>\n",
       "      <td>-0.558404</td>\n",
       "      <td>5022</td>\n",
       "      <td>40.79851</td>\n",
       "      <td>-73.94399</td>\n",
       "      <td>4.394449</td>\n",
       "      <td>0</td>\n",
       "      <td>1</td>\n",
       "      <td>0</td>\n",
       "      <td>0</td>\n",
       "      <td>Entire Apt: Spacious Studio/Loft by central park</td>\n",
       "    </tr>\n",
       "  </tbody>\n",
       "</table>\n",
       "</div>"
      ],
      "text/plain": [
       "   room_type  minimum_nights  number_of_reviews  reviews_per_month  \\\n",
       "0  -1.048207       -0.571144          -0.321181          -0.552523   \n",
       "1   0.799788       -0.571144           0.486321          -0.446148   \n",
       "2  -1.048207       -0.340678          -0.523057          -0.683928   \n",
       "3   0.799788       -0.571144           5.533213           2.219496   \n",
       "4   0.799788        0.465951          -0.321181          -0.621354   \n",
       "\n",
       "   calculated_host_listings_count  availability_365  amenities_500  \\\n",
       "0                       -0.034987          1.916459      -0.704809   \n",
       "1                       -0.156260          1.840484       1.886358   \n",
       "2                       -0.186579          1.916459      -0.687301   \n",
       "3                       -0.186579          0.617287      -0.494714   \n",
       "4                       -0.186579         -0.856629      -0.687301   \n",
       "\n",
       "   leisure_500  subway_500  natural_500    id  latitude  longitude     price  \\\n",
       "0    -0.217848   -0.551365    -0.558404  2539  40.64749  -73.97237  5.010635   \n",
       "1    -0.579606    3.342925     7.050111  2595  40.75362  -73.98377  5.420535   \n",
       "2     0.324789    0.422207    -0.558404  3647  40.80902  -73.94190  5.017280   \n",
       "3    -0.217848    0.422207    -0.558404  3831  40.68514  -73.95976  4.499810   \n",
       "4    -0.036969   -0.551365    -0.558404  5022  40.79851  -73.94399  4.394449   \n",
       "\n",
       "   NG_Brooklyn  NG_Manhattan  NG_Queens  NG_Staten Island  \\\n",
       "0            1             0          0                 0   \n",
       "1            0             1          0                 0   \n",
       "2            0             1          0                 0   \n",
       "3            1             0          0                 0   \n",
       "4            0             1          0                 0   \n",
       "\n",
       "                                               name  \n",
       "0                Clean & quiet apt home by the park  \n",
       "1                             Skylit Midtown Castle  \n",
       "2               THE VILLAGE OF HARLEM....NEW YORK !  \n",
       "3                   Cozy Entire Floor of Brownstone  \n",
       "4  Entire Apt: Spacious Studio/Loft by central park  "
      ]
     },
     "execution_count": 19,
     "metadata": {},
     "output_type": "execute_result"
    }
   ],
   "source": [
    "df_std.head()"
   ]
  },
  {
   "cell_type": "markdown",
   "metadata": {},
   "source": [
    "## Split data\n",
    "\n"
   ]
  },
  {
   "cell_type": "code",
   "execution_count": 21,
   "metadata": {},
   "outputs": [],
   "source": [
    "from sklearn.model_selection import train_test_split"
   ]
  },
  {
   "cell_type": "code",
   "execution_count": 22,
   "metadata": {},
   "outputs": [],
   "source": [
    "df_standardized = df_std.copy(deep=True)\n",
    "y_transformed= df_standardized['price']\n",
    "X_transformed= df_standardized.drop(['price','name','id'], axis=1)\n",
    "X_train_t, X_test_t, y_train_t, y_test_t = train_test_split(X_transformed, y_transformed, test_size=0.2, random_state=42)\n",
    "train_df_transformed = pd.concat([X_train_t, y_train_t], axis=1)\n",
    "test_df_transformed = pd.concat([X_test_t, y_test_t], axis=1)\n"
   ]
  },
  {
   "cell_type": "code",
   "execution_count": 23,
   "metadata": {},
   "outputs": [],
   "source": [
    "X = df_all.drop(['price','name','id','latitude','longitude'], axis=1)\n",
    "y = df_all['price']\n",
    "X_train, X_test, y_train, y_test = train_test_split(X, y, test_size=0.2, random_state=42)\n",
    "train_df = pd.concat([X_train, y_train], axis=1)\n",
    "test_df = pd.concat([X_test, y_test], axis=1)"
   ]
  },
  {
   "cell_type": "code",
   "execution_count": 24,
   "metadata": {},
   "outputs": [
    {
     "data": {
      "text/plain": [
       "(48800, 19)"
      ]
     },
     "execution_count": 24,
     "metadata": {},
     "output_type": "execute_result"
    }
   ],
   "source": [
    "df_all.shape"
   ]
  },
  {
   "cell_type": "code",
   "execution_count": 25,
   "metadata": {},
   "outputs": [],
   "source": [
    "filename_original = files_dir + \"df_all_send.csv\"\n",
    "df_all.to_csv(filename_original, index=False)"
   ]
  },
  {
   "cell_type": "code",
   "execution_count": 26,
   "metadata": {},
   "outputs": [
    {
     "data": {
      "text/plain": [
       "Index(['id', 'name', 'latitude', 'longitude', 'room_type', 'price',\n",
       "       'minimum_nights', 'number_of_reviews', 'reviews_per_month',\n",
       "       'calculated_host_listings_count', 'availability_365', 'NG_Brooklyn',\n",
       "       'NG_Manhattan', 'NG_Queens', 'NG_Staten Island', 'amenities_500',\n",
       "       'leisure_500', 'subway_500', 'natural_500'],\n",
       "      dtype='object')"
      ]
     },
     "execution_count": 26,
     "metadata": {},
     "output_type": "execute_result"
    }
   ],
   "source": [
    "df_all.columns"
   ]
  },
  {
   "cell_type": "markdown",
   "metadata": {},
   "source": [
    "## Benchmarking models"
   ]
  },
  {
   "cell_type": "code",
   "execution_count": 27,
   "metadata": {},
   "outputs": [
    {
     "name": "stderr",
     "output_type": "stream",
     "text": [
      "/Users/daniela/Documents/myRepos/housing_prediction_ny/ENV/lib/python3.9/site-packages/xgboost/compat.py:36: FutureWarning: pandas.Int64Index is deprecated and will be removed from pandas in a future version. Use pandas.Index with the appropriate dtype instead.\n",
      "  from pandas import MultiIndex, Int64Index\n"
     ]
    }
   ],
   "source": [
    "from sklearn.linear_model import LinearRegression\n",
    "from sklearn.compose import TransformedTargetRegressor\n",
    "from sklearn.metrics import r2_score, mean_squared_error\n",
    "from sklearn.tree import DecisionTreeRegressor\n",
    "from sklearn.ensemble import RandomForestRegressor\n",
    "\n",
    "from xgboost import XGBRegressor\n",
    "\n",
    "from sklearn.feature_selection import RFECV, RFE\n",
    "from sklearn.model_selection import cross_val_score\n",
    "from sklearn.pipeline import Pipeline\n",
    "from sklearn.preprocessing import StandardScaler\n",
    "from sklearn.preprocessing import FunctionTransformer\n",
    "from xgboost import XGBRegressor"
   ]
  },
  {
   "cell_type": "code",
   "execution_count": 28,
   "metadata": {},
   "outputs": [
    {
     "name": "stdout",
     "output_type": "stream",
     "text": [
      "RMSE score : 90.32430419064795\n",
      "R2 score : 0.21579543240401144\n"
     ]
    }
   ],
   "source": [
    "\n",
    "linreg=LinearRegression()\n",
    "tt = TransformedTargetRegressor(regressor=linreg,\n",
    "                                 func=np.log1p, inverse_func=np.expm1)\n",
    "tt.fit(X_train_t,y_train_t)\n",
    "y_pred=tt.predict(X_test_t)\n",
    "y_pred_invtransformed = np.expm1(y_pred)\n",
    "y_test_invtransformed = np.expm1(y_test_t)\n",
    "r2=r2_score(y_test_invtransformed ,y_pred_invtransformed )\n",
    "rmse_score=np.sqrt(mean_squared_error(y_test_invtransformed ,y_pred_invtransformed ))\n",
    "print(f'RMSE score : {rmse_score}')\n",
    "print(f'R2 score : {r2}')\n"
   ]
  },
  {
   "cell_type": "code",
   "execution_count": 29,
   "metadata": {},
   "outputs": [
    {
     "name": "stdout",
     "output_type": "stream",
     "text": [
      "RMSE score : 85.59845397440438\n",
      "R2 score : 0.2957092901617592\n"
     ]
    }
   ],
   "source": [
    "\n",
    "\n",
    "dt=DecisionTreeRegressor(min_samples_leaf=.0001)\n",
    "tt = TransformedTargetRegressor(regressor=dt,\n",
    "                                 func=np.log1p, inverse_func=np.expm1)\n",
    "tt.fit(X_train_t,y_train_t)\n",
    "y_pred=tt.predict(X_test_t)\n",
    "\n",
    "y_pred_invtransformed = np.expm1(y_pred)\n",
    "y_test_invtransformed = np.expm1(y_test_t)\n",
    "r2=r2_score(y_test_invtransformed ,y_pred_invtransformed )\n",
    "rmse_score=np.sqrt(mean_squared_error(y_test_invtransformed ,y_pred_invtransformed ))\n",
    "print(f'RMSE score : {rmse_score}')\n",
    "print(f'R2 score : {r2}')"
   ]
  },
  {
   "cell_type": "code",
   "execution_count": 30,
   "metadata": {},
   "outputs": [
    {
     "name": "stdout",
     "output_type": "stream",
     "text": [
      "RMSE score : 72.24618857981524\n",
      "R2 score : 0.49829318665309885\n"
     ]
    }
   ],
   "source": [
    "#Random forest regression \n",
    "\n",
    "regrRM2 = RandomForestRegressor(n_estimators=200, max_depth = 50, min_samples_split = 5,min_samples_leaf =4)\n",
    "regrRM2.fit(X_train_t, y_train_t)\n",
    "y_pred=regrRM2.predict(X_test_t)\n",
    "y_pred_invtransformed = np.expm1(y_pred)\n",
    "y_test_invtransformed = np.expm1(y_test_t)\n",
    "r2=r2_score(y_test_invtransformed ,y_pred_invtransformed )\n",
    "rmse_score=np.sqrt(mean_squared_error(y_test_invtransformed ,y_pred_invtransformed ))\n",
    "print(f'RMSE score : {rmse_score}')\n",
    "print(f'R2 score : {r2}')"
   ]
  },
  {
   "cell_type": "code",
   "execution_count": 31,
   "metadata": {},
   "outputs": [
    {
     "name": "stderr",
     "output_type": "stream",
     "text": [
      "/Users/daniela/Documents/myRepos/housing_prediction_ny/ENV/lib/python3.9/site-packages/xgboost/data.py:262: FutureWarning: pandas.Int64Index is deprecated and will be removed from pandas in a future version. Use pandas.Index with the appropriate dtype instead.\n",
      "  elif isinstance(data.columns, (pd.Int64Index, pd.RangeIndex)):\n"
     ]
    },
    {
     "name": "stdout",
     "output_type": "stream",
     "text": [
      "RMSE score : 72.5137211481754\n",
      "R2 score : 0.4945705977308157\n"
     ]
    }
   ],
   "source": [
    "\n",
    "xgboost_model = XGBRegressor(n_estimators=1000, learning_rate=0.05, n_jobs=4, random_state=42, max_depth = 8)\n",
    "pipe = TransformedTargetRegressor(regressor=xgboost_model,\n",
    "                                 func=np.log1p, inverse_func=np.expm1)\n",
    "pipe.fit(X_train_t, y_train_t, \n",
    "             early_stopping_rounds=5, \n",
    "             eval_set=[(X_test_t, y_test_t)], \n",
    "             verbose=False)\n",
    "y_pred = pipe.predict(X_test_t)\n",
    "y_pred_invtransformed = np.expm1(y_pred)\n",
    "y_test_invtransformed = np.expm1(y_test_t)\n",
    "r2=r2_score(y_test_invtransformed ,y_pred_invtransformed )\n",
    "rmse_score=np.sqrt(mean_squared_error(y_test_invtransformed ,y_pred_invtransformed ))\n",
    "print(f'RMSE score : {rmse_score}')\n",
    "print(f'R2 score : {r2}')"
   ]
  },
  {
   "cell_type": "code",
   "execution_count": 32,
   "metadata": {},
   "outputs": [
    {
     "name": "stdout",
     "output_type": "stream",
     "text": [
      "[14:33:24] WARNING: /Users/runner/work/xgboost/xgboost/src/learner.cc:576: \n",
      "Parameters: { \"feature_fraction\", \"num_leaves\" } might not be used.\n",
      "\n",
      "  This could be a false alarm, with some parameters getting used by language bindings but\n",
      "  then being mistakenly passed down to XGBoost core, or some parameter actually being used\n",
      "  but getting flagged wrongly here. Please open an issue if you find any such cases.\n",
      "\n",
      "\n",
      "[14:33:25] WARNING: /Users/runner/work/xgboost/xgboost/src/learner.cc:576: \n",
      "Parameters: { \"feature_fraction\", \"num_leaves\" } might not be used.\n",
      "\n",
      "  This could be a false alarm, with some parameters getting used by language bindings but\n",
      "  then being mistakenly passed down to XGBoost core, or some parameter actually being used\n",
      "  but getting flagged wrongly here. Please open an issue if you find any such cases.\n",
      "\n",
      "\n",
      "[14:33:27] WARNING: /Users/runner/work/xgboost/xgboost/src/learner.cc:576: \n",
      "Parameters: { \"feature_fraction\", \"num_leaves\" } might not be used.\n",
      "\n",
      "  This could be a false alarm, with some parameters getting used by language bindings but\n",
      "  then being mistakenly passed down to XGBoost core, or some parameter actually being used\n",
      "  but getting flagged wrongly here. Please open an issue if you find any such cases.\n",
      "\n",
      "\n",
      "[14:33:28] WARNING: /Users/runner/work/xgboost/xgboost/src/learner.cc:576: \n",
      "Parameters: { \"feature_fraction\", \"num_leaves\" } might not be used.\n",
      "\n",
      "  This could be a false alarm, with some parameters getting used by language bindings but\n",
      "  then being mistakenly passed down to XGBoost core, or some parameter actually being used\n",
      "  but getting flagged wrongly here. Please open an issue if you find any such cases.\n",
      "\n",
      "\n",
      "[14:33:29] WARNING: /Users/runner/work/xgboost/xgboost/src/learner.cc:576: \n",
      "Parameters: { \"feature_fraction\", \"num_leaves\" } might not be used.\n",
      "\n",
      "  This could be a false alarm, with some parameters getting used by language bindings but\n",
      "  then being mistakenly passed down to XGBoost core, or some parameter actually being used\n",
      "  but getting flagged wrongly here. Please open an issue if you find any such cases.\n",
      "\n",
      "\n",
      "[14:33:30] WARNING: /Users/runner/work/xgboost/xgboost/src/learner.cc:576: \n",
      "Parameters: { \"feature_fraction\", \"num_leaves\" } might not be used.\n",
      "\n",
      "  This could be a false alarm, with some parameters getting used by language bindings but\n",
      "  then being mistakenly passed down to XGBoost core, or some parameter actually being used\n",
      "  but getting flagged wrongly here. Please open an issue if you find any such cases.\n",
      "\n",
      "\n",
      "[14:33:32] WARNING: /Users/runner/work/xgboost/xgboost/src/learner.cc:576: \n",
      "Parameters: { \"feature_fraction\", \"num_leaves\" } might not be used.\n",
      "\n",
      "  This could be a false alarm, with some parameters getting used by language bindings but\n",
      "  then being mistakenly passed down to XGBoost core, or some parameter actually being used\n",
      "  but getting flagged wrongly here. Please open an issue if you find any such cases.\n",
      "\n",
      "\n",
      "Column: room_type, Selected True, Rank: 1.000\n",
      "Column: minimum_nights, Selected True, Rank: 1.000\n",
      "Column: number_of_reviews, Selected False, Rank: 2.000\n",
      "Column: reviews_per_month, Selected True, Rank: 1.000\n",
      "Column: calculated_host_listings_count, Selected True, Rank: 1.000\n",
      "Column: availability_365, Selected True, Rank: 1.000\n",
      "Column: amenities_500, Selected True, Rank: 1.000\n",
      "Column: leisure_500, Selected False, Rank: 4.000\n",
      "Column: subway_500, Selected False, Rank: 3.000\n",
      "Column: natural_500, Selected True, Rank: 1.000\n",
      "Column: latitude, Selected True, Rank: 1.000\n",
      "Column: longitude, Selected True, Rank: 1.000\n",
      "Column: NG_Brooklyn, Selected False, Rank: 5.000\n",
      "Column: NG_Manhattan, Selected True, Rank: 1.000\n",
      "Column: NG_Queens, Selected False, Rank: 6.000\n",
      "Column: NG_Staten Island, Selected False, Rank: 7.000\n"
     ]
    }
   ],
   "source": []
  },
  {
   "cell_type": "code",
   "execution_count": 33,
   "metadata": {},
   "outputs": [
    {
     "name": "stderr",
     "output_type": "stream",
     "text": [
      "/Users/daniela/Documents/myRepos/housing_prediction_ny/ENV/lib/python3.9/site-packages/xgboost/data.py:262: FutureWarning: pandas.Int64Index is deprecated and will be removed from pandas in a future version. Use pandas.Index with the appropriate dtype instead.\n",
      "  elif isinstance(data.columns, (pd.Int64Index, pd.RangeIndex)):\n"
     ]
    },
    {
     "name": "stdout",
     "output_type": "stream",
     "text": [
      "RMSE score : 72.77573551698134\n",
      "R2 score : 0.4909114552005327\n"
     ]
    },
    {
     "name": "stderr",
     "output_type": "stream",
     "text": [
      "/Users/daniela/Documents/myRepos/housing_prediction_ny/ENV/lib/python3.9/site-packages/xgboost/data.py:262: FutureWarning: pandas.Int64Index is deprecated and will be removed from pandas in a future version. Use pandas.Index with the appropriate dtype instead.\n",
      "  elif isinstance(data.columns, (pd.Int64Index, pd.RangeIndex)):\n"
     ]
    }
   ],
   "source": [
    "\n",
    "xgboost_model = XGBRegressor(n_estimators=1000, learning_rate=0.05, n_jobs=4, random_state=42, max_depth = 8)\n",
    "pipe = TransformedTargetRegressor(regressor=xgboost_model,\n",
    "                                 func=np.log1p, inverse_func=np.expm1)\n",
    "pipe.fit(X_train_t[selected_feat_lgb], y_train_t, \n",
    "             early_stopping_rounds=5, \n",
    "             eval_set=[(X_test_t[selected_feat_lgb], y_test_t)], \n",
    "             verbose=False)\n",
    "y_pred = pipe.predict(X_test_t[selected_feat_lgb])\n",
    "y_pred_invtransformed = np.expm1(y_pred)\n",
    "y_test_invtransformed = np.expm1(y_test_t)\n",
    "r2=r2_score(y_test_invtransformed ,y_pred_invtransformed )\n",
    "rmse_score=np.sqrt(mean_squared_error(y_test_invtransformed ,y_pred_invtransformed ))\n",
    "print(f'RMSE score : {rmse_score}')\n",
    "print(f'R2 score : {r2}')"
   ]
  },
  {
   "cell_type": "code",
   "execution_count": 34,
   "metadata": {},
   "outputs": [
    {
     "name": "stderr",
     "output_type": "stream",
     "text": [
      "/Users/daniela/Documents/myRepos/housing_prediction_ny/ENV/lib/python3.9/site-packages/pandas/core/internals/blocks.py:402: RuntimeWarning: invalid value encountered in log1p\n",
      "  result = func(self.values, **kwargs)\n",
      "/Users/daniela/Documents/myRepos/housing_prediction_ny/ENV/lib/python3.9/site-packages/xgboost/data.py:262: FutureWarning: pandas.Int64Index is deprecated and will be removed from pandas in a future version. Use pandas.Index with the appropriate dtype instead.\n",
      "  elif isinstance(data.columns, (pd.Int64Index, pd.RangeIndex)):\n"
     ]
    },
    {
     "name": "stdout",
     "output_type": "stream",
     "text": [
      "RMSE score : 72.58623799690994\n",
      "R2 score : 0.49355918985396485\n"
     ]
    }
   ],
   "source": [
    "\n",
    "\n",
    "scaler = StandardScaler()\n",
    "transformer = FunctionTransformer(np.log1p)\n",
    "xgb_pipe = Pipeline(steps=[('transformer', transformer), ('regressor', xgboost_model)])\n",
    "xgb_pipe.fit(X_train_t, y_train_t)\n",
    "y_pred = xgb_pipe.predict(X_test_t)\n",
    "y_pred_invtransformed = np.expm1(y_pred)\n",
    "y_test_invtransformed = np.expm1(y_test_t)\n",
    "r2=r2_score(y_test_invtransformed ,y_pred_invtransformed )\n",
    "rmse_score=np.sqrt(mean_squared_error(y_test_invtransformed ,y_pred_invtransformed ))\n",
    "print(f'RMSE score : {rmse_score}')\n",
    "print(f'R2 score : {r2}')"
   ]
  },
  {
   "cell_type": "code",
   "execution_count": 35,
   "metadata": {},
   "outputs": [
    {
     "name": "stderr",
     "output_type": "stream",
     "text": [
      "/Users/daniela/Documents/myRepos/housing_prediction_ny/ENV/lib/python3.9/site-packages/pandas/core/internals/blocks.py:402: RuntimeWarning: invalid value encountered in log1p\n",
      "  result = func(self.values, **kwargs)\n",
      "/Users/daniela/Documents/myRepos/housing_prediction_ny/ENV/lib/python3.9/site-packages/xgboost/data.py:262: FutureWarning: pandas.Int64Index is deprecated and will be removed from pandas in a future version. Use pandas.Index with the appropriate dtype instead.\n",
      "  elif isinstance(data.columns, (pd.Int64Index, pd.RangeIndex)):\n"
     ]
    },
    {
     "name": "stdout",
     "output_type": "stream",
     "text": [
      "RMSE score : 73.45421273876063\n",
      "R2 score : 0.4813748958415257\n"
     ]
    },
    {
     "name": "stderr",
     "output_type": "stream",
     "text": [
      "/Users/daniela/Documents/myRepos/housing_prediction_ny/ENV/lib/python3.9/site-packages/pandas/core/internals/blocks.py:402: RuntimeWarning: invalid value encountered in log1p\n",
      "  result = func(self.values, **kwargs)\n",
      "/Users/daniela/Documents/myRepos/housing_prediction_ny/ENV/lib/python3.9/site-packages/xgboost/data.py:262: FutureWarning: pandas.Int64Index is deprecated and will be removed from pandas in a future version. Use pandas.Index with the appropriate dtype instead.\n",
      "  elif isinstance(data.columns, (pd.Int64Index, pd.RangeIndex)):\n"
     ]
    }
   ],
   "source": [
    "scaler = StandardScaler()\n",
    "transformer = FunctionTransformer(np.log1p)\n",
    "xgb_pipe = Pipeline(steps=[('transformer', transformer), ('regressor', xgboost_model)])\n",
    "xgb_pipe.fit(X_train_t[selected_feat_lgb], y_train_t)\n",
    "y_pred = xgb_pipe.predict(X_test_t[selected_feat_lgb])\n",
    "y_pred_invtransformed = np.expm1(y_pred)\n",
    "y_test_invtransformed = np.expm1(y_test_t)\n",
    "r2=r2_score(y_test_invtransformed ,y_pred_invtransformed )\n",
    "rmse_score=np.sqrt(mean_squared_error(y_test_invtransformed ,y_pred_invtransformed ))\n",
    "print(f'RMSE score : {rmse_score}')\n",
    "print(f'R2 score : {r2}')"
   ]
  },
  {
   "cell_type": "markdown",
   "metadata": {},
   "source": [
    "## Model Selection"
   ]
  },
  {
   "cell_type": "code",
   "execution_count": null,
   "metadata": {},
   "outputs": [],
   "source": [
    "estimator_xgb_selected= XGBRegressor(num_leaves = 11, max_depth =  6, feature_fraction = 0.7855246439257477, learning_rate = 0.25056586961086624)\n",
    "rfe = RFE(estimator_xgb_selected, n_features_to_select=  10)\n",
    "rfe.fit(X_train_t, y_train_t)\n",
    "selected_feat_lgb = []\n",
    "for i in range(X_train_t.shape[1]):\n",
    "    print('Column: %s, Selected %s, Rank: %.3f' % (X_train_t.columns[i], rfe.support_[i], rfe.ranking_[i]))\n",
    "    if rfe.support_[i] == True: \n",
    "        selected_feat_lgb.append(X_train_t.columns[i])   \n",
    "selected_feat_lgb"
   ]
  },
  {
   "cell_type": "markdown",
   "metadata": {},
   "source": [
    "## Optimizing the Hyperparameters"
   ]
  },
  {
   "cell_type": "code",
   "execution_count": 61,
   "metadata": {},
   "outputs": [],
   "source": [
    "from sklearn.model_selection import GridSearchCV\n",
    "from sklearn.model_selection import KFold\n",
    "#ignore warnings\n",
    "import warnings\n",
    "warnings.filterwarnings('ignore')\n",
    "# optimization\n",
    "import optuna\n",
    "from optuna.samplers import  TPESampler"
   ]
  },
  {
   "cell_type": "code",
   "execution_count": 62,
   "metadata": {},
   "outputs": [],
   "source": [
    "def objective_function(trial,X,y):\n",
    "    train_x, test_x, train_y, test_y = train_test_split(X, y, test_size=0.2,random_state=42)\n",
    "    param = {\n",
    "        'num_leaves': trial.suggest_int( 'num_leaves', 8 , 20),\n",
    "        'max_depth': trial.suggest_int('max_depth', 5, 20),\n",
    "        'feature_fraction': trial.suggest_loguniform('feature_fraction', 0.7,0.9),\n",
    "        'learning_rate': trial.suggest_loguniform('learning_rate', 0.2,0.5),\n",
    "        'n_estimators': 4000\n",
    "    }\n",
    "    model = XGBRegressor(**param)  \n",
    "    \n",
    "    model.fit(train_x,train_y,eval_set=[(test_x,test_y)],early_stopping_rounds=10,verbose=False)\n",
    "    \n",
    "    preds = model.predict(test_x)\n",
    "    trans_preds = np.expm1(preds)\n",
    "    trans_tests = np.expm1(test_y)\n",
    "    rmse = mean_squared_error(trans_tests, trans_preds,squared=False)\n",
    "    return rmse"
   ]
  },
  {
   "cell_type": "code",
   "execution_count": 64,
   "metadata": {},
   "outputs": [],
   "source": [
    "# study = optuna.create_study(sampler=TPESampler(seed=42))\n",
    "# study.optimize(\n",
    "#     lambda trial: objective_function(\n",
    "#         trial=trial,\n",
    "#         X = X_train_t[selected_feat_lgb],\n",
    "#         y = y_train_t,\n",
    "#     )    \n",
    "# )\n",
    "# print('Number of finished trials:', len(study.trials))\n",
    "# print('Best trial:', study.best_trial.params)"
   ]
  },
  {
   "cell_type": "markdown",
   "metadata": {},
   "source": [
    "## CV Evalutation\n"
   ]
  },
  {
   "cell_type": "code",
   "execution_count": 43,
   "metadata": {},
   "outputs": [],
   "source": [
    "estimator_xgb_selected= XGBRegressor(num_leaves = 14, max_depth =  7, feature_fraction = 0.7402283829232867, learning_rate = 0.24846947488119883)"
   ]
  },
  {
   "cell_type": "code",
   "execution_count": 44,
   "metadata": {},
   "outputs": [],
   "source": [
    "import time\n",
    "# Sklearn Models and Evaluation\n",
    "from sklearn import metrics, utils\n",
    "from sklearn.dummy import  DummyRegressor\n",
    "from sklearn.model_selection import KFold\n",
    "from sklearn.neighbors import KNeighborsRegressor\n",
    "def cross_validation_report_reg(X,y, model, model_name,  scale = False, log_transform = False):\n",
    "    kf =KFold(n_splits=10, random_state=rs, shuffle = True)\n",
    "    # define X and y\n",
    "    y = y.values\n",
    "    X = X.values\n",
    "    X, y = utils.shuffle(X, y, random_state=rs)\n",
    "    mae_scores = []\n",
    "    mse_scores = []\n",
    "\n",
    "    r2_scores = []\n",
    "    adjusted_r2 = []\n",
    "    rmse_scores = []\n",
    "    if log_transform == True:\n",
    "        model = TransformedTargetRegressor(regressor=model,                  \n",
    "        func=np.log1p, inverse_func=np.expm1)\n",
    "    st = time.time()\n",
    "    for train_index, test_index in kf.split(X):\n",
    "    # Split train-test\n",
    "        X_train, X_test = X[train_index], X[test_index]\n",
    "        y_train, y_test = y[train_index], y[test_index]\n",
    "      #Scale\n",
    "        if scale == True:\n",
    "            scaler = StandardScaler()\n",
    "            scaler.fit(X_train)\n",
    "            X_train = scaler.transform(X_train)\n",
    "            X_test = scaler.transform(X_test)\n",
    "        model = model.fit(X_train, y_train)\n",
    "        # Append scores\n",
    "        y_pred = model.predict(X_test)\n",
    "\n",
    "        r2_scores.append(metrics.r2_score(y_test,y_pred))\n",
    "        adjusted_r2.append(1 - (1-metrics.r2_score(y_test,y_pred))*(len(y_test)-1)/(len(y_test)-X_test.shape[1]-1)\n",
    "        )\n",
    "        rmse_scores.append(np.sqrt(metrics.mean_squared_error(y_test,y_pred)))\n",
    "        mae_scores.append(metrics.mean_absolute_error(y_test,y_pred))\n",
    "        mse_scores.append(metrics.mean_squared_error(y_test,y_pred))\n",
    "    \n",
    "    end = time.time()\n",
    "    measured_time = end-st\n",
    "    print('Process Complete in : '+str(measured_time)+' sec.')\n",
    "    print(f'Model: {model_name}')\n",
    "    print(f' R2 : {np.average(r2_scores)}')\n",
    "    print(f'Adjusted R2: {np.average(adjusted_r2)}')\n",
    "    print(f' MAE : {np.average(mae_scores)}')\n",
    "    print(f' MSE : {np.average(mse_scores)}')\n",
    "    print(f'RMSE: {np.average(rmse_scores)}')\n",
    "    return mae_scores, r2_scores, adjusted_r2, rmse_scores ,measured_time,model_name"
   ]
  },
  {
   "cell_type": "code",
   "execution_count": 45,
   "metadata": {},
   "outputs": [
    {
     "data": {
      "text/plain": [
       "{'r2': {}, 'r2_adj': {}, 'rmse': {}, 'mae': {}, 'mse': {}, 'time': {}}"
      ]
     },
     "execution_count": 45,
     "metadata": {},
     "output_type": "execute_result"
    }
   ],
   "source": [
    "regressors = {}\n",
    "mae_results = {}\n",
    "mse_results = {}\n",
    "r2_results = {}\n",
    "r2_adj = {}\n",
    "rmse = {}\n",
    "reg_time = {}\n",
    "regressors['r2'] = r2_results\n",
    "regressors['r2_adj'] = r2_adj\n",
    "regressors['rmse'] = rmse\n",
    "regressors['mae'] = mae_results\n",
    "regressors['mse'] = mse_results\n",
    "regressors['time'] = reg_time\n",
    "regressors"
   ]
  },
  {
   "cell_type": "code",
   "execution_count": 46,
   "metadata": {},
   "outputs": [
    {
     "data": {
      "text/plain": [
       "(48800, 14)"
      ]
     },
     "execution_count": 46,
     "metadata": {},
     "output_type": "execute_result"
    }
   ],
   "source": [
    "X.shape"
   ]
  },
  {
   "cell_type": "code",
   "execution_count": 47,
   "metadata": {},
   "outputs": [
    {
     "data": {
      "text/plain": [
       "(48800,)"
      ]
     },
     "execution_count": 47,
     "metadata": {},
     "output_type": "execute_result"
    }
   ],
   "source": [
    "y.shape"
   ]
  },
  {
   "cell_type": "code",
   "execution_count": 48,
   "metadata": {},
   "outputs": [
    {
     "name": "stdout",
     "output_type": "stream",
     "text": [
      "Process Complete in : 0.18741083145141602 sec.\n",
      "Model: Dummy Regressor\n",
      " R2 : -0.07390560031733981\n",
      "Adjusted R2: -0.07699597614559113\n",
      " MAE : 70.87620792098437\n",
      " MSE : 11200.805801193264\n",
      "RMSE: 105.81765956396472\n"
     ]
    }
   ],
   "source": [
    "name = 'Dummy Regressor'\n",
    "dummy = DummyRegressor( strategy = 'mean')\n",
    "mae_scores, r2_scores, adjusted_r2, rmse_scores ,measured_time,model_name = cross_validation_report_reg(X\n",
    "                                                                                                        ,y,dummy,\n",
    "                                                                                                        model_name = name, \n",
    "                                                                                                        scale = True,\n",
    "                                                                                                        log_transform = True)\n",
    "mae_results[name] = mae_scores\n",
    "r2_adj[name] = adjusted_r2\n",
    "rmse[name] = rmse_scores\n",
    "r2_results[name] = r2_scores\n",
    "reg_time[name] = measured_time"
   ]
  },
  {
   "cell_type": "code",
   "execution_count": 49,
   "metadata": {},
   "outputs": [
    {
     "name": "stdout",
     "output_type": "stream",
     "text": [
      "Process Complete in : 10.085827827453613 sec.\n",
      "Model: KNN Regressor\n",
      " R2 : 0.41636254725226535\n",
      "Adjusted R2: 0.41468301501414234\n",
      " MAE : 47.99565037038569\n",
      " MSE : 6086.697517405519\n",
      "RMSE: 78.00085616483754\n"
     ]
    }
   ],
   "source": [
    "name = 'KNN Regressor'\n",
    "knnregressor = KNeighborsRegressor(n_neighbors=5)\n",
    "mae_scores, r2_scores, adjusted_r2, rmse_scores ,measured_time,model_name = cross_validation_report_reg(X\n",
    "                                                                                                        ,y,knnregressor,\n",
    "                                                                                                        model_name = name, \n",
    "                                                                                                        scale = True,\n",
    "                                                                                                        log_transform = True)\n",
    "mae_results[name] = mae_scores\n",
    "r2_adj[name] = adjusted_r2\n",
    "rmse[name] = rmse_scores\n",
    "r2_results[name] = r2_scores\n",
    "reg_time[name] = measured_time"
   ]
  },
  {
   "cell_type": "code",
   "execution_count": 50,
   "metadata": {},
   "outputs": [
    {
     "ename": "KeyboardInterrupt",
     "evalue": "",
     "output_type": "error",
     "traceback": [
      "\u001b[0;31m---------------------------------------------------------------------------\u001b[0m",
      "\u001b[0;31mKeyboardInterrupt\u001b[0m                         Traceback (most recent call last)",
      "\u001b[1;32m/Users/daniela/Documents/myRepos/ny_airbnb/project_app/project.ipynb Cell 54'\u001b[0m in \u001b[0;36m<module>\u001b[0;34m\u001b[0m\n\u001b[1;32m      <a href='vscode-notebook-cell:/Users/daniela/Documents/myRepos/ny_airbnb/project_app/project.ipynb#ch0000053?line=0'>1</a>\u001b[0m name \u001b[39m=\u001b[39m \u001b[39m'\u001b[39m\u001b[39mRFRegressor\u001b[39m\u001b[39m'\u001b[39m\n\u001b[0;32m----> <a href='vscode-notebook-cell:/Users/daniela/Documents/myRepos/ny_airbnb/project_app/project.ipynb#ch0000053?line=1'>2</a>\u001b[0m mae_scores, r2_scores, adjusted_r2, rmse_scores ,measured_time,model_name \u001b[39m=\u001b[39m cross_validation_report_reg(X,\n\u001b[1;32m      <a href='vscode-notebook-cell:/Users/daniela/Documents/myRepos/ny_airbnb/project_app/project.ipynb#ch0000053?line=2'>3</a>\u001b[0m                                                                                                         y,regrRM2, \n\u001b[1;32m      <a href='vscode-notebook-cell:/Users/daniela/Documents/myRepos/ny_airbnb/project_app/project.ipynb#ch0000053?line=3'>4</a>\u001b[0m                                                                                                         model_name \u001b[39m=\u001b[39;49m name, \n\u001b[1;32m      <a href='vscode-notebook-cell:/Users/daniela/Documents/myRepos/ny_airbnb/project_app/project.ipynb#ch0000053?line=4'>5</a>\u001b[0m                                                                                                         scale \u001b[39m=\u001b[39;49m \u001b[39mTrue\u001b[39;49;00m, \n\u001b[1;32m      <a href='vscode-notebook-cell:/Users/daniela/Documents/myRepos/ny_airbnb/project_app/project.ipynb#ch0000053?line=5'>6</a>\u001b[0m                                                                                                         log_transform \u001b[39m=\u001b[39;49m \u001b[39mTrue\u001b[39;49;00m)\n\u001b[1;32m      <a href='vscode-notebook-cell:/Users/daniela/Documents/myRepos/ny_airbnb/project_app/project.ipynb#ch0000053?line=6'>7</a>\u001b[0m mae_results[name] \u001b[39m=\u001b[39m mae_scores\n\u001b[1;32m      <a href='vscode-notebook-cell:/Users/daniela/Documents/myRepos/ny_airbnb/project_app/project.ipynb#ch0000053?line=7'>8</a>\u001b[0m r2_adj[name] \u001b[39m=\u001b[39m adjusted_r2\n",
      "\u001b[1;32m/Users/daniela/Documents/myRepos/ny_airbnb/project_app/project.ipynb Cell 48'\u001b[0m in \u001b[0;36mcross_validation_report_reg\u001b[0;34m(X, y, model, model_name, scale, log_transform)\u001b[0m\n\u001b[1;32m     <a href='vscode-notebook-cell:/Users/daniela/Documents/myRepos/ny_airbnb/project_app/project.ipynb#ch0000046?line=30'>31</a>\u001b[0m     X_train \u001b[39m=\u001b[39m scaler\u001b[39m.\u001b[39mtransform(X_train)\n\u001b[1;32m     <a href='vscode-notebook-cell:/Users/daniela/Documents/myRepos/ny_airbnb/project_app/project.ipynb#ch0000046?line=31'>32</a>\u001b[0m     X_test \u001b[39m=\u001b[39m scaler\u001b[39m.\u001b[39mtransform(X_test)\n\u001b[0;32m---> <a href='vscode-notebook-cell:/Users/daniela/Documents/myRepos/ny_airbnb/project_app/project.ipynb#ch0000046?line=32'>33</a>\u001b[0m model \u001b[39m=\u001b[39m model\u001b[39m.\u001b[39;49mfit(X_train, y_train)\n\u001b[1;32m     <a href='vscode-notebook-cell:/Users/daniela/Documents/myRepos/ny_airbnb/project_app/project.ipynb#ch0000046?line=33'>34</a>\u001b[0m \u001b[39m# Append scores\u001b[39;00m\n\u001b[1;32m     <a href='vscode-notebook-cell:/Users/daniela/Documents/myRepos/ny_airbnb/project_app/project.ipynb#ch0000046?line=34'>35</a>\u001b[0m y_pred \u001b[39m=\u001b[39m model\u001b[39m.\u001b[39mpredict(X_test)\n",
      "File \u001b[0;32m~/Documents/myRepos/housing_prediction_ny/ENV/lib/python3.9/site-packages/sklearn/compose/_target.py:246\u001b[0m, in \u001b[0;36mTransformedTargetRegressor.fit\u001b[0;34m(self, X, y, **fit_params)\u001b[0m\n\u001b[1;32m    <a href='file:///Users/daniela/Documents/myRepos/housing_prediction_ny/ENV/lib/python3.9/site-packages/sklearn/compose/_target.py?line=242'>243</a>\u001b[0m \u001b[39melse\u001b[39;00m:\n\u001b[1;32m    <a href='file:///Users/daniela/Documents/myRepos/housing_prediction_ny/ENV/lib/python3.9/site-packages/sklearn/compose/_target.py?line=243'>244</a>\u001b[0m     \u001b[39mself\u001b[39m\u001b[39m.\u001b[39mregressor_ \u001b[39m=\u001b[39m clone(\u001b[39mself\u001b[39m\u001b[39m.\u001b[39mregressor)\n\u001b[0;32m--> <a href='file:///Users/daniela/Documents/myRepos/housing_prediction_ny/ENV/lib/python3.9/site-packages/sklearn/compose/_target.py?line=245'>246</a>\u001b[0m \u001b[39mself\u001b[39;49m\u001b[39m.\u001b[39;49mregressor_\u001b[39m.\u001b[39;49mfit(X, y_trans, \u001b[39m*\u001b[39;49m\u001b[39m*\u001b[39;49mfit_params)\n\u001b[1;32m    <a href='file:///Users/daniela/Documents/myRepos/housing_prediction_ny/ENV/lib/python3.9/site-packages/sklearn/compose/_target.py?line=247'>248</a>\u001b[0m \u001b[39mif\u001b[39;00m \u001b[39mhasattr\u001b[39m(\u001b[39mself\u001b[39m\u001b[39m.\u001b[39mregressor_, \u001b[39m\"\u001b[39m\u001b[39mfeature_names_in_\u001b[39m\u001b[39m\"\u001b[39m):\n\u001b[1;32m    <a href='file:///Users/daniela/Documents/myRepos/housing_prediction_ny/ENV/lib/python3.9/site-packages/sklearn/compose/_target.py?line=248'>249</a>\u001b[0m     \u001b[39mself\u001b[39m\u001b[39m.\u001b[39mfeature_names_in_ \u001b[39m=\u001b[39m \u001b[39mself\u001b[39m\u001b[39m.\u001b[39mregressor_\u001b[39m.\u001b[39mfeature_names_in_\n",
      "File \u001b[0;32m~/Documents/myRepos/housing_prediction_ny/ENV/lib/python3.9/site-packages/sklearn/ensemble/_forest.py:450\u001b[0m, in \u001b[0;36mBaseForest.fit\u001b[0;34m(self, X, y, sample_weight)\u001b[0m\n\u001b[1;32m    <a href='file:///Users/daniela/Documents/myRepos/housing_prediction_ny/ENV/lib/python3.9/site-packages/sklearn/ensemble/_forest.py?line=438'>439</a>\u001b[0m trees \u001b[39m=\u001b[39m [\n\u001b[1;32m    <a href='file:///Users/daniela/Documents/myRepos/housing_prediction_ny/ENV/lib/python3.9/site-packages/sklearn/ensemble/_forest.py?line=439'>440</a>\u001b[0m     \u001b[39mself\u001b[39m\u001b[39m.\u001b[39m_make_estimator(append\u001b[39m=\u001b[39m\u001b[39mFalse\u001b[39;00m, random_state\u001b[39m=\u001b[39mrandom_state)\n\u001b[1;32m    <a href='file:///Users/daniela/Documents/myRepos/housing_prediction_ny/ENV/lib/python3.9/site-packages/sklearn/ensemble/_forest.py?line=440'>441</a>\u001b[0m     \u001b[39mfor\u001b[39;00m i \u001b[39min\u001b[39;00m \u001b[39mrange\u001b[39m(n_more_estimators)\n\u001b[1;32m    <a href='file:///Users/daniela/Documents/myRepos/housing_prediction_ny/ENV/lib/python3.9/site-packages/sklearn/ensemble/_forest.py?line=441'>442</a>\u001b[0m ]\n\u001b[1;32m    <a href='file:///Users/daniela/Documents/myRepos/housing_prediction_ny/ENV/lib/python3.9/site-packages/sklearn/ensemble/_forest.py?line=443'>444</a>\u001b[0m \u001b[39m# Parallel loop: we prefer the threading backend as the Cython code\u001b[39;00m\n\u001b[1;32m    <a href='file:///Users/daniela/Documents/myRepos/housing_prediction_ny/ENV/lib/python3.9/site-packages/sklearn/ensemble/_forest.py?line=444'>445</a>\u001b[0m \u001b[39m# for fitting the trees is internally releasing the Python GIL\u001b[39;00m\n\u001b[1;32m    <a href='file:///Users/daniela/Documents/myRepos/housing_prediction_ny/ENV/lib/python3.9/site-packages/sklearn/ensemble/_forest.py?line=445'>446</a>\u001b[0m \u001b[39m# making threading more efficient than multiprocessing in\u001b[39;00m\n\u001b[1;32m    <a href='file:///Users/daniela/Documents/myRepos/housing_prediction_ny/ENV/lib/python3.9/site-packages/sklearn/ensemble/_forest.py?line=446'>447</a>\u001b[0m \u001b[39m# that case. However, for joblib 0.12+ we respect any\u001b[39;00m\n\u001b[1;32m    <a href='file:///Users/daniela/Documents/myRepos/housing_prediction_ny/ENV/lib/python3.9/site-packages/sklearn/ensemble/_forest.py?line=447'>448</a>\u001b[0m \u001b[39m# parallel_backend contexts set at a higher level,\u001b[39;00m\n\u001b[1;32m    <a href='file:///Users/daniela/Documents/myRepos/housing_prediction_ny/ENV/lib/python3.9/site-packages/sklearn/ensemble/_forest.py?line=448'>449</a>\u001b[0m \u001b[39m# since correctness does not rely on using threads.\u001b[39;00m\n\u001b[0;32m--> <a href='file:///Users/daniela/Documents/myRepos/housing_prediction_ny/ENV/lib/python3.9/site-packages/sklearn/ensemble/_forest.py?line=449'>450</a>\u001b[0m trees \u001b[39m=\u001b[39m Parallel(\n\u001b[1;32m    <a href='file:///Users/daniela/Documents/myRepos/housing_prediction_ny/ENV/lib/python3.9/site-packages/sklearn/ensemble/_forest.py?line=450'>451</a>\u001b[0m     n_jobs\u001b[39m=\u001b[39;49m\u001b[39mself\u001b[39;49m\u001b[39m.\u001b[39;49mn_jobs,\n\u001b[1;32m    <a href='file:///Users/daniela/Documents/myRepos/housing_prediction_ny/ENV/lib/python3.9/site-packages/sklearn/ensemble/_forest.py?line=451'>452</a>\u001b[0m     verbose\u001b[39m=\u001b[39;49m\u001b[39mself\u001b[39;49m\u001b[39m.\u001b[39;49mverbose,\n\u001b[1;32m    <a href='file:///Users/daniela/Documents/myRepos/housing_prediction_ny/ENV/lib/python3.9/site-packages/sklearn/ensemble/_forest.py?line=452'>453</a>\u001b[0m     \u001b[39m*\u001b[39;49m\u001b[39m*\u001b[39;49m_joblib_parallel_args(prefer\u001b[39m=\u001b[39;49m\u001b[39m\"\u001b[39;49m\u001b[39mthreads\u001b[39;49m\u001b[39m\"\u001b[39;49m),\n\u001b[1;32m    <a href='file:///Users/daniela/Documents/myRepos/housing_prediction_ny/ENV/lib/python3.9/site-packages/sklearn/ensemble/_forest.py?line=453'>454</a>\u001b[0m )(\n\u001b[1;32m    <a href='file:///Users/daniela/Documents/myRepos/housing_prediction_ny/ENV/lib/python3.9/site-packages/sklearn/ensemble/_forest.py?line=454'>455</a>\u001b[0m     delayed(_parallel_build_trees)(\n\u001b[1;32m    <a href='file:///Users/daniela/Documents/myRepos/housing_prediction_ny/ENV/lib/python3.9/site-packages/sklearn/ensemble/_forest.py?line=455'>456</a>\u001b[0m         t,\n\u001b[1;32m    <a href='file:///Users/daniela/Documents/myRepos/housing_prediction_ny/ENV/lib/python3.9/site-packages/sklearn/ensemble/_forest.py?line=456'>457</a>\u001b[0m         \u001b[39mself\u001b[39;49m,\n\u001b[1;32m    <a href='file:///Users/daniela/Documents/myRepos/housing_prediction_ny/ENV/lib/python3.9/site-packages/sklearn/ensemble/_forest.py?line=457'>458</a>\u001b[0m         X,\n\u001b[1;32m    <a href='file:///Users/daniela/Documents/myRepos/housing_prediction_ny/ENV/lib/python3.9/site-packages/sklearn/ensemble/_forest.py?line=458'>459</a>\u001b[0m         y,\n\u001b[1;32m    <a href='file:///Users/daniela/Documents/myRepos/housing_prediction_ny/ENV/lib/python3.9/site-packages/sklearn/ensemble/_forest.py?line=459'>460</a>\u001b[0m         sample_weight,\n\u001b[1;32m    <a href='file:///Users/daniela/Documents/myRepos/housing_prediction_ny/ENV/lib/python3.9/site-packages/sklearn/ensemble/_forest.py?line=460'>461</a>\u001b[0m         i,\n\u001b[1;32m    <a href='file:///Users/daniela/Documents/myRepos/housing_prediction_ny/ENV/lib/python3.9/site-packages/sklearn/ensemble/_forest.py?line=461'>462</a>\u001b[0m         \u001b[39mlen\u001b[39;49m(trees),\n\u001b[1;32m    <a href='file:///Users/daniela/Documents/myRepos/housing_prediction_ny/ENV/lib/python3.9/site-packages/sklearn/ensemble/_forest.py?line=462'>463</a>\u001b[0m         verbose\u001b[39m=\u001b[39;49m\u001b[39mself\u001b[39;49m\u001b[39m.\u001b[39;49mverbose,\n\u001b[1;32m    <a href='file:///Users/daniela/Documents/myRepos/housing_prediction_ny/ENV/lib/python3.9/site-packages/sklearn/ensemble/_forest.py?line=463'>464</a>\u001b[0m         class_weight\u001b[39m=\u001b[39;49m\u001b[39mself\u001b[39;49m\u001b[39m.\u001b[39;49mclass_weight,\n\u001b[1;32m    <a href='file:///Users/daniela/Documents/myRepos/housing_prediction_ny/ENV/lib/python3.9/site-packages/sklearn/ensemble/_forest.py?line=464'>465</a>\u001b[0m         n_samples_bootstrap\u001b[39m=\u001b[39;49mn_samples_bootstrap,\n\u001b[1;32m    <a href='file:///Users/daniela/Documents/myRepos/housing_prediction_ny/ENV/lib/python3.9/site-packages/sklearn/ensemble/_forest.py?line=465'>466</a>\u001b[0m     )\n\u001b[1;32m    <a href='file:///Users/daniela/Documents/myRepos/housing_prediction_ny/ENV/lib/python3.9/site-packages/sklearn/ensemble/_forest.py?line=466'>467</a>\u001b[0m     \u001b[39mfor\u001b[39;49;00m i, t \u001b[39min\u001b[39;49;00m \u001b[39menumerate\u001b[39;49m(trees)\n\u001b[1;32m    <a href='file:///Users/daniela/Documents/myRepos/housing_prediction_ny/ENV/lib/python3.9/site-packages/sklearn/ensemble/_forest.py?line=467'>468</a>\u001b[0m )\n\u001b[1;32m    <a href='file:///Users/daniela/Documents/myRepos/housing_prediction_ny/ENV/lib/python3.9/site-packages/sklearn/ensemble/_forest.py?line=469'>470</a>\u001b[0m \u001b[39m# Collect newly grown trees\u001b[39;00m\n\u001b[1;32m    <a href='file:///Users/daniela/Documents/myRepos/housing_prediction_ny/ENV/lib/python3.9/site-packages/sklearn/ensemble/_forest.py?line=470'>471</a>\u001b[0m \u001b[39mself\u001b[39m\u001b[39m.\u001b[39mestimators_\u001b[39m.\u001b[39mextend(trees)\n",
      "File \u001b[0;32m~/Documents/myRepos/housing_prediction_ny/ENV/lib/python3.9/site-packages/joblib/parallel.py:1046\u001b[0m, in \u001b[0;36mParallel.__call__\u001b[0;34m(self, iterable)\u001b[0m\n\u001b[1;32m   <a href='file:///Users/daniela/Documents/myRepos/housing_prediction_ny/ENV/lib/python3.9/site-packages/joblib/parallel.py?line=1042'>1043</a>\u001b[0m \u001b[39mif\u001b[39;00m \u001b[39mself\u001b[39m\u001b[39m.\u001b[39mdispatch_one_batch(iterator):\n\u001b[1;32m   <a href='file:///Users/daniela/Documents/myRepos/housing_prediction_ny/ENV/lib/python3.9/site-packages/joblib/parallel.py?line=1043'>1044</a>\u001b[0m     \u001b[39mself\u001b[39m\u001b[39m.\u001b[39m_iterating \u001b[39m=\u001b[39m \u001b[39mself\u001b[39m\u001b[39m.\u001b[39m_original_iterator \u001b[39mis\u001b[39;00m \u001b[39mnot\u001b[39;00m \u001b[39mNone\u001b[39;00m\n\u001b[0;32m-> <a href='file:///Users/daniela/Documents/myRepos/housing_prediction_ny/ENV/lib/python3.9/site-packages/joblib/parallel.py?line=1045'>1046</a>\u001b[0m \u001b[39mwhile\u001b[39;00m \u001b[39mself\u001b[39;49m\u001b[39m.\u001b[39;49mdispatch_one_batch(iterator):\n\u001b[1;32m   <a href='file:///Users/daniela/Documents/myRepos/housing_prediction_ny/ENV/lib/python3.9/site-packages/joblib/parallel.py?line=1046'>1047</a>\u001b[0m     \u001b[39mpass\u001b[39;00m\n\u001b[1;32m   <a href='file:///Users/daniela/Documents/myRepos/housing_prediction_ny/ENV/lib/python3.9/site-packages/joblib/parallel.py?line=1048'>1049</a>\u001b[0m \u001b[39mif\u001b[39;00m pre_dispatch \u001b[39m==\u001b[39m \u001b[39m\"\u001b[39m\u001b[39mall\u001b[39m\u001b[39m\"\u001b[39m \u001b[39mor\u001b[39;00m n_jobs \u001b[39m==\u001b[39m \u001b[39m1\u001b[39m:\n\u001b[1;32m   <a href='file:///Users/daniela/Documents/myRepos/housing_prediction_ny/ENV/lib/python3.9/site-packages/joblib/parallel.py?line=1049'>1050</a>\u001b[0m     \u001b[39m# The iterable was consumed all at once by the above for loop.\u001b[39;00m\n\u001b[1;32m   <a href='file:///Users/daniela/Documents/myRepos/housing_prediction_ny/ENV/lib/python3.9/site-packages/joblib/parallel.py?line=1050'>1051</a>\u001b[0m     \u001b[39m# No need to wait for async callbacks to trigger to\u001b[39;00m\n\u001b[1;32m   <a href='file:///Users/daniela/Documents/myRepos/housing_prediction_ny/ENV/lib/python3.9/site-packages/joblib/parallel.py?line=1051'>1052</a>\u001b[0m     \u001b[39m# consumption.\u001b[39;00m\n",
      "File \u001b[0;32m~/Documents/myRepos/housing_prediction_ny/ENV/lib/python3.9/site-packages/joblib/parallel.py:861\u001b[0m, in \u001b[0;36mParallel.dispatch_one_batch\u001b[0;34m(self, iterator)\u001b[0m\n\u001b[1;32m    <a href='file:///Users/daniela/Documents/myRepos/housing_prediction_ny/ENV/lib/python3.9/site-packages/joblib/parallel.py?line=858'>859</a>\u001b[0m     \u001b[39mreturn\u001b[39;00m \u001b[39mFalse\u001b[39;00m\n\u001b[1;32m    <a href='file:///Users/daniela/Documents/myRepos/housing_prediction_ny/ENV/lib/python3.9/site-packages/joblib/parallel.py?line=859'>860</a>\u001b[0m \u001b[39melse\u001b[39;00m:\n\u001b[0;32m--> <a href='file:///Users/daniela/Documents/myRepos/housing_prediction_ny/ENV/lib/python3.9/site-packages/joblib/parallel.py?line=860'>861</a>\u001b[0m     \u001b[39mself\u001b[39;49m\u001b[39m.\u001b[39;49m_dispatch(tasks)\n\u001b[1;32m    <a href='file:///Users/daniela/Documents/myRepos/housing_prediction_ny/ENV/lib/python3.9/site-packages/joblib/parallel.py?line=861'>862</a>\u001b[0m     \u001b[39mreturn\u001b[39;00m \u001b[39mTrue\u001b[39;00m\n",
      "File \u001b[0;32m~/Documents/myRepos/housing_prediction_ny/ENV/lib/python3.9/site-packages/joblib/parallel.py:779\u001b[0m, in \u001b[0;36mParallel._dispatch\u001b[0;34m(self, batch)\u001b[0m\n\u001b[1;32m    <a href='file:///Users/daniela/Documents/myRepos/housing_prediction_ny/ENV/lib/python3.9/site-packages/joblib/parallel.py?line=776'>777</a>\u001b[0m \u001b[39mwith\u001b[39;00m \u001b[39mself\u001b[39m\u001b[39m.\u001b[39m_lock:\n\u001b[1;32m    <a href='file:///Users/daniela/Documents/myRepos/housing_prediction_ny/ENV/lib/python3.9/site-packages/joblib/parallel.py?line=777'>778</a>\u001b[0m     job_idx \u001b[39m=\u001b[39m \u001b[39mlen\u001b[39m(\u001b[39mself\u001b[39m\u001b[39m.\u001b[39m_jobs)\n\u001b[0;32m--> <a href='file:///Users/daniela/Documents/myRepos/housing_prediction_ny/ENV/lib/python3.9/site-packages/joblib/parallel.py?line=778'>779</a>\u001b[0m     job \u001b[39m=\u001b[39m \u001b[39mself\u001b[39;49m\u001b[39m.\u001b[39;49m_backend\u001b[39m.\u001b[39;49mapply_async(batch, callback\u001b[39m=\u001b[39;49mcb)\n\u001b[1;32m    <a href='file:///Users/daniela/Documents/myRepos/housing_prediction_ny/ENV/lib/python3.9/site-packages/joblib/parallel.py?line=779'>780</a>\u001b[0m     \u001b[39m# A job can complete so quickly than its callback is\u001b[39;00m\n\u001b[1;32m    <a href='file:///Users/daniela/Documents/myRepos/housing_prediction_ny/ENV/lib/python3.9/site-packages/joblib/parallel.py?line=780'>781</a>\u001b[0m     \u001b[39m# called before we get here, causing self._jobs to\u001b[39;00m\n\u001b[1;32m    <a href='file:///Users/daniela/Documents/myRepos/housing_prediction_ny/ENV/lib/python3.9/site-packages/joblib/parallel.py?line=781'>782</a>\u001b[0m     \u001b[39m# grow. To ensure correct results ordering, .insert is\u001b[39;00m\n\u001b[1;32m    <a href='file:///Users/daniela/Documents/myRepos/housing_prediction_ny/ENV/lib/python3.9/site-packages/joblib/parallel.py?line=782'>783</a>\u001b[0m     \u001b[39m# used (rather than .append) in the following line\u001b[39;00m\n\u001b[1;32m    <a href='file:///Users/daniela/Documents/myRepos/housing_prediction_ny/ENV/lib/python3.9/site-packages/joblib/parallel.py?line=783'>784</a>\u001b[0m     \u001b[39mself\u001b[39m\u001b[39m.\u001b[39m_jobs\u001b[39m.\u001b[39minsert(job_idx, job)\n",
      "File \u001b[0;32m~/Documents/myRepos/housing_prediction_ny/ENV/lib/python3.9/site-packages/joblib/_parallel_backends.py:208\u001b[0m, in \u001b[0;36mSequentialBackend.apply_async\u001b[0;34m(self, func, callback)\u001b[0m\n\u001b[1;32m    <a href='file:///Users/daniela/Documents/myRepos/housing_prediction_ny/ENV/lib/python3.9/site-packages/joblib/_parallel_backends.py?line=205'>206</a>\u001b[0m \u001b[39mdef\u001b[39;00m \u001b[39mapply_async\u001b[39m(\u001b[39mself\u001b[39m, func, callback\u001b[39m=\u001b[39m\u001b[39mNone\u001b[39;00m):\n\u001b[1;32m    <a href='file:///Users/daniela/Documents/myRepos/housing_prediction_ny/ENV/lib/python3.9/site-packages/joblib/_parallel_backends.py?line=206'>207</a>\u001b[0m     \u001b[39m\"\"\"Schedule a func to be run\"\"\"\u001b[39;00m\n\u001b[0;32m--> <a href='file:///Users/daniela/Documents/myRepos/housing_prediction_ny/ENV/lib/python3.9/site-packages/joblib/_parallel_backends.py?line=207'>208</a>\u001b[0m     result \u001b[39m=\u001b[39m ImmediateResult(func)\n\u001b[1;32m    <a href='file:///Users/daniela/Documents/myRepos/housing_prediction_ny/ENV/lib/python3.9/site-packages/joblib/_parallel_backends.py?line=208'>209</a>\u001b[0m     \u001b[39mif\u001b[39;00m callback:\n\u001b[1;32m    <a href='file:///Users/daniela/Documents/myRepos/housing_prediction_ny/ENV/lib/python3.9/site-packages/joblib/_parallel_backends.py?line=209'>210</a>\u001b[0m         callback(result)\n",
      "File \u001b[0;32m~/Documents/myRepos/housing_prediction_ny/ENV/lib/python3.9/site-packages/joblib/_parallel_backends.py:572\u001b[0m, in \u001b[0;36mImmediateResult.__init__\u001b[0;34m(self, batch)\u001b[0m\n\u001b[1;32m    <a href='file:///Users/daniela/Documents/myRepos/housing_prediction_ny/ENV/lib/python3.9/site-packages/joblib/_parallel_backends.py?line=568'>569</a>\u001b[0m \u001b[39mdef\u001b[39;00m \u001b[39m__init__\u001b[39m(\u001b[39mself\u001b[39m, batch):\n\u001b[1;32m    <a href='file:///Users/daniela/Documents/myRepos/housing_prediction_ny/ENV/lib/python3.9/site-packages/joblib/_parallel_backends.py?line=569'>570</a>\u001b[0m     \u001b[39m# Don't delay the application, to avoid keeping the input\u001b[39;00m\n\u001b[1;32m    <a href='file:///Users/daniela/Documents/myRepos/housing_prediction_ny/ENV/lib/python3.9/site-packages/joblib/_parallel_backends.py?line=570'>571</a>\u001b[0m     \u001b[39m# arguments in memory\u001b[39;00m\n\u001b[0;32m--> <a href='file:///Users/daniela/Documents/myRepos/housing_prediction_ny/ENV/lib/python3.9/site-packages/joblib/_parallel_backends.py?line=571'>572</a>\u001b[0m     \u001b[39mself\u001b[39m\u001b[39m.\u001b[39mresults \u001b[39m=\u001b[39m batch()\n",
      "File \u001b[0;32m~/Documents/myRepos/housing_prediction_ny/ENV/lib/python3.9/site-packages/joblib/parallel.py:262\u001b[0m, in \u001b[0;36mBatchedCalls.__call__\u001b[0;34m(self)\u001b[0m\n\u001b[1;32m    <a href='file:///Users/daniela/Documents/myRepos/housing_prediction_ny/ENV/lib/python3.9/site-packages/joblib/parallel.py?line=257'>258</a>\u001b[0m \u001b[39mdef\u001b[39;00m \u001b[39m__call__\u001b[39m(\u001b[39mself\u001b[39m):\n\u001b[1;32m    <a href='file:///Users/daniela/Documents/myRepos/housing_prediction_ny/ENV/lib/python3.9/site-packages/joblib/parallel.py?line=258'>259</a>\u001b[0m     \u001b[39m# Set the default nested backend to self._backend but do not set the\u001b[39;00m\n\u001b[1;32m    <a href='file:///Users/daniela/Documents/myRepos/housing_prediction_ny/ENV/lib/python3.9/site-packages/joblib/parallel.py?line=259'>260</a>\u001b[0m     \u001b[39m# change the default number of processes to -1\u001b[39;00m\n\u001b[1;32m    <a href='file:///Users/daniela/Documents/myRepos/housing_prediction_ny/ENV/lib/python3.9/site-packages/joblib/parallel.py?line=260'>261</a>\u001b[0m     \u001b[39mwith\u001b[39;00m parallel_backend(\u001b[39mself\u001b[39m\u001b[39m.\u001b[39m_backend, n_jobs\u001b[39m=\u001b[39m\u001b[39mself\u001b[39m\u001b[39m.\u001b[39m_n_jobs):\n\u001b[0;32m--> <a href='file:///Users/daniela/Documents/myRepos/housing_prediction_ny/ENV/lib/python3.9/site-packages/joblib/parallel.py?line=261'>262</a>\u001b[0m         \u001b[39mreturn\u001b[39;00m [func(\u001b[39m*\u001b[39margs, \u001b[39m*\u001b[39m\u001b[39m*\u001b[39mkwargs)\n\u001b[1;32m    <a href='file:///Users/daniela/Documents/myRepos/housing_prediction_ny/ENV/lib/python3.9/site-packages/joblib/parallel.py?line=262'>263</a>\u001b[0m                 \u001b[39mfor\u001b[39;00m func, args, kwargs \u001b[39min\u001b[39;00m \u001b[39mself\u001b[39m\u001b[39m.\u001b[39mitems]\n",
      "File \u001b[0;32m~/Documents/myRepos/housing_prediction_ny/ENV/lib/python3.9/site-packages/joblib/parallel.py:262\u001b[0m, in \u001b[0;36m<listcomp>\u001b[0;34m(.0)\u001b[0m\n\u001b[1;32m    <a href='file:///Users/daniela/Documents/myRepos/housing_prediction_ny/ENV/lib/python3.9/site-packages/joblib/parallel.py?line=257'>258</a>\u001b[0m \u001b[39mdef\u001b[39;00m \u001b[39m__call__\u001b[39m(\u001b[39mself\u001b[39m):\n\u001b[1;32m    <a href='file:///Users/daniela/Documents/myRepos/housing_prediction_ny/ENV/lib/python3.9/site-packages/joblib/parallel.py?line=258'>259</a>\u001b[0m     \u001b[39m# Set the default nested backend to self._backend but do not set the\u001b[39;00m\n\u001b[1;32m    <a href='file:///Users/daniela/Documents/myRepos/housing_prediction_ny/ENV/lib/python3.9/site-packages/joblib/parallel.py?line=259'>260</a>\u001b[0m     \u001b[39m# change the default number of processes to -1\u001b[39;00m\n\u001b[1;32m    <a href='file:///Users/daniela/Documents/myRepos/housing_prediction_ny/ENV/lib/python3.9/site-packages/joblib/parallel.py?line=260'>261</a>\u001b[0m     \u001b[39mwith\u001b[39;00m parallel_backend(\u001b[39mself\u001b[39m\u001b[39m.\u001b[39m_backend, n_jobs\u001b[39m=\u001b[39m\u001b[39mself\u001b[39m\u001b[39m.\u001b[39m_n_jobs):\n\u001b[0;32m--> <a href='file:///Users/daniela/Documents/myRepos/housing_prediction_ny/ENV/lib/python3.9/site-packages/joblib/parallel.py?line=261'>262</a>\u001b[0m         \u001b[39mreturn\u001b[39;00m [func(\u001b[39m*\u001b[39;49margs, \u001b[39m*\u001b[39;49m\u001b[39m*\u001b[39;49mkwargs)\n\u001b[1;32m    <a href='file:///Users/daniela/Documents/myRepos/housing_prediction_ny/ENV/lib/python3.9/site-packages/joblib/parallel.py?line=262'>263</a>\u001b[0m                 \u001b[39mfor\u001b[39;00m func, args, kwargs \u001b[39min\u001b[39;00m \u001b[39mself\u001b[39m\u001b[39m.\u001b[39mitems]\n",
      "File \u001b[0;32m~/Documents/myRepos/housing_prediction_ny/ENV/lib/python3.9/site-packages/sklearn/utils/fixes.py:216\u001b[0m, in \u001b[0;36m_FuncWrapper.__call__\u001b[0;34m(self, *args, **kwargs)\u001b[0m\n\u001b[1;32m    <a href='file:///Users/daniela/Documents/myRepos/housing_prediction_ny/ENV/lib/python3.9/site-packages/sklearn/utils/fixes.py?line=213'>214</a>\u001b[0m \u001b[39mdef\u001b[39;00m \u001b[39m__call__\u001b[39m(\u001b[39mself\u001b[39m, \u001b[39m*\u001b[39margs, \u001b[39m*\u001b[39m\u001b[39m*\u001b[39mkwargs):\n\u001b[1;32m    <a href='file:///Users/daniela/Documents/myRepos/housing_prediction_ny/ENV/lib/python3.9/site-packages/sklearn/utils/fixes.py?line=214'>215</a>\u001b[0m     \u001b[39mwith\u001b[39;00m config_context(\u001b[39m*\u001b[39m\u001b[39m*\u001b[39m\u001b[39mself\u001b[39m\u001b[39m.\u001b[39mconfig):\n\u001b[0;32m--> <a href='file:///Users/daniela/Documents/myRepos/housing_prediction_ny/ENV/lib/python3.9/site-packages/sklearn/utils/fixes.py?line=215'>216</a>\u001b[0m         \u001b[39mreturn\u001b[39;00m \u001b[39mself\u001b[39;49m\u001b[39m.\u001b[39;49mfunction(\u001b[39m*\u001b[39;49margs, \u001b[39m*\u001b[39;49m\u001b[39m*\u001b[39;49mkwargs)\n",
      "File \u001b[0;32m~/Documents/myRepos/housing_prediction_ny/ENV/lib/python3.9/site-packages/sklearn/ensemble/_forest.py:185\u001b[0m, in \u001b[0;36m_parallel_build_trees\u001b[0;34m(tree, forest, X, y, sample_weight, tree_idx, n_trees, verbose, class_weight, n_samples_bootstrap)\u001b[0m\n\u001b[1;32m    <a href='file:///Users/daniela/Documents/myRepos/housing_prediction_ny/ENV/lib/python3.9/site-packages/sklearn/ensemble/_forest.py?line=181'>182</a>\u001b[0m     \u001b[39melif\u001b[39;00m class_weight \u001b[39m==\u001b[39m \u001b[39m\"\u001b[39m\u001b[39mbalanced_subsample\u001b[39m\u001b[39m\"\u001b[39m:\n\u001b[1;32m    <a href='file:///Users/daniela/Documents/myRepos/housing_prediction_ny/ENV/lib/python3.9/site-packages/sklearn/ensemble/_forest.py?line=182'>183</a>\u001b[0m         curr_sample_weight \u001b[39m*\u001b[39m\u001b[39m=\u001b[39m compute_sample_weight(\u001b[39m\"\u001b[39m\u001b[39mbalanced\u001b[39m\u001b[39m\"\u001b[39m, y, indices\u001b[39m=\u001b[39mindices)\n\u001b[0;32m--> <a href='file:///Users/daniela/Documents/myRepos/housing_prediction_ny/ENV/lib/python3.9/site-packages/sklearn/ensemble/_forest.py?line=184'>185</a>\u001b[0m     tree\u001b[39m.\u001b[39;49mfit(X, y, sample_weight\u001b[39m=\u001b[39;49mcurr_sample_weight, check_input\u001b[39m=\u001b[39;49m\u001b[39mFalse\u001b[39;49;00m)\n\u001b[1;32m    <a href='file:///Users/daniela/Documents/myRepos/housing_prediction_ny/ENV/lib/python3.9/site-packages/sklearn/ensemble/_forest.py?line=185'>186</a>\u001b[0m \u001b[39melse\u001b[39;00m:\n\u001b[1;32m    <a href='file:///Users/daniela/Documents/myRepos/housing_prediction_ny/ENV/lib/python3.9/site-packages/sklearn/ensemble/_forest.py?line=186'>187</a>\u001b[0m     tree\u001b[39m.\u001b[39mfit(X, y, sample_weight\u001b[39m=\u001b[39msample_weight, check_input\u001b[39m=\u001b[39m\u001b[39mFalse\u001b[39;00m)\n",
      "File \u001b[0;32m~/Documents/myRepos/housing_prediction_ny/ENV/lib/python3.9/site-packages/sklearn/tree/_classes.py:1315\u001b[0m, in \u001b[0;36mDecisionTreeRegressor.fit\u001b[0;34m(self, X, y, sample_weight, check_input, X_idx_sorted)\u001b[0m\n\u001b[1;32m   <a href='file:///Users/daniela/Documents/myRepos/housing_prediction_ny/ENV/lib/python3.9/site-packages/sklearn/tree/_classes.py?line=1277'>1278</a>\u001b[0m \u001b[39mdef\u001b[39;00m \u001b[39mfit\u001b[39m(\n\u001b[1;32m   <a href='file:///Users/daniela/Documents/myRepos/housing_prediction_ny/ENV/lib/python3.9/site-packages/sklearn/tree/_classes.py?line=1278'>1279</a>\u001b[0m     \u001b[39mself\u001b[39m, X, y, sample_weight\u001b[39m=\u001b[39m\u001b[39mNone\u001b[39;00m, check_input\u001b[39m=\u001b[39m\u001b[39mTrue\u001b[39;00m, X_idx_sorted\u001b[39m=\u001b[39m\u001b[39m\"\u001b[39m\u001b[39mdeprecated\u001b[39m\u001b[39m\"\u001b[39m\n\u001b[1;32m   <a href='file:///Users/daniela/Documents/myRepos/housing_prediction_ny/ENV/lib/python3.9/site-packages/sklearn/tree/_classes.py?line=1279'>1280</a>\u001b[0m ):\n\u001b[1;32m   <a href='file:///Users/daniela/Documents/myRepos/housing_prediction_ny/ENV/lib/python3.9/site-packages/sklearn/tree/_classes.py?line=1280'>1281</a>\u001b[0m     \u001b[39m\"\"\"Build a decision tree regressor from the training set (X, y).\u001b[39;00m\n\u001b[1;32m   <a href='file:///Users/daniela/Documents/myRepos/housing_prediction_ny/ENV/lib/python3.9/site-packages/sklearn/tree/_classes.py?line=1281'>1282</a>\u001b[0m \n\u001b[1;32m   <a href='file:///Users/daniela/Documents/myRepos/housing_prediction_ny/ENV/lib/python3.9/site-packages/sklearn/tree/_classes.py?line=1282'>1283</a>\u001b[0m \u001b[39m    Parameters\u001b[39;00m\n\u001b[0;32m   (...)\u001b[0m\n\u001b[1;32m   <a href='file:///Users/daniela/Documents/myRepos/housing_prediction_ny/ENV/lib/python3.9/site-packages/sklearn/tree/_classes.py?line=1311'>1312</a>\u001b[0m \u001b[39m        Fitted estimator.\u001b[39;00m\n\u001b[1;32m   <a href='file:///Users/daniela/Documents/myRepos/housing_prediction_ny/ENV/lib/python3.9/site-packages/sklearn/tree/_classes.py?line=1312'>1313</a>\u001b[0m \u001b[39m    \"\"\"\u001b[39;00m\n\u001b[0;32m-> <a href='file:///Users/daniela/Documents/myRepos/housing_prediction_ny/ENV/lib/python3.9/site-packages/sklearn/tree/_classes.py?line=1314'>1315</a>\u001b[0m     \u001b[39msuper\u001b[39;49m()\u001b[39m.\u001b[39;49mfit(\n\u001b[1;32m   <a href='file:///Users/daniela/Documents/myRepos/housing_prediction_ny/ENV/lib/python3.9/site-packages/sklearn/tree/_classes.py?line=1315'>1316</a>\u001b[0m         X,\n\u001b[1;32m   <a href='file:///Users/daniela/Documents/myRepos/housing_prediction_ny/ENV/lib/python3.9/site-packages/sklearn/tree/_classes.py?line=1316'>1317</a>\u001b[0m         y,\n\u001b[1;32m   <a href='file:///Users/daniela/Documents/myRepos/housing_prediction_ny/ENV/lib/python3.9/site-packages/sklearn/tree/_classes.py?line=1317'>1318</a>\u001b[0m         sample_weight\u001b[39m=\u001b[39;49msample_weight,\n\u001b[1;32m   <a href='file:///Users/daniela/Documents/myRepos/housing_prediction_ny/ENV/lib/python3.9/site-packages/sklearn/tree/_classes.py?line=1318'>1319</a>\u001b[0m         check_input\u001b[39m=\u001b[39;49mcheck_input,\n\u001b[1;32m   <a href='file:///Users/daniela/Documents/myRepos/housing_prediction_ny/ENV/lib/python3.9/site-packages/sklearn/tree/_classes.py?line=1319'>1320</a>\u001b[0m         X_idx_sorted\u001b[39m=\u001b[39;49mX_idx_sorted,\n\u001b[1;32m   <a href='file:///Users/daniela/Documents/myRepos/housing_prediction_ny/ENV/lib/python3.9/site-packages/sklearn/tree/_classes.py?line=1320'>1321</a>\u001b[0m     )\n\u001b[1;32m   <a href='file:///Users/daniela/Documents/myRepos/housing_prediction_ny/ENV/lib/python3.9/site-packages/sklearn/tree/_classes.py?line=1321'>1322</a>\u001b[0m     \u001b[39mreturn\u001b[39;00m \u001b[39mself\u001b[39m\n",
      "File \u001b[0;32m~/Documents/myRepos/housing_prediction_ny/ENV/lib/python3.9/site-packages/sklearn/tree/_classes.py:420\u001b[0m, in \u001b[0;36mBaseDecisionTree.fit\u001b[0;34m(self, X, y, sample_weight, check_input, X_idx_sorted)\u001b[0m\n\u001b[1;32m    <a href='file:///Users/daniela/Documents/myRepos/housing_prediction_ny/ENV/lib/python3.9/site-packages/sklearn/tree/_classes.py?line=408'>409</a>\u001b[0m \u001b[39melse\u001b[39;00m:\n\u001b[1;32m    <a href='file:///Users/daniela/Documents/myRepos/housing_prediction_ny/ENV/lib/python3.9/site-packages/sklearn/tree/_classes.py?line=409'>410</a>\u001b[0m     builder \u001b[39m=\u001b[39m BestFirstTreeBuilder(\n\u001b[1;32m    <a href='file:///Users/daniela/Documents/myRepos/housing_prediction_ny/ENV/lib/python3.9/site-packages/sklearn/tree/_classes.py?line=410'>411</a>\u001b[0m         splitter,\n\u001b[1;32m    <a href='file:///Users/daniela/Documents/myRepos/housing_prediction_ny/ENV/lib/python3.9/site-packages/sklearn/tree/_classes.py?line=411'>412</a>\u001b[0m         min_samples_split,\n\u001b[0;32m   (...)\u001b[0m\n\u001b[1;32m    <a href='file:///Users/daniela/Documents/myRepos/housing_prediction_ny/ENV/lib/python3.9/site-packages/sklearn/tree/_classes.py?line=416'>417</a>\u001b[0m         \u001b[39mself\u001b[39m\u001b[39m.\u001b[39mmin_impurity_decrease,\n\u001b[1;32m    <a href='file:///Users/daniela/Documents/myRepos/housing_prediction_ny/ENV/lib/python3.9/site-packages/sklearn/tree/_classes.py?line=417'>418</a>\u001b[0m     )\n\u001b[0;32m--> <a href='file:///Users/daniela/Documents/myRepos/housing_prediction_ny/ENV/lib/python3.9/site-packages/sklearn/tree/_classes.py?line=419'>420</a>\u001b[0m builder\u001b[39m.\u001b[39;49mbuild(\u001b[39mself\u001b[39;49m\u001b[39m.\u001b[39;49mtree_, X, y, sample_weight)\n\u001b[1;32m    <a href='file:///Users/daniela/Documents/myRepos/housing_prediction_ny/ENV/lib/python3.9/site-packages/sklearn/tree/_classes.py?line=421'>422</a>\u001b[0m \u001b[39mif\u001b[39;00m \u001b[39mself\u001b[39m\u001b[39m.\u001b[39mn_outputs_ \u001b[39m==\u001b[39m \u001b[39m1\u001b[39m \u001b[39mand\u001b[39;00m is_classifier(\u001b[39mself\u001b[39m):\n\u001b[1;32m    <a href='file:///Users/daniela/Documents/myRepos/housing_prediction_ny/ENV/lib/python3.9/site-packages/sklearn/tree/_classes.py?line=422'>423</a>\u001b[0m     \u001b[39mself\u001b[39m\u001b[39m.\u001b[39mn_classes_ \u001b[39m=\u001b[39m \u001b[39mself\u001b[39m\u001b[39m.\u001b[39mn_classes_[\u001b[39m0\u001b[39m]\n",
      "\u001b[0;31mKeyboardInterrupt\u001b[0m: "
     ]
    }
   ],
   "source": [
    "name = 'RFRegressor'\n",
    "mae_scores, r2_scores, adjusted_r2, rmse_scores ,measured_time,model_name = cross_validation_report_reg(X,\n",
    "                                                                                                        y,regrRM2, \n",
    "                                                                                                        model_name = name, \n",
    "                                                                                                        scale = True, \n",
    "                                                                                                        log_transform = True)\n",
    "mae_results[name] = mae_scores\n",
    "r2_adj[name] = adjusted_r2\n",
    "rmse[name] = rmse_scores\n",
    "r2_results[name] = r2_scores\n",
    "reg_time[name] = measured_time"
   ]
  },
  {
   "cell_type": "code",
   "execution_count": null,
   "metadata": {},
   "outputs": [
    {
     "name": "stdout",
     "output_type": "stream",
     "text": [
      "[11:12:11] WARNING: /Users/runner/work/xgboost/xgboost/src/learner.cc:576: \n",
      "Parameters: { \"feature_fraction\", \"num_leaves\" } might not be used.\n",
      "\n",
      "  This could be a false alarm, with some parameters getting used by language bindings but\n",
      "  then being mistakenly passed down to XGBoost core, or some parameter actually being used\n",
      "  but getting flagged wrongly here. Please open an issue if you find any such cases.\n",
      "\n",
      "\n",
      "[11:12:13] WARNING: /Users/runner/work/xgboost/xgboost/src/learner.cc:576: \n",
      "Parameters: { \"feature_fraction\", \"num_leaves\" } might not be used.\n",
      "\n",
      "  This could be a false alarm, with some parameters getting used by language bindings but\n",
      "  then being mistakenly passed down to XGBoost core, or some parameter actually being used\n",
      "  but getting flagged wrongly here. Please open an issue if you find any such cases.\n",
      "\n",
      "\n",
      "[11:12:14] WARNING: /Users/runner/work/xgboost/xgboost/src/learner.cc:576: \n",
      "Parameters: { \"feature_fraction\", \"num_leaves\" } might not be used.\n",
      "\n",
      "  This could be a false alarm, with some parameters getting used by language bindings but\n",
      "  then being mistakenly passed down to XGBoost core, or some parameter actually being used\n",
      "  but getting flagged wrongly here. Please open an issue if you find any such cases.\n",
      "\n",
      "\n",
      "[11:12:15] WARNING: /Users/runner/work/xgboost/xgboost/src/learner.cc:576: \n",
      "Parameters: { \"feature_fraction\", \"num_leaves\" } might not be used.\n",
      "\n",
      "  This could be a false alarm, with some parameters getting used by language bindings but\n",
      "  then being mistakenly passed down to XGBoost core, or some parameter actually being used\n",
      "  but getting flagged wrongly here. Please open an issue if you find any such cases.\n",
      "\n",
      "\n",
      "[11:12:16] WARNING: /Users/runner/work/xgboost/xgboost/src/learner.cc:576: \n",
      "Parameters: { \"feature_fraction\", \"num_leaves\" } might not be used.\n",
      "\n",
      "  This could be a false alarm, with some parameters getting used by language bindings but\n",
      "  then being mistakenly passed down to XGBoost core, or some parameter actually being used\n",
      "  but getting flagged wrongly here. Please open an issue if you find any such cases.\n",
      "\n",
      "\n",
      "[11:12:17] WARNING: /Users/runner/work/xgboost/xgboost/src/learner.cc:576: \n",
      "Parameters: { \"feature_fraction\", \"num_leaves\" } might not be used.\n",
      "\n",
      "  This could be a false alarm, with some parameters getting used by language bindings but\n",
      "  then being mistakenly passed down to XGBoost core, or some parameter actually being used\n",
      "  but getting flagged wrongly here. Please open an issue if you find any such cases.\n",
      "\n",
      "\n",
      "[11:12:18] WARNING: /Users/runner/work/xgboost/xgboost/src/learner.cc:576: \n",
      "Parameters: { \"feature_fraction\", \"num_leaves\" } might not be used.\n",
      "\n",
      "  This could be a false alarm, with some parameters getting used by language bindings but\n",
      "  then being mistakenly passed down to XGBoost core, or some parameter actually being used\n",
      "  but getting flagged wrongly here. Please open an issue if you find any such cases.\n",
      "\n",
      "\n",
      "[11:12:19] WARNING: /Users/runner/work/xgboost/xgboost/src/learner.cc:576: \n",
      "Parameters: { \"feature_fraction\", \"num_leaves\" } might not be used.\n",
      "\n",
      "  This could be a false alarm, with some parameters getting used by language bindings but\n",
      "  then being mistakenly passed down to XGBoost core, or some parameter actually being used\n",
      "  but getting flagged wrongly here. Please open an issue if you find any such cases.\n",
      "\n",
      "\n",
      "[11:12:20] WARNING: /Users/runner/work/xgboost/xgboost/src/learner.cc:576: \n",
      "Parameters: { \"feature_fraction\", \"num_leaves\" } might not be used.\n",
      "\n",
      "  This could be a false alarm, with some parameters getting used by language bindings but\n",
      "  then being mistakenly passed down to XGBoost core, or some parameter actually being used\n",
      "  but getting flagged wrongly here. Please open an issue if you find any such cases.\n",
      "\n",
      "\n",
      "[11:12:21] WARNING: /Users/runner/work/xgboost/xgboost/src/learner.cc:576: \n",
      "Parameters: { \"feature_fraction\", \"num_leaves\" } might not be used.\n",
      "\n",
      "  This could be a false alarm, with some parameters getting used by language bindings but\n",
      "  then being mistakenly passed down to XGBoost core, or some parameter actually being used\n",
      "  but getting flagged wrongly here. Please open an issue if you find any such cases.\n",
      "\n",
      "\n",
      "Process Complete in : 10.238111972808838 sec.\n",
      "Model: XBoost w/o Selected Features\n",
      " R2 : 0.48160441852473684\n",
      "Adjusted R2: 0.48011263267876486\n",
      " MAE : 44.18280171224328\n",
      " MSE : 5407.250232171106\n",
      "RMSE: 73.51157349483125\n"
     ]
    }
   ],
   "source": [
    "name = 'XBoost w/o Selected Features'\n",
    "mae_scores, r2_scores, adjusted_r2, rmse_scores ,measured_time,model_name = cross_validation_report_reg(X,\n",
    "                                                                                                        y,estimator_xgb_selected, \n",
    "                                                                                                        model_name = name, \n",
    "                                                                                                        scale = True, \n",
    "                                                                                                        log_transform = True)\n",
    "mae_results[name] = mae_scores\n",
    "r2_adj[name] = adjusted_r2\n",
    "rmse[name] = rmse_scores\n",
    "r2_results[name] = r2_scores\n",
    "reg_time[name] = measured_time"
   ]
  },
  {
   "cell_type": "code",
   "execution_count": null,
   "metadata": {},
   "outputs": [
    {
     "name": "stdout",
     "output_type": "stream",
     "text": [
      "[18:06:09] WARNING: /Users/runner/work/xgboost/xgboost/src/learner.cc:576: \n",
      "Parameters: { \"feature_fraction\", \"num_leaves\" } might not be used.\n",
      "\n",
      "  This could be a false alarm, with some parameters getting used by language bindings but\n",
      "  then being mistakenly passed down to XGBoost core, or some parameter actually being used\n",
      "  but getting flagged wrongly here. Please open an issue if you find any such cases.\n",
      "\n",
      "\n",
      "[18:06:11] WARNING: /Users/runner/work/xgboost/xgboost/src/learner.cc:576: \n",
      "Parameters: { \"feature_fraction\", \"num_leaves\" } might not be used.\n",
      "\n",
      "  This could be a false alarm, with some parameters getting used by language bindings but\n",
      "  then being mistakenly passed down to XGBoost core, or some parameter actually being used\n",
      "  but getting flagged wrongly here. Please open an issue if you find any such cases.\n",
      "\n",
      "\n",
      "[18:06:13] WARNING: /Users/runner/work/xgboost/xgboost/src/learner.cc:576: \n",
      "Parameters: { \"feature_fraction\", \"num_leaves\" } might not be used.\n",
      "\n",
      "  This could be a false alarm, with some parameters getting used by language bindings but\n",
      "  then being mistakenly passed down to XGBoost core, or some parameter actually being used\n",
      "  but getting flagged wrongly here. Please open an issue if you find any such cases.\n",
      "\n",
      "\n",
      "[18:06:14] WARNING: /Users/runner/work/xgboost/xgboost/src/learner.cc:576: \n",
      "Parameters: { \"feature_fraction\", \"num_leaves\" } might not be used.\n",
      "\n",
      "  This could be a false alarm, with some parameters getting used by language bindings but\n",
      "  then being mistakenly passed down to XGBoost core, or some parameter actually being used\n",
      "  but getting flagged wrongly here. Please open an issue if you find any such cases.\n",
      "\n",
      "\n",
      "[18:06:16] WARNING: /Users/runner/work/xgboost/xgboost/src/learner.cc:576: \n",
      "Parameters: { \"feature_fraction\", \"num_leaves\" } might not be used.\n",
      "\n",
      "  This could be a false alarm, with some parameters getting used by language bindings but\n",
      "  then being mistakenly passed down to XGBoost core, or some parameter actually being used\n",
      "  but getting flagged wrongly here. Please open an issue if you find any such cases.\n",
      "\n",
      "\n",
      "[18:06:17] WARNING: /Users/runner/work/xgboost/xgboost/src/learner.cc:576: \n",
      "Parameters: { \"feature_fraction\", \"num_leaves\" } might not be used.\n",
      "\n",
      "  This could be a false alarm, with some parameters getting used by language bindings but\n",
      "  then being mistakenly passed down to XGBoost core, or some parameter actually being used\n",
      "  but getting flagged wrongly here. Please open an issue if you find any such cases.\n",
      "\n",
      "\n",
      "[18:06:19] WARNING: /Users/runner/work/xgboost/xgboost/src/learner.cc:576: \n",
      "Parameters: { \"feature_fraction\", \"num_leaves\" } might not be used.\n",
      "\n",
      "  This could be a false alarm, with some parameters getting used by language bindings but\n",
      "  then being mistakenly passed down to XGBoost core, or some parameter actually being used\n",
      "  but getting flagged wrongly here. Please open an issue if you find any such cases.\n",
      "\n",
      "\n",
      "[18:06:21] WARNING: /Users/runner/work/xgboost/xgboost/src/learner.cc:576: \n",
      "Parameters: { \"feature_fraction\", \"num_leaves\" } might not be used.\n",
      "\n",
      "  This could be a false alarm, with some parameters getting used by language bindings but\n",
      "  then being mistakenly passed down to XGBoost core, or some parameter actually being used\n",
      "  but getting flagged wrongly here. Please open an issue if you find any such cases.\n",
      "\n",
      "\n",
      "[18:06:22] WARNING: /Users/runner/work/xgboost/xgboost/src/learner.cc:576: \n",
      "Parameters: { \"feature_fraction\", \"num_leaves\" } might not be used.\n",
      "\n",
      "  This could be a false alarm, with some parameters getting used by language bindings but\n",
      "  then being mistakenly passed down to XGBoost core, or some parameter actually being used\n",
      "  but getting flagged wrongly here. Please open an issue if you find any such cases.\n",
      "\n",
      "\n",
      "[18:06:24] WARNING: /Users/runner/work/xgboost/xgboost/src/learner.cc:576: \n",
      "Parameters: { \"feature_fraction\", \"num_leaves\" } might not be used.\n",
      "\n",
      "  This could be a false alarm, with some parameters getting used by language bindings but\n",
      "  then being mistakenly passed down to XGBoost core, or some parameter actually being used\n",
      "  but getting flagged wrongly here. Please open an issue if you find any such cases.\n",
      "\n",
      "\n",
      "Process Complete in : 15.995748043060303 sec.\n",
      "Model: XBoost w/ Selected Features\n",
      " R2 : 0.49893782933390945\n",
      "Adjusted R2: 0.4979087429287624\n",
      " MAE : 43.28852839987786\n",
      "RMSE: 72.27345417167125\n"
     ]
    }
   ],
   "source": [
    "name = 'XBoost w/ Selected Features'\n",
    "X_selected = X[selected_feat_lgb]\n",
    "mae_scores, r2_scores, adjusted_r2, rmse_scores ,measured_time,model_name = cross_validation_report_reg(X_selected,\n",
    "                                                                                                        y,estimator_xgb_selected, \n",
    "                                                                                                        model_name = name, \n",
    "                                                                                                        scale = True, \n",
    "                                                                                                        log_transform = True)\n",
    "mae_results[name] = mae_scores\n",
    "r2_adj[name] = adjusted_r2\n",
    "rmse[name] = rmse_scores\n",
    "r2_results[name] = r2_scores\n",
    "reg_time[name] = measured_time"
   ]
  },
  {
   "cell_type": "markdown",
   "metadata": {},
   "source": [
    "## Exporting final model\n"
   ]
  },
  {
   "cell_type": "code",
   "execution_count": null,
   "metadata": {},
   "outputs": [
    {
     "name": "stderr",
     "output_type": "stream",
     "text": [
      "/Users/daniela/Documents/myRepos/housing_prediction_ny/ENV/lib/python3.9/site-packages/xgboost/data.py:262: FutureWarning: pandas.Int64Index is deprecated and will be removed from pandas in a future version. Use pandas.Index with the appropriate dtype instead.\n",
      "  elif isinstance(data.columns, (pd.Int64Index, pd.RangeIndex)):\n"
     ]
    },
    {
     "name": "stdout",
     "output_type": "stream",
     "text": [
      "[11:12:34] WARNING: /Users/runner/work/xgboost/xgboost/src/learner.cc:576: \n",
      "Parameters: { \"feature_fraction\", \"num_leaves\" } might not be used.\n",
      "\n",
      "  This could be a false alarm, with some parameters getting used by language bindings but\n",
      "  then being mistakenly passed down to XGBoost core, or some parameter actually being used\n",
      "  but getting flagged wrongly here. Please open an issue if you find any such cases.\n",
      "\n",
      "\n"
     ]
    },
    {
     "data": {
      "text/plain": [
       "XGBRegressor(base_score=0.5, booster='gbtree', colsample_bylevel=1,\n",
       "             colsample_bynode=1, colsample_bytree=1, enable_categorical=False,\n",
       "             feature_fraction=0.7855246439257477, gamma=0, gpu_id=-1,\n",
       "             importance_type=None, interaction_constraints='',\n",
       "             learning_rate=0.25056586961086624, max_delta_step=0, max_depth=6,\n",
       "             min_child_weight=1, missing=nan, monotone_constraints='()',\n",
       "             n_estimators=100, n_jobs=12, num_leaves=11, num_parallel_tree=1,\n",
       "             predictor='auto', random_state=0, reg_alpha=0, reg_lambda=1,\n",
       "             scale_pos_weight=1, subsample=1, tree_method='exact',\n",
       "             validate_parameters=1, verbosity=None)"
      ]
     },
     "execution_count": 104,
     "metadata": {},
     "output_type": "execute_result"
    }
   ],
   "source": [
    "#fit the model\n",
    "estimator_xgb_selected.fit(X,y)"
   ]
  },
  {
   "cell_type": "code",
   "execution_count": null,
   "metadata": {},
   "outputs": [
    {
     "data": {
      "text/plain": [
       "room_type                           1.0\n",
       "minimum_nights                     30.0\n",
       "number_of_reviews                   0.0\n",
       "reviews_per_month                   0.0\n",
       "calculated_host_listings_count      2.0\n",
       "availability_365                  249.0\n",
       "NG_Brooklyn                         0.0\n",
       "NG_Manhattan                        1.0\n",
       "NG_Queens                           0.0\n",
       "NG_Staten Island                    0.0\n",
       "amenities_500                     148.0\n",
       "leisure_500                         9.0\n",
       "subway_500                          0.0\n",
       "natural_500                         1.0\n",
       "Name: 37062, dtype: float64"
      ]
     },
     "execution_count": 107,
     "metadata": {},
     "output_type": "execute_result"
    }
   ],
   "source": [
    "X_test.iloc[0,:]"
   ]
  },
  {
   "cell_type": "code",
   "execution_count": 52,
   "metadata": {},
   "outputs": [],
   "source": [
    "scaler = StandardScaler()\n",
    "scaler.fit(X)\n",
    "X_train = scaler.transform(X)\n",
    "import pickle\n",
    "scalerfile = 'scaler.sav'\n",
    "pickle.dump(scaler, open(scalerfile, 'wb'))\n",
    "# saving the model \n",
    "import pickle \n",
    "pickle_out = open(\"model_regressor.pkl\", mode = \"wb\") \n",
    "pickle.dump(estimator_xgb_selected, pickle_out) \n",
    "pickle_out.close()"
   ]
  },
  {
   "cell_type": "code",
   "execution_count": 135,
   "metadata": {},
   "outputs": [
    {
     "name": "stderr",
     "output_type": "stream",
     "text": [
      "/Users/daniela/Documents/myRepos/housing_prediction_ny/ENV/lib/python3.9/site-packages/sklearn/base.py:443: UserWarning: X has feature names, but StandardScaler was fitted without feature names\n",
      "  warnings.warn(\n"
     ]
    }
   ],
   "source": [
    "X_scaled = pd.DataFrame(scaler.transform(X_test.iloc[0:5,:]),columns = X_test.columns)\n"
   ]
  },
  {
   "cell_type": "code",
   "execution_count": 138,
   "metadata": {},
   "outputs": [
    {
     "name": "stderr",
     "output_type": "stream",
     "text": [
      "/Users/daniela/Documents/myRepos/housing_prediction_ny/ENV/lib/python3.9/site-packages/xgboost/data.py:262: FutureWarning: pandas.Int64Index is deprecated and will be removed from pandas in a future version. Use pandas.Index with the appropriate dtype instead.\n",
      "  elif isinstance(data.columns, (pd.Int64Index, pd.RangeIndex)):\n"
     ]
    },
    {
     "data": {
      "text/plain": [
       "array([249.48303 ,  59.745598, 172.1342  ,  47.91668 ,  66.92838 ],\n",
       "      dtype=float32)"
      ]
     },
     "execution_count": 138,
     "metadata": {},
     "output_type": "execute_result"
    }
   ],
   "source": [
    "estimator_xgb_selected.predict(X_scaled)"
   ]
  },
  {
   "cell_type": "markdown",
   "metadata": {},
   "source": [
    "## Explaining the results"
   ]
  },
  {
   "cell_type": "code",
   "execution_count": 64,
   "metadata": {},
   "outputs": [
    {
     "data": {
      "text/html": [
       "<div>\n",
       "<style scoped>\n",
       "    .dataframe tbody tr th:only-of-type {\n",
       "        vertical-align: middle;\n",
       "    }\n",
       "\n",
       "    .dataframe tbody tr th {\n",
       "        vertical-align: top;\n",
       "    }\n",
       "\n",
       "    .dataframe thead th {\n",
       "        text-align: right;\n",
       "    }\n",
       "</style>\n",
       "<table border=\"1\" class=\"dataframe\">\n",
       "  <thead>\n",
       "    <tr style=\"text-align: right;\">\n",
       "      <th></th>\n",
       "      <th>room_type</th>\n",
       "      <th>minimum_nights</th>\n",
       "      <th>number_of_reviews</th>\n",
       "      <th>reviews_per_month</th>\n",
       "      <th>calculated_host_listings_count</th>\n",
       "      <th>availability_365</th>\n",
       "      <th>NG_Brooklyn</th>\n",
       "      <th>NG_Manhattan</th>\n",
       "      <th>NG_Queens</th>\n",
       "      <th>NG_Staten Island</th>\n",
       "      <th>amenities_500</th>\n",
       "      <th>leisure_500</th>\n",
       "      <th>subway_500</th>\n",
       "      <th>natural_500</th>\n",
       "    </tr>\n",
       "  </thead>\n",
       "  <tbody>\n",
       "    <tr>\n",
       "      <th>17757</th>\n",
       "      <td>1</td>\n",
       "      <td>1</td>\n",
       "      <td>0</td>\n",
       "      <td>0.00</td>\n",
       "      <td>1</td>\n",
       "      <td>0</td>\n",
       "      <td>1</td>\n",
       "      <td>0</td>\n",
       "      <td>0</td>\n",
       "      <td>0</td>\n",
       "      <td>2</td>\n",
       "      <td>1</td>\n",
       "      <td>0</td>\n",
       "      <td>0</td>\n",
       "    </tr>\n",
       "    <tr>\n",
       "      <th>2154</th>\n",
       "      <td>1</td>\n",
       "      <td>30</td>\n",
       "      <td>4</td>\n",
       "      <td>0.08</td>\n",
       "      <td>8</td>\n",
       "      <td>346</td>\n",
       "      <td>0</td>\n",
       "      <td>1</td>\n",
       "      <td>0</td>\n",
       "      <td>0</td>\n",
       "      <td>72</td>\n",
       "      <td>7</td>\n",
       "      <td>0</td>\n",
       "      <td>1</td>\n",
       "    </tr>\n",
       "    <tr>\n",
       "      <th>37924</th>\n",
       "      <td>0</td>\n",
       "      <td>2</td>\n",
       "      <td>3</td>\n",
       "      <td>0.40</td>\n",
       "      <td>2</td>\n",
       "      <td>105</td>\n",
       "      <td>0</td>\n",
       "      <td>0</td>\n",
       "      <td>1</td>\n",
       "      <td>0</td>\n",
       "      <td>0</td>\n",
       "      <td>2</td>\n",
       "      <td>0</td>\n",
       "      <td>0</td>\n",
       "    </tr>\n",
       "    <tr>\n",
       "      <th>46844</th>\n",
       "      <td>1</td>\n",
       "      <td>2</td>\n",
       "      <td>0</td>\n",
       "      <td>0.00</td>\n",
       "      <td>1</td>\n",
       "      <td>245</td>\n",
       "      <td>0</td>\n",
       "      <td>1</td>\n",
       "      <td>0</td>\n",
       "      <td>0</td>\n",
       "      <td>139</td>\n",
       "      <td>5</td>\n",
       "      <td>0</td>\n",
       "      <td>1</td>\n",
       "    </tr>\n",
       "    <tr>\n",
       "      <th>15266</th>\n",
       "      <td>0</td>\n",
       "      <td>2</td>\n",
       "      <td>0</td>\n",
       "      <td>0.00</td>\n",
       "      <td>1</td>\n",
       "      <td>0</td>\n",
       "      <td>1</td>\n",
       "      <td>0</td>\n",
       "      <td>0</td>\n",
       "      <td>0</td>\n",
       "      <td>45</td>\n",
       "      <td>18</td>\n",
       "      <td>1</td>\n",
       "      <td>0</td>\n",
       "    </tr>\n",
       "    <tr>\n",
       "      <th>...</th>\n",
       "      <td>...</td>\n",
       "      <td>...</td>\n",
       "      <td>...</td>\n",
       "      <td>...</td>\n",
       "      <td>...</td>\n",
       "      <td>...</td>\n",
       "      <td>...</td>\n",
       "      <td>...</td>\n",
       "      <td>...</td>\n",
       "      <td>...</td>\n",
       "      <td>...</td>\n",
       "      <td>...</td>\n",
       "      <td>...</td>\n",
       "      <td>...</td>\n",
       "    </tr>\n",
       "    <tr>\n",
       "      <th>26162</th>\n",
       "      <td>1</td>\n",
       "      <td>5</td>\n",
       "      <td>40</td>\n",
       "      <td>1.84</td>\n",
       "      <td>1</td>\n",
       "      <td>88</td>\n",
       "      <td>1</td>\n",
       "      <td>0</td>\n",
       "      <td>0</td>\n",
       "      <td>0</td>\n",
       "      <td>51</td>\n",
       "      <td>5</td>\n",
       "      <td>0</td>\n",
       "      <td>1</td>\n",
       "    </tr>\n",
       "    <tr>\n",
       "      <th>28004</th>\n",
       "      <td>1</td>\n",
       "      <td>1</td>\n",
       "      <td>61</td>\n",
       "      <td>3.23</td>\n",
       "      <td>1</td>\n",
       "      <td>0</td>\n",
       "      <td>1</td>\n",
       "      <td>0</td>\n",
       "      <td>0</td>\n",
       "      <td>0</td>\n",
       "      <td>70</td>\n",
       "      <td>5</td>\n",
       "      <td>0</td>\n",
       "      <td>2</td>\n",
       "    </tr>\n",
       "    <tr>\n",
       "      <th>5622</th>\n",
       "      <td>1</td>\n",
       "      <td>5</td>\n",
       "      <td>14</td>\n",
       "      <td>0.28</td>\n",
       "      <td>2</td>\n",
       "      <td>363</td>\n",
       "      <td>1</td>\n",
       "      <td>0</td>\n",
       "      <td>0</td>\n",
       "      <td>0</td>\n",
       "      <td>16</td>\n",
       "      <td>2</td>\n",
       "      <td>1</td>\n",
       "      <td>0</td>\n",
       "    </tr>\n",
       "    <tr>\n",
       "      <th>43525</th>\n",
       "      <td>0</td>\n",
       "      <td>7</td>\n",
       "      <td>0</td>\n",
       "      <td>0.00</td>\n",
       "      <td>1</td>\n",
       "      <td>0</td>\n",
       "      <td>1</td>\n",
       "      <td>0</td>\n",
       "      <td>0</td>\n",
       "      <td>0</td>\n",
       "      <td>17</td>\n",
       "      <td>3</td>\n",
       "      <td>0</td>\n",
       "      <td>0</td>\n",
       "    </tr>\n",
       "    <tr>\n",
       "      <th>23852</th>\n",
       "      <td>1</td>\n",
       "      <td>2</td>\n",
       "      <td>3</td>\n",
       "      <td>0.12</td>\n",
       "      <td>1</td>\n",
       "      <td>0</td>\n",
       "      <td>0</td>\n",
       "      <td>1</td>\n",
       "      <td>0</td>\n",
       "      <td>0</td>\n",
       "      <td>5</td>\n",
       "      <td>6</td>\n",
       "      <td>0</td>\n",
       "      <td>1</td>\n",
       "    </tr>\n",
       "  </tbody>\n",
       "</table>\n",
       "<p>1000 rows × 14 columns</p>\n",
       "</div>"
      ],
      "text/plain": [
       "       room_type  minimum_nights  number_of_reviews  reviews_per_month  \\\n",
       "17757          1               1                  0               0.00   \n",
       "2154           1              30                  4               0.08   \n",
       "37924          0               2                  3               0.40   \n",
       "46844          1               2                  0               0.00   \n",
       "15266          0               2                  0               0.00   \n",
       "...          ...             ...                ...                ...   \n",
       "26162          1               5                 40               1.84   \n",
       "28004          1               1                 61               3.23   \n",
       "5622           1               5                 14               0.28   \n",
       "43525          0               7                  0               0.00   \n",
       "23852          1               2                  3               0.12   \n",
       "\n",
       "       calculated_host_listings_count  availability_365  NG_Brooklyn  \\\n",
       "17757                               1                 0            1   \n",
       "2154                                8               346            0   \n",
       "37924                               2               105            0   \n",
       "46844                               1               245            0   \n",
       "15266                               1                 0            1   \n",
       "...                               ...               ...          ...   \n",
       "26162                               1                88            1   \n",
       "28004                               1                 0            1   \n",
       "5622                                2               363            1   \n",
       "43525                               1                 0            1   \n",
       "23852                               1                 0            0   \n",
       "\n",
       "       NG_Manhattan  NG_Queens  NG_Staten Island  amenities_500  leisure_500  \\\n",
       "17757             0          0                 0              2            1   \n",
       "2154              1          0                 0             72            7   \n",
       "37924             0          1                 0              0            2   \n",
       "46844             1          0                 0            139            5   \n",
       "15266             0          0                 0             45           18   \n",
       "...             ...        ...               ...            ...          ...   \n",
       "26162             0          0                 0             51            5   \n",
       "28004             0          0                 0             70            5   \n",
       "5622              0          0                 0             16            2   \n",
       "43525             0          0                 0             17            3   \n",
       "23852             1          0                 0              5            6   \n",
       "\n",
       "       subway_500  natural_500  \n",
       "17757           0            0  \n",
       "2154            0            1  \n",
       "37924           0            0  \n",
       "46844           0            1  \n",
       "15266           1            0  \n",
       "...           ...          ...  \n",
       "26162           0            1  \n",
       "28004           0            2  \n",
       "5622            1            0  \n",
       "43525           0            0  \n",
       "23852           0            1  \n",
       "\n",
       "[1000 rows x 14 columns]"
      ]
     },
     "execution_count": 64,
     "metadata": {},
     "output_type": "execute_result"
    }
   ],
   "source": [
    "import shap\n",
    "import xgboost\n",
    "import sklearn\n",
    "# Using a random sample of the dataframe for better time computation\n",
    "X_s = train_df.drop(['price'], axis=1)\n",
    "y_s = train_df['price']\n",
    "X_st = test_df.drop(['price'], axis=1)\n",
    "y_st = test_df['price']\n",
    "X_sampled = X_s.sample(1000, random_state=10)\n",
    "X_sampled"
   ]
  },
  {
   "cell_type": "code",
   "execution_count": 65,
   "metadata": {},
   "outputs": [
    {
     "name": "stderr",
     "output_type": "stream",
     "text": [
      "pandas.Int64Index is deprecated and will be removed from pandas in a future version. Use pandas.Index with the appropriate dtype instead.\n"
     ]
    },
    {
     "name": "stdout",
     "output_type": "stream",
     "text": [
      "[14:40:20] WARNING: /Users/runner/work/xgboost/xgboost/src/learner.cc:576: \n",
      "Parameters: { \"feature_fraction\", \"num_leaves\" } might not be used.\n",
      "\n",
      "  This could be a false alarm, with some parameters getting used by language bindings but\n",
      "  then being mistakenly passed down to XGBoost core, or some parameter actually being used\n",
      "  but getting flagged wrongly here. Please open an issue if you find any such cases.\n",
      "\n",
      "\n"
     ]
    },
    {
     "name": "stderr",
     "output_type": "stream",
     "text": [
      "ntree_limit is deprecated, use `iteration_range` or model slicing instead.\n"
     ]
    }
   ],
   "source": [
    "estimator_xgb_selected.fit(X_s, y_s, \n",
    "             early_stopping_rounds=5, \n",
    "             eval_set=[(X_st, y_st)], \n",
    "             verbose=False)\n",
    "explainer = shap.TreeExplainer(estimator_xgb_selected)\n",
    "shap_values = explainer.shap_values(X_sampled)"
   ]
  },
  {
   "cell_type": "code",
   "execution_count": 66,
   "metadata": {},
   "outputs": [
    {
     "data": {
      "image/png": "[encoded data removed]",
      "text/plain": [
       "<Figure size 576x511.2 with 2 Axes>"
      ]
     },
     "metadata": {},
     "output_type": "display_data"
    }
   ],
   "source": [
    "# summarize the effects of all the features\n",
    "shap.summary_plot(shap_values, X_sampled)"
   ]
  },
  {
   "cell_type": "code",
   "execution_count": 67,
   "metadata": {},
   "outputs": [
    {
     "data": {
      "image/png": "[encoded data removed]",
      "text/plain": [
       "<Figure size 576x511.2 with 1 Axes>"
      ]
     },
     "metadata": {},
     "output_type": "display_data"
    }
   ],
   "source": [
    "shap.summary_plot(shap_values, X_sampled, plot_type=\"bar\")"
   ]
  },
  {
   "cell_type": "markdown",
   "metadata": {},
   "source": [
    "## Condifence Intervals with GB Quantile Regression\n"
   ]
  },
  {
   "cell_type": "code",
   "execution_count": 68,
   "metadata": {},
   "outputs": [
    {
     "data": {
      "text/plain": [
       "XGBRegressor(base_score=0.5, booster='gbtree', colsample_bylevel=1,\n",
       "             colsample_bynode=1, colsample_bytree=1, enable_categorical=False,\n",
       "             feature_fraction=0.7402283829232867, gamma=0, gpu_id=-1,\n",
       "             importance_type=None, interaction_constraints='',\n",
       "             learning_rate=0.24846947488119883, max_delta_step=0, max_depth=7,\n",
       "             min_child_weight=1, missing=nan, monotone_constraints='()',\n",
       "             n_estimators=100, n_jobs=12, num_leaves=14, num_parallel_tree=1,\n",
       "             predictor='auto', random_state=0, reg_alpha=0, reg_lambda=1,\n",
       "             scale_pos_weight=1, subsample=1, tree_method='exact',\n",
       "             validate_parameters=1, verbosity=None)"
      ]
     },
     "execution_count": 68,
     "metadata": {},
     "output_type": "execute_result"
    }
   ],
   "source": [
    "estimator_xgb_selected"
   ]
  },
  {
   "cell_type": "code",
   "execution_count": 69,
   "metadata": {},
   "outputs": [
    {
     "name": "stderr",
     "output_type": "stream",
     "text": [
      "'early_stopping_rounds' argument is deprecated and will be removed in a future release of LightGBM. Pass 'early_stopping()' callback via 'callbacks' argument instead.\n",
      "'verbose_eval' argument is deprecated and will be removed in a future release of LightGBM. Pass 'log_evaluation()' callback via 'callbacks' argument instead.\n"
     ]
    },
    {
     "name": "stdout",
     "output_type": "stream",
     "text": [
      "[LightGBM] [Warning] Found whitespace in feature_names, replace with underlines\n",
      "[LightGBM] [Warning] Auto-choosing col-wise multi-threading, the overhead of testing was 0.001895 seconds.\n",
      "You can set `force_col_wise=true` to remove the overhead.\n",
      "[LightGBM] [Info] Total Bins 1157\n",
      "[LightGBM] [Info] Number of data points in the train set: 39040, number of used features: 14\n",
      "[LightGBM] [Warning] Found whitespace in feature_names, replace with underlines\n",
      "[LightGBM] [Info] Start training from score 200.000000\n",
      "Training until validation scores don't improve for 250 rounds\n",
      "[50]\tvalid_0's quantile: 20.649\n",
      "[100]\tvalid_0's quantile: 20.5176\n",
      "[150]\tvalid_0's quantile: 20.433\n",
      "[200]\tvalid_0's quantile: 20.3927\n",
      "[250]\tvalid_0's quantile: 20.3856\n",
      "[LightGBM] [Warning] No further splits with positive gain, best gain: -inf\n",
      "[300]\tvalid_0's quantile: 20.3873\n",
      "[LightGBM] [Warning] No further splits with positive gain, best gain: -inf\n",
      "[350]\tvalid_0's quantile: 20.3474\n",
      "[LightGBM] [Warning] No further splits with positive gain, best gain: -inf\n",
      "[400]\tvalid_0's quantile: 20.3315\n",
      "[LightGBM] [Warning] No further splits with positive gain, best gain: -inf\n",
      "[LightGBM] [Warning] No further splits with positive gain, best gain: -inf\n",
      "[450]\tvalid_0's quantile: 20.3196\n",
      "[500]\tvalid_0's quantile: 20.3263\n",
      "[550]\tvalid_0's quantile: 20.2997\n",
      "[600]\tvalid_0's quantile: 20.2985\n",
      "[650]\tvalid_0's quantile: 20.3014\n",
      "[LightGBM] [Warning] No further splits with positive gain, best gain: -inf\n",
      "[LightGBM] [Warning] No further splits with positive gain, best gain: -inf\n",
      "[700]\tvalid_0's quantile: 20.3096\n",
      "[LightGBM] [Warning] No further splits with positive gain, best gain: -inf\n",
      "[LightGBM] [Warning] No further splits with positive gain, best gain: -inf\n",
      "[LightGBM] [Warning] No further splits with positive gain, best gain: -inf\n",
      "[750]\tvalid_0's quantile: 20.3166\n",
      "[800]\tvalid_0's quantile: 20.3099\n",
      "[LightGBM] [Warning] No further splits with positive gain, best gain: -inf\n",
      "[LightGBM] [Warning] No further splits with positive gain, best gain: -inf\n",
      "[LightGBM] [Warning] No further splits with positive gain, best gain: -inf\n",
      "[850]\tvalid_0's quantile: 20.3102\n",
      "Early stopping, best iteration is:\n",
      "[635]\tvalid_0's quantile: 20.2949\n",
      "[LightGBM] [Warning] Found whitespace in feature_names, replace with underlines\n",
      "[LightGBM] [Warning] Auto-choosing row-wise multi-threading, the overhead of testing was 0.000257 seconds.\n",
      "You can set `force_row_wise=true` to remove the overhead.\n",
      "And if memory is not enough, you can set `force_col_wise=true`.\n",
      "[LightGBM] [Info] Total Bins 1157\n",
      "[LightGBM] [Info] Number of data points in the train set: 39040, number of used features: 14\n",
      "[LightGBM] [Info] Start training from score 60.000000\n",
      "Training until validation scores don't improve for 250 rounds\n",
      "[50]\tvalid_0's quantile: 12.6487\n",
      "[100]\tvalid_0's quantile: 12.5369\n",
      "[150]\tvalid_0's quantile: 12.4922\n",
      "[LightGBM] [Warning] No further splits with positive gain, best gain: -inf\n",
      "[200]\tvalid_0's quantile: 12.4768\n",
      "[250]\tvalid_0's quantile: 12.473\n",
      "[LightGBM] [Warning] No further splits with positive gain, best gain: -inf\n",
      "[300]\tvalid_0's quantile: 12.4702\n",
      "[LightGBM] [Warning] No further splits with positive gain, best gain: -inf\n",
      "[350]\tvalid_0's quantile: 12.4692\n",
      "[400]\tvalid_0's quantile: 12.4537\n",
      "[450]\tvalid_0's quantile: 12.4427\n",
      "[500]\tvalid_0's quantile: 12.4411\n",
      "[550]\tvalid_0's quantile: 12.4436\n",
      "[LightGBM] [Warning] No further splits with positive gain, best gain: -inf\n",
      "[600]\tvalid_0's quantile: 12.4445\n",
      "[LightGBM] [Warning] No further splits with positive gain, best gain: -inf\n",
      "[650]\tvalid_0's quantile: 12.4439\n",
      "[700]\tvalid_0's quantile: 12.4458\n",
      "[LightGBM] [Warning] No further splits with positive gain, best gain: -inf\n",
      "Early stopping, best iteration is:\n",
      "[469]\tvalid_0's quantile: 12.4395\n"
     ]
    }
   ],
   "source": [
    "# left and right quantiles used to estimate confidence\n",
    "alpha_qleft = 0.2\n",
    "alpha_qright = 0.8\n",
    "\n",
    "import lightgbm as lgb\n",
    "# model hyperparams\n",
    "model_params = {\n",
    "    'objective':'quantile',\n",
    "    'metric':'quantile',\n",
    "    'max_depth': 6,\n",
    "    'num_leaves': 11,\n",
    "    'min_data_in_leaf': 15,\n",
    "    'learning_rate': 0.25056586961086624,\n",
    "    'feature_fraction':0.7855246439257477,\n",
    "    'seed':rs,\n",
    "}\n",
    "\n",
    "model_params[\"alpha\"] = alpha_qright\n",
    "    \n",
    "train_df_kwargs = {\n",
    "    \"data\":train_df.drop(['price'], axis=1),\n",
    "    \"free_raw_data\":False,\n",
    "    \"label\":train_df.price.values\n",
    "}\n",
    "_train_data = lgb.Dataset(**train_df_kwargs)\n",
    "\n",
    "valid_df_kwargs = {\n",
    "    \"data\":test_df.drop(['price'], axis=1),\n",
    "    \"free_raw_data\":False,\n",
    "    \"label\":test_df.price.values\n",
    "}\n",
    "_valid_data = lgb.Dataset(**valid_df_kwargs)\n",
    "\n",
    "\n",
    "training_kwargs = {\n",
    "    \"train_set\": _train_data,\n",
    "    \"valid_sets\": _valid_data,\n",
    "    \"early_stopping_rounds\": 250,\n",
    "    \"num_boost_round\": 1000,\n",
    "    \"params\": model_params,\n",
    "    \"verbose_eval\":50,\n",
    "}\n",
    "\n",
    "model_right = lgb.train(**training_kwargs)\n",
    "model_params[\"alpha\"] = alpha_qleft\n",
    "model_left = lgb.train(**training_kwargs)"
   ]
  },
  {
   "cell_type": "code",
   "execution_count": 165,
   "metadata": {},
   "outputs": [
    {
     "data": {
      "text/plain": [
       "array([304.01850185,  75.52842031, 218.12312775, ..., 132.13438139,\n",
       "        72.41872624,  76.48298617])"
      ]
     },
     "execution_count": 165,
     "metadata": {},
     "output_type": "execute_result"
    }
   ],
   "source": [
    "model_right.predict(X_test)"
   ]
  },
  {
   "cell_type": "code",
   "execution_count": 166,
   "metadata": {},
   "outputs": [
    {
     "data": {
      "text/plain": [
       "array([136.23920977,  37.69549826, 137.30639513, ...,  81.47056531,\n",
       "        49.20774173,  45.20743503])"
      ]
     },
     "execution_count": 166,
     "metadata": {},
     "output_type": "execute_result"
    }
   ],
   "source": [
    "model_left.predict(X_test)"
   ]
  },
  {
   "cell_type": "code",
   "execution_count": 167,
   "metadata": {},
   "outputs": [
    {
     "name": "stderr",
     "output_type": "stream",
     "text": [
      "/Users/daniela/Documents/myRepos/housing_prediction_ny/ENV/lib/python3.9/site-packages/xgboost/data.py:262: FutureWarning: pandas.Int64Index is deprecated and will be removed from pandas in a future version. Use pandas.Index with the appropriate dtype instead.\n",
      "  elif isinstance(data.columns, (pd.Int64Index, pd.RangeIndex)):\n"
     ]
    },
    {
     "data": {
      "text/plain": [
       "array([249.48303 ,  59.745598, 172.1342  , ..., 100.06982 ,  69.011826,\n",
       "        57.676132], dtype=float32)"
      ]
     },
     "execution_count": 167,
     "metadata": {},
     "output_type": "execute_result"
    }
   ],
   "source": [
    "estimator_xgb_selected.predict(X_test)"
   ]
  },
  {
   "cell_type": "code",
   "execution_count": 70,
   "metadata": {},
   "outputs": [],
   "source": [
    "# saving the model \n",
    "pickle_out = open(\"model_regressor_uq.pkl\", mode = \"wb\") \n",
    "pickle.dump(model_right, pickle_out) \n",
    "pickle_out.close()"
   ]
  },
  {
   "cell_type": "code",
   "execution_count": 71,
   "metadata": {},
   "outputs": [],
   "source": [
    "pickle_out = open(\"model_regressor_lq.pkl\", mode = \"wb\") \n",
    "pickle.dump(model_left, pickle_out) \n",
    "pickle_out.close()"
   ]
  },
  {
   "cell_type": "markdown",
   "metadata": {},
   "source": [
    "## Exploring a Neural Network Model \n"
   ]
  },
  {
   "cell_type": "markdown",
   "metadata": {},
   "source": [
    "### Represent Geolocation as Feature Cross\n"
   ]
  },
  {
   "cell_type": "code",
   "execution_count": 91,
   "metadata": {},
   "outputs": [
    {
     "name": "stdout",
     "output_type": "stream",
     "text": [
      "2.8.0\n"
     ]
    }
   ],
   "source": [
    "import tensorflow as tf\n",
    "print(tf.__version__)"
   ]
  },
  {
   "cell_type": "code",
   "execution_count": 375,
   "metadata": {},
   "outputs": [],
   "source": [
    "resolution_in_degrees = 1.0 \n",
    "# Empty list to hold the generated feature column.\n",
    "feature_columns = []\n",
    "max_long=train_df_transformed['longitude'].max()\n",
    "min_long=train_df_transformed['longitude'].min()\n",
    "\n",
    "diff=max_long-min_long\n",
    "diff/=100\n",
    "max_lat=train_df_transformed['latitude'].max()\n",
    "min_lat=train_df_transformed['latitude'].min()\n",
    "\n",
    "d=max_lat-min_lat\n",
    "d/=100\n",
    "\n",
    "# Create a bucket feature column for latitude.\n",
    "latitude_as_a_numeric_column = tf.feature_column.numeric_column(\"latitude\")\n",
    "latitude_boundaries=[]\n",
    "for i in np.arange(min_lat, max_lat, d):\n",
    "    latitude_boundaries.append(min_long+i*d)\n",
    "latitude = tf.feature_column.bucketized_column(latitude_as_a_numeric_column, latitude_boundaries)\n",
    "\n",
    "# Create a bucket feature column for longitude.\n",
    "longitude_as_a_numeric_column = tf.feature_column.numeric_column(\"longitude\")\n",
    "longitude_boundaries=[]\n",
    "for i in np.arange(min_long, max_long, diff):\n",
    "    longitude_boundaries.append(min_long+i*diff)\n",
    "longitude = tf.feature_column.bucketized_column(longitude_as_a_numeric_column, longitude_boundaries)\n",
    "\n",
    "# The model will learn separate weights for each  of the cells.\n",
    "latitude_x_longitude = tf.feature_column.crossed_column([latitude, longitude], hash_bucket_size=100)\n",
    "crossed_feature = tf.feature_column.indicator_column(latitude_x_longitude)\n",
    "feature_columns.append(crossed_feature)\n",
    "feature_cross_feature_layer = tf.keras.layers.DenseFeatures(feature_columns)"
   ]
  },
  {
   "cell_type": "markdown",
   "metadata": {},
   "source": [
    "### Keras Model\n"
   ]
  },
  {
   "cell_type": "code",
   "execution_count": 348,
   "metadata": {},
   "outputs": [],
   "source": [
    "from tensorflow.keras.layers import Dense, Dropout,DenseFeatures\n",
    "tf.keras.backend.set_floatx('float32')"
   ]
  },
  {
   "cell_type": "code",
   "execution_count": 377,
   "metadata": {},
   "outputs": [],
   "source": [
    "learning_rate = 0.08\n",
    "epochs = 30\n",
    "batch_size = 100\n",
    "label_name = 'price'"
   ]
  },
  {
   "cell_type": "code",
   "execution_count": 378,
   "metadata": {},
   "outputs": [],
   "source": [
    "def create_model(my_learning_rate, feature_layer):\n",
    "  \n",
    "  model = tf.keras.models.Sequential()\n",
    "  # Add the layer containing the feature columns to the model.\n",
    "  model.add(feature_layer)\n",
    "  # Add dense layers\n",
    "  #model.add(tf.keras.layers.Dense(units=128, activation='relu'))\n",
    "  #model.add(tf.keras.layers.Dense(units=64, activation='relu'))\n",
    "  model.add(tf.keras.layers.Dense(32,activation='relu', kernel_regularizer=tf.keras.regularizers.L2(0.005)))  # L2 Regularization Penalty\n",
    "  #model.add(tf.keras.layers.Dropout(0.3))\n",
    "  model.add(tf.keras.layers.Dense(1))\n",
    "  opt = tf.keras.optimizers.SGD(learning_rate=my_learning_rate, nesterov=True)\n",
    "  rmse = tf.keras.metrics.RootMeanSquaredError()\n",
    "  # Compiling th emodel\n",
    "  model.compile(optimizer=opt,\n",
    "                loss=\"mean_squared_error\",\n",
    "                metrics=['mae','mse', rmse])\n",
    "\n",
    "  return model           \n"
   ]
  },
  {
   "cell_type": "code",
   "execution_count": 379,
   "metadata": {},
   "outputs": [],
   "source": [
    "# Build the model, this time passing in the feature_cross_feature_layer: \n",
    "my_model = create_model(learning_rate, feature_cross_feature_layer)"
   ]
  },
  {
   "cell_type": "code",
   "execution_count": 380,
   "metadata": {},
   "outputs": [],
   "source": [
    "def train_model(model, dataset, valdataset, epochs, batch_size, label_name):\n",
    "  \"\"\"Training the neural net\"\"\"\n",
    "  \n",
    "  lr_reducer=tf.keras.callbacks.ReduceLROnPlateau(monitor='val_loss',patience=2,factor=0.2)\n",
    "  early_stopper=tf.keras.callbacks.EarlyStopping(patience=5)\n",
    "  callbacks=[lr_reducer,early_stopper]\n",
    "\n",
    "  features = {name:np.array(value) for name, value in dataset.items()}\n",
    "  label = np.array(features.pop(label_name))\n",
    "  val_features = {name:np.array(value) for name, value in valdataset.items()}\n",
    "  val_label = np.array(val_features.pop(label_name))\n",
    "  history = model.fit(x=features, y=label, validation_data = (val_features, val_label), callbacks = callbacks, \n",
    "                      batch_size=batch_size,\n",
    "                      epochs=epochs)\n",
    "\n",
    "  # The list of epochs is stored separately from the rest of history.\n",
    "  epochs = history.epoch\n",
    "  # Calculating the MAE for each epoc\n",
    "  hist = pd.DataFrame(history.history)\n",
    "  rmse = hist[\"root_mean_squared_error\"]\n",
    "\n",
    "  return epochs, rmse, history"
   ]
  },
  {
   "cell_type": "code",
   "execution_count": 381,
   "metadata": {},
   "outputs": [
    {
     "name": "stdout",
     "output_type": "stream",
     "text": [
      "Epoch 1/30\n",
      "WARNING:tensorflow:Layers in a Sequential model should only have a single input tensor. Received: inputs={'room_type_standard': <tf.Tensor 'IteratorGetNext:14' shape=(None,) dtype=float32>, 'minimum_nights_standard': <tf.Tensor 'IteratorGetNext:10' shape=(None,) dtype=float32>, 'number_of_reviews_standard': <tf.Tensor 'IteratorGetNext:12' shape=(None,) dtype=float32>, 'reviews_per_month_standard': <tf.Tensor 'IteratorGetNext:13' shape=(None,) dtype=float32>, 'calculated_host_listings_count_standard': <tf.Tensor 'IteratorGetNext:6' shape=(None,) dtype=float32>, 'availability_365_standard': <tf.Tensor 'IteratorGetNext:5' shape=(None,) dtype=float32>, 'amenities_500_standard': <tf.Tensor 'IteratorGetNext:4' shape=(None,) dtype=float32>, 'leisure_500_standard': <tf.Tensor 'IteratorGetNext:8' shape=(None,) dtype=float32>, 'subway_500_standard': <tf.Tensor 'IteratorGetNext:15' shape=(None,) dtype=float32>, 'natural_500_standard': <tf.Tensor 'IteratorGetNext:11' shape=(None,) dtype=float32>, 'latitude': <tf.Tensor 'IteratorGetNext:7' shape=(None,) dtype=float32>, 'longitude': <tf.Tensor 'IteratorGetNext:9' shape=(None,) dtype=float32>, 'NG_Brooklyn': <tf.Tensor 'IteratorGetNext:0' shape=(None,) dtype=uint8>, 'NG_Manhattan': <tf.Tensor 'IteratorGetNext:1' shape=(None,) dtype=uint8>, 'NG_Queens': <tf.Tensor 'IteratorGetNext:2' shape=(None,) dtype=uint8>, 'NG_Staten Island': <tf.Tensor 'IteratorGetNext:3' shape=(None,) dtype=uint8>}. Consider rewriting this model with the Functional API.\n",
      "WARNING:tensorflow:Layers in a Sequential model should only have a single input tensor. Received: inputs={'room_type_standard': <tf.Tensor 'IteratorGetNext:14' shape=(None,) dtype=float32>, 'minimum_nights_standard': <tf.Tensor 'IteratorGetNext:10' shape=(None,) dtype=float32>, 'number_of_reviews_standard': <tf.Tensor 'IteratorGetNext:12' shape=(None,) dtype=float32>, 'reviews_per_month_standard': <tf.Tensor 'IteratorGetNext:13' shape=(None,) dtype=float32>, 'calculated_host_listings_count_standard': <tf.Tensor 'IteratorGetNext:6' shape=(None,) dtype=float32>, 'availability_365_standard': <tf.Tensor 'IteratorGetNext:5' shape=(None,) dtype=float32>, 'amenities_500_standard': <tf.Tensor 'IteratorGetNext:4' shape=(None,) dtype=float32>, 'leisure_500_standard': <tf.Tensor 'IteratorGetNext:8' shape=(None,) dtype=float32>, 'subway_500_standard': <tf.Tensor 'IteratorGetNext:15' shape=(None,) dtype=float32>, 'natural_500_standard': <tf.Tensor 'IteratorGetNext:11' shape=(None,) dtype=float32>, 'latitude': <tf.Tensor 'IteratorGetNext:7' shape=(None,) dtype=float32>, 'longitude': <tf.Tensor 'IteratorGetNext:9' shape=(None,) dtype=float32>, 'NG_Brooklyn': <tf.Tensor 'IteratorGetNext:0' shape=(None,) dtype=uint8>, 'NG_Manhattan': <tf.Tensor 'IteratorGetNext:1' shape=(None,) dtype=uint8>, 'NG_Queens': <tf.Tensor 'IteratorGetNext:2' shape=(None,) dtype=uint8>, 'NG_Staten Island': <tf.Tensor 'IteratorGetNext:3' shape=(None,) dtype=uint8>}. Consider rewriting this model with the Functional API.\n",
      "380/391 [============================>.] - ETA: 0s - loss: 0.7301 - mae: 0.5721 - mse: 0.5446 - root_mean_squared_error: 0.7380WARNING:tensorflow:Layers in a Sequential model should only have a single input tensor. Received: inputs={'room_type_standard': <tf.Tensor 'IteratorGetNext:14' shape=(None,) dtype=float32>, 'minimum_nights_standard': <tf.Tensor 'IteratorGetNext:10' shape=(None,) dtype=float32>, 'number_of_reviews_standard': <tf.Tensor 'IteratorGetNext:12' shape=(None,) dtype=float32>, 'reviews_per_month_standard': <tf.Tensor 'IteratorGetNext:13' shape=(None,) dtype=float32>, 'calculated_host_listings_count_standard': <tf.Tensor 'IteratorGetNext:6' shape=(None,) dtype=float32>, 'availability_365_standard': <tf.Tensor 'IteratorGetNext:5' shape=(None,) dtype=float32>, 'amenities_500_standard': <tf.Tensor 'IteratorGetNext:4' shape=(None,) dtype=float32>, 'leisure_500_standard': <tf.Tensor 'IteratorGetNext:8' shape=(None,) dtype=float32>, 'subway_500_standard': <tf.Tensor 'IteratorGetNext:15' shape=(None,) dtype=float32>, 'natural_500_standard': <tf.Tensor 'IteratorGetNext:11' shape=(None,) dtype=float32>, 'latitude': <tf.Tensor 'IteratorGetNext:7' shape=(None,) dtype=float32>, 'longitude': <tf.Tensor 'IteratorGetNext:9' shape=(None,) dtype=float32>, 'NG_Brooklyn': <tf.Tensor 'IteratorGetNext:0' shape=(None,) dtype=uint8>, 'NG_Manhattan': <tf.Tensor 'IteratorGetNext:1' shape=(None,) dtype=uint8>, 'NG_Queens': <tf.Tensor 'IteratorGetNext:2' shape=(None,) dtype=uint8>, 'NG_Staten Island': <tf.Tensor 'IteratorGetNext:3' shape=(None,) dtype=uint8>}. Consider rewriting this model with the Functional API.\n",
      "391/391 [==============================] - 2s 3ms/step - loss: 0.7264 - mae: 0.5711 - mse: 0.5423 - root_mean_squared_error: 0.7364 - val_loss: 0.7231 - val_mae: 0.6073 - val_mse: 0.5911 - val_root_mean_squared_error: 0.7688 - lr: 0.0800\n",
      "Epoch 2/30\n",
      "391/391 [==============================] - 1s 2ms/step - loss: 0.5571 - mae: 0.5477 - mse: 0.4580 - root_mean_squared_error: 0.6767 - val_loss: 0.5186 - val_mae: 0.5468 - val_mse: 0.4470 - val_root_mean_squared_error: 0.6686 - lr: 0.0800\n",
      "Epoch 3/30\n",
      "391/391 [==============================] - 1s 2ms/step - loss: 0.5071 - mae: 0.5453 - mse: 0.4537 - root_mean_squared_error: 0.6736 - val_loss: 0.6043 - val_mae: 0.6182 - val_mse: 0.5652 - val_root_mean_squared_error: 0.7518 - lr: 0.0800\n",
      "Epoch 4/30\n",
      "391/391 [==============================] - 1s 2ms/step - loss: 0.4835 - mae: 0.5459 - mse: 0.4545 - root_mean_squared_error: 0.6742 - val_loss: 0.5057 - val_mae: 0.5713 - val_mse: 0.4845 - val_root_mean_squared_error: 0.6961 - lr: 0.0800\n",
      "Epoch 5/30\n",
      "391/391 [==============================] - 1s 2ms/step - loss: 0.4660 - mae: 0.5428 - mse: 0.4502 - root_mean_squared_error: 0.6710 - val_loss: 0.4500 - val_mae: 0.5403 - val_mse: 0.4386 - val_root_mean_squared_error: 0.6623 - lr: 0.0800\n",
      "Epoch 6/30\n",
      "391/391 [==============================] - 1s 2ms/step - loss: 0.4576 - mae: 0.5430 - mse: 0.4490 - root_mean_squared_error: 0.6701 - val_loss: 0.4467 - val_mae: 0.5379 - val_mse: 0.4405 - val_root_mean_squared_error: 0.6637 - lr: 0.0800\n",
      "Epoch 7/30\n",
      "391/391 [==============================] - 1s 2ms/step - loss: 0.4529 - mae: 0.5421 - mse: 0.4482 - root_mean_squared_error: 0.6695 - val_loss: 0.4418 - val_mae: 0.5400 - val_mse: 0.4384 - val_root_mean_squared_error: 0.6621 - lr: 0.0800\n",
      "Epoch 8/30\n",
      "391/391 [==============================] - 1s 2ms/step - loss: 0.4481 - mae: 0.5409 - mse: 0.4456 - root_mean_squared_error: 0.6675 - val_loss: 0.4421 - val_mae: 0.5379 - val_mse: 0.4403 - val_root_mean_squared_error: 0.6635 - lr: 0.0800\n",
      "Epoch 9/30\n",
      "391/391 [==============================] - 1s 2ms/step - loss: 0.4467 - mae: 0.5410 - mse: 0.4453 - root_mean_squared_error: 0.6673 - val_loss: 0.4889 - val_mae: 0.5563 - val_mse: 0.4880 - val_root_mean_squared_error: 0.6985 - lr: 0.0800\n",
      "Epoch 10/30\n",
      "391/391 [==============================] - 1s 3ms/step - loss: 0.4408 - mae: 0.5384 - mse: 0.4398 - root_mean_squared_error: 0.6632 - val_loss: 0.4389 - val_mae: 0.5389 - val_mse: 0.4380 - val_root_mean_squared_error: 0.6618 - lr: 0.0160\n",
      "Epoch 11/30\n",
      "391/391 [==============================] - 1s 2ms/step - loss: 0.4401 - mae: 0.5380 - mse: 0.4392 - root_mean_squared_error: 0.6628 - val_loss: 0.4443 - val_mae: 0.5441 - val_mse: 0.4435 - val_root_mean_squared_error: 0.6659 - lr: 0.0160\n",
      "Epoch 12/30\n",
      "391/391 [==============================] - 1s 2ms/step - loss: 0.4403 - mae: 0.5382 - mse: 0.4395 - root_mean_squared_error: 0.6630 - val_loss: 0.4387 - val_mae: 0.5392 - val_mse: 0.4380 - val_root_mean_squared_error: 0.6618 - lr: 0.0160\n",
      "Epoch 13/30\n",
      "391/391 [==============================] - 1s 2ms/step - loss: 0.4401 - mae: 0.5382 - mse: 0.4394 - root_mean_squared_error: 0.6629 - val_loss: 0.4387 - val_mae: 0.5385 - val_mse: 0.4381 - val_root_mean_squared_error: 0.6619 - lr: 0.0160\n",
      "Epoch 14/30\n",
      "391/391 [==============================] - 1s 2ms/step - loss: 0.4400 - mae: 0.5381 - mse: 0.4394 - root_mean_squared_error: 0.6629 - val_loss: 0.4407 - val_mae: 0.5417 - val_mse: 0.4401 - val_root_mean_squared_error: 0.6634 - lr: 0.0160\n",
      "Epoch 15/30\n",
      "391/391 [==============================] - 1s 2ms/step - loss: 0.4394 - mae: 0.5380 - mse: 0.4388 - root_mean_squared_error: 0.6624 - val_loss: 0.4387 - val_mae: 0.5383 - val_mse: 0.4381 - val_root_mean_squared_error: 0.6619 - lr: 0.0032\n",
      "Epoch 16/30\n",
      "391/391 [==============================] - 1s 2ms/step - loss: 0.4394 - mae: 0.5379 - mse: 0.4389 - root_mean_squared_error: 0.6625 - val_loss: 0.4397 - val_mae: 0.5408 - val_mse: 0.4391 - val_root_mean_squared_error: 0.6626 - lr: 0.0032\n",
      "Epoch 17/30\n",
      "391/391 [==============================] - 1s 2ms/step - loss: 0.4393 - mae: 0.5383 - mse: 0.4388 - root_mean_squared_error: 0.6624 - val_loss: 0.4385 - val_mae: 0.5388 - val_mse: 0.4380 - val_root_mean_squared_error: 0.6618 - lr: 6.4000e-04\n",
      "Epoch 18/30\n",
      "391/391 [==============================] - 1s 2ms/step - loss: 0.4393 - mae: 0.5380 - mse: 0.4388 - root_mean_squared_error: 0.6624 - val_loss: 0.4385 - val_mae: 0.5388 - val_mse: 0.4380 - val_root_mean_squared_error: 0.6618 - lr: 6.4000e-04\n",
      "Epoch 19/30\n",
      "391/391 [==============================] - 1s 2ms/step - loss: 0.4393 - mae: 0.5380 - mse: 0.4388 - root_mean_squared_error: 0.6624 - val_loss: 0.4385 - val_mae: 0.5390 - val_mse: 0.4380 - val_root_mean_squared_error: 0.6618 - lr: 6.4000e-04\n",
      "Epoch 20/30\n",
      "391/391 [==============================] - 1s 2ms/step - loss: 0.4393 - mae: 0.5379 - mse: 0.4387 - root_mean_squared_error: 0.6624 - val_loss: 0.4385 - val_mae: 0.5390 - val_mse: 0.4380 - val_root_mean_squared_error: 0.6618 - lr: 1.2800e-04\n",
      "Epoch 21/30\n",
      "391/391 [==============================] - 1s 2ms/step - loss: 0.4393 - mae: 0.5380 - mse: 0.4387 - root_mean_squared_error: 0.6624 - val_loss: 0.4385 - val_mae: 0.5390 - val_mse: 0.4380 - val_root_mean_squared_error: 0.6618 - lr: 1.2800e-04\n",
      "Epoch 22/30\n",
      "391/391 [==============================] - 1s 2ms/step - loss: 0.4393 - mae: 0.5380 - mse: 0.4387 - root_mean_squared_error: 0.6624 - val_loss: 0.4385 - val_mae: 0.5391 - val_mse: 0.4380 - val_root_mean_squared_error: 0.6618 - lr: 2.5600e-05\n",
      "Epoch 23/30\n",
      "391/391 [==============================] - 1s 2ms/step - loss: 0.4393 - mae: 0.5380 - mse: 0.4387 - root_mean_squared_error: 0.6624 - val_loss: 0.4385 - val_mae: 0.5391 - val_mse: 0.4380 - val_root_mean_squared_error: 0.6618 - lr: 2.5600e-05\n",
      "Epoch 24/30\n",
      "391/391 [==============================] - 1s 2ms/step - loss: 0.4393 - mae: 0.5380 - mse: 0.4387 - root_mean_squared_error: 0.6624 - val_loss: 0.4385 - val_mae: 0.5391 - val_mse: 0.4380 - val_root_mean_squared_error: 0.6618 - lr: 5.1200e-06\n"
     ]
    }
   ],
   "source": [
    "# Train the model on the training set.\n",
    "epochs, rmse, history = train_model(my_model, train_df_transformed, test_df_transformed, epochs,  batch_size, label_name)"
   ]
  },
  {
   "cell_type": "code",
   "execution_count": 382,
   "metadata": {},
   "outputs": [
    {
     "name": "stdout",
     "output_type": "stream",
     "text": [
      "dict_keys(['loss', 'mae', 'mse', 'root_mean_squared_error', 'val_loss', 'val_mae', 'val_mse', 'val_root_mean_squared_error', 'lr'])\n"
     ]
    },
    {
     "data": {
      "image/png": "[encoded data removed]",
      "text/plain": [
       "<Figure size 1080x720 with 1 Axes>"
      ]
     },
     "metadata": {},
     "output_type": "display_data"
    }
   ],
   "source": [
    "print(history.history.keys())\n",
    "# \"Loss\"\n",
    "plt.plot(history.history['loss'])\n",
    "plt.plot(history.history['val_loss'], color = 'red')\n",
    "plt.title('model loss')\n",
    "plt.ylabel('loss')\n",
    "plt.xlabel('epoch')\n",
    "plt.legend(['train', 'validation'], loc='upper left')\n",
    "plt.show()"
   ]
  },
  {
   "cell_type": "code",
   "execution_count": 388,
   "metadata": {},
   "outputs": [
    {
     "name": "stdout",
     "output_type": "stream",
     "text": [
      "WARNING:tensorflow:Layers in a Sequential model should only have a single input tensor. Received: inputs={'room_type_standard': <tf.Tensor 'IteratorGetNext:14' shape=(32,) dtype=float32>, 'minimum_nights_standard': <tf.Tensor 'IteratorGetNext:10' shape=(32,) dtype=float32>, 'number_of_reviews_standard': <tf.Tensor 'IteratorGetNext:12' shape=(32,) dtype=float32>, 'reviews_per_month_standard': <tf.Tensor 'IteratorGetNext:13' shape=(32,) dtype=float32>, 'calculated_host_listings_count_standard': <tf.Tensor 'IteratorGetNext:6' shape=(32,) dtype=float32>, 'availability_365_standard': <tf.Tensor 'IteratorGetNext:5' shape=(32,) dtype=float32>, 'amenities_500_standard': <tf.Tensor 'IteratorGetNext:4' shape=(32,) dtype=float32>, 'leisure_500_standard': <tf.Tensor 'IteratorGetNext:8' shape=(32,) dtype=float32>, 'subway_500_standard': <tf.Tensor 'IteratorGetNext:15' shape=(32,) dtype=float32>, 'natural_500_standard': <tf.Tensor 'IteratorGetNext:11' shape=(32,) dtype=float32>, 'latitude': <tf.Tensor 'IteratorGetNext:7' shape=(32,) dtype=float32>, 'longitude': <tf.Tensor 'IteratorGetNext:9' shape=(32,) dtype=float32>, 'NG_Brooklyn': <tf.Tensor 'IteratorGetNext:0' shape=(32,) dtype=uint8>, 'NG_Manhattan': <tf.Tensor 'IteratorGetNext:1' shape=(32,) dtype=uint8>, 'NG_Queens': <tf.Tensor 'IteratorGetNext:2' shape=(32,) dtype=uint8>, 'NG_Staten Island': <tf.Tensor 'IteratorGetNext:3' shape=(32,) dtype=uint8>}. Consider rewriting this model with the Functional API.\n"
     ]
    }
   ],
   "source": [
    "val_features = {name:np.array(value) for name, value in test_df_transformed.items()}\n",
    "val_label = np.array(val_features.pop(label_name))\n",
    "predictions = my_model.predict(val_features)\n",
    "y_pred_invtransformed = np.expm1(predictions)\n",
    "y_test_invtransformed = np.expm1(y_test_t)\n",
    "r2=r2_score(y_test_invtransformed ,y_pred_invtransformed )\n",
    "rmse_score=np.sqrt(mean_squared_error(y_test_invtransformed ,y_pred_invtransformed ))\n",
    "print(f'RMSE score : {rmse_score}')\n",
    "print(f'R2 score : {r2}')"
   ]
  },
  {
   "cell_type": "code",
   "execution_count": 412,
   "metadata": {},
   "outputs": [],
   "source": [
    "test_features = {name:np.array(value) for name, value in test_df.items()}\n",
    "test_label = np.array(test_features.pop(label_name))"
   ]
  },
  {
   "cell_type": "code",
   "execution_count": 414,
   "metadata": {},
   "outputs": [
    {
     "name": "stdout",
     "output_type": "stream",
     "text": [
      "\n",
      ": Evaluate the new model against the test set:\n",
      "WARNING:tensorflow:Layers in a Sequential model should only have a single input tensor. Received: inputs={'latitude': <tf.Tensor 'IteratorGetNext:7' shape=(None,) dtype=float32>, 'longitude': <tf.Tensor 'IteratorGetNext:9' shape=(None,) dtype=float32>, 'room_type': <tf.Tensor 'IteratorGetNext:14' shape=(None,) dtype=int64>, 'minimum_nights': <tf.Tensor 'IteratorGetNext:10' shape=(None,) dtype=int64>, 'number_of_reviews': <tf.Tensor 'IteratorGetNext:12' shape=(None,) dtype=int64>, 'reviews_per_month': <tf.Tensor 'IteratorGetNext:13' shape=(None,) dtype=float32>, 'calculated_host_listings_count': <tf.Tensor 'IteratorGetNext:6' shape=(None,) dtype=int64>, 'availability_365': <tf.Tensor 'IteratorGetNext:5' shape=(None,) dtype=int64>, 'NG_Brooklyn': <tf.Tensor 'IteratorGetNext:0' shape=(None,) dtype=uint8>, 'NG_Manhattan': <tf.Tensor 'IteratorGetNext:1' shape=(None,) dtype=uint8>, 'NG_Queens': <tf.Tensor 'IteratorGetNext:2' shape=(None,) dtype=uint8>, 'NG_Staten Island': <tf.Tensor 'IteratorGetNext:3' shape=(None,) dtype=uint8>, 'amenities_500': <tf.Tensor 'IteratorGetNext:4' shape=(None,) dtype=int64>, 'leisure_500': <tf.Tensor 'IteratorGetNext:8' shape=(None,) dtype=int64>, 'subway_500': <tf.Tensor 'IteratorGetNext:15' shape=(None,) dtype=int64>, 'natural_500': <tf.Tensor 'IteratorGetNext:11' shape=(None,) dtype=int64>}. Consider rewriting this model with the Functional API.\n",
      "98/98 [==============================] - 1s 3ms/step - loss: 29596.9863 - mae: 135.4765 - mse: 29596.9863 - root_mean_squared_error: 172.0378\n"
     ]
    }
   ],
   "source": [
    "print(\"\\n: Evaluate the new model against the test set:\")\n",
    "results = my_model.evaluate(x=test_features, y=test_label, batch_size=batch_size)"
   ]
  },
  {
   "cell_type": "code",
   "execution_count": 415,
   "metadata": {},
   "outputs": [
    {
     "data": {
      "text/plain": [
       "[29596.986328125, 135.47645568847656, 29596.986328125, 172.03775024414062]"
      ]
     },
     "execution_count": 415,
     "metadata": {},
     "output_type": "execute_result"
    }
   ],
   "source": [
    "results"
   ]
  },
  {
   "cell_type": "code",
   "execution_count": 418,
   "metadata": {},
   "outputs": [
    {
     "data": {
      "text/html": [
       "<div>\n",
       "<style scoped>\n",
       "    .dataframe tbody tr th:only-of-type {\n",
       "        vertical-align: middle;\n",
       "    }\n",
       "\n",
       "    .dataframe tbody tr th {\n",
       "        vertical-align: top;\n",
       "    }\n",
       "\n",
       "    .dataframe thead th {\n",
       "        text-align: right;\n",
       "    }\n",
       "</style>\n",
       "<table border=\"1\" class=\"dataframe\">\n",
       "  <thead>\n",
       "    <tr style=\"text-align: right;\">\n",
       "      <th></th>\n",
       "      <th>loss</th>\n",
       "      <th>mae</th>\n",
       "      <th>mse</th>\n",
       "      <th>root_mean_squared_error</th>\n",
       "      <th>val_loss</th>\n",
       "      <th>val_mae</th>\n",
       "      <th>val_mse</th>\n",
       "      <th>val_root_mean_squared_error</th>\n",
       "      <th>lr</th>\n",
       "    </tr>\n",
       "  </thead>\n",
       "  <tbody>\n",
       "    <tr>\n",
       "      <th>0</th>\n",
       "      <td>0.726431</td>\n",
       "      <td>0.571071</td>\n",
       "      <td>0.542337</td>\n",
       "      <td>0.736435</td>\n",
       "      <td>0.723127</td>\n",
       "      <td>0.607275</td>\n",
       "      <td>0.591055</td>\n",
       "      <td>0.768801</td>\n",
       "      <td>0.08</td>\n",
       "    </tr>\n",
       "    <tr>\n",
       "      <th>1</th>\n",
       "      <td>0.557051</td>\n",
       "      <td>0.547746</td>\n",
       "      <td>0.457988</td>\n",
       "      <td>0.676748</td>\n",
       "      <td>0.518597</td>\n",
       "      <td>0.546831</td>\n",
       "      <td>0.446964</td>\n",
       "      <td>0.668554</td>\n",
       "      <td>0.08</td>\n",
       "    </tr>\n",
       "    <tr>\n",
       "      <th>2</th>\n",
       "      <td>0.507132</td>\n",
       "      <td>0.545251</td>\n",
       "      <td>0.453678</td>\n",
       "      <td>0.673557</td>\n",
       "      <td>0.604274</td>\n",
       "      <td>0.618220</td>\n",
       "      <td>0.565212</td>\n",
       "      <td>0.751806</td>\n",
       "      <td>0.08</td>\n",
       "    </tr>\n",
       "    <tr>\n",
       "      <th>3</th>\n",
       "      <td>0.483474</td>\n",
       "      <td>0.545924</td>\n",
       "      <td>0.454531</td>\n",
       "      <td>0.674189</td>\n",
       "      <td>0.505698</td>\n",
       "      <td>0.571257</td>\n",
       "      <td>0.484526</td>\n",
       "      <td>0.696079</td>\n",
       "      <td>0.08</td>\n",
       "    </tr>\n",
       "    <tr>\n",
       "      <th>4</th>\n",
       "      <td>0.465967</td>\n",
       "      <td>0.542761</td>\n",
       "      <td>0.450245</td>\n",
       "      <td>0.671003</td>\n",
       "      <td>0.450047</td>\n",
       "      <td>0.540273</td>\n",
       "      <td>0.438626</td>\n",
       "      <td>0.662288</td>\n",
       "      <td>0.08</td>\n",
       "    </tr>\n",
       "  </tbody>\n",
       "</table>\n",
       "</div>"
      ],
      "text/plain": [
       "       loss       mae       mse  root_mean_squared_error  val_loss   val_mae  \\\n",
       "0  0.726431  0.571071  0.542337                 0.736435  0.723127  0.607275   \n",
       "1  0.557051  0.547746  0.457988                 0.676748  0.518597  0.546831   \n",
       "2  0.507132  0.545251  0.453678                 0.673557  0.604274  0.618220   \n",
       "3  0.483474  0.545924  0.454531                 0.674189  0.505698  0.571257   \n",
       "4  0.465967  0.542761  0.450245                 0.671003  0.450047  0.540273   \n",
       "\n",
       "    val_mse  val_root_mean_squared_error    lr  \n",
       "0  0.591055                     0.768801  0.08  \n",
       "1  0.446964                     0.668554  0.08  \n",
       "2  0.565212                     0.751806  0.08  \n",
       "3  0.484526                     0.696079  0.08  \n",
       "4  0.438626                     0.662288  0.08  "
      ]
     },
     "execution_count": 418,
     "metadata": {},
     "output_type": "execute_result"
    }
   ],
   "source": [
    "history_df=pd.DataFrame(history.history)\n",
    "history_df.head()"
   ]
  },
  {
   "cell_type": "code",
   "execution_count": null,
   "metadata": {},
   "outputs": [],
   "source": []
  }
 ],
 "metadata": {
  "interpreter": {
   "hash": "ae6a5421b650176e7e2720e0df8dbcd42d6c29b5f468348a5fd66424f5fac28a"
  },
  "kernelspec": {
   "display_name": "Python 3.9.9 ('ENV': venv)",
   "language": "python",
   "name": "python3"
  },
  "language_info": {
   "codemirror_mode": {
    "name": "ipython",
    "version": 3
   },
   "file_extension": ".py",
   "mimetype": "text/x-python",
   "name": "python",
   "nbconvert_exporter": "python",
   "pygments_lexer": "ipython3",
   "version": "3.9.9"
  },
  "orig_nbformat": 4
 },
 "nbformat": 4,
 "nbformat_minor": 2
}
