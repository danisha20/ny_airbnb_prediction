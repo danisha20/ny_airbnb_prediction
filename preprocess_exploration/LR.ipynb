{
 "cells": [
  {
   "cell_type": "markdown",
   "metadata": {},
   "source": [
    "# PM5 Linear Regression"
   ]
  },
  {
   "cell_type": "markdown",
   "metadata": {},
   "source": [
    "**Team Members**:\n",
    "- Maviya Shaikh\n",
    "- Daniela Gomez\n",
    "- Jason Gravelle\n",
    "- Melika Torabgar\n",
    "- Heeba Parvez \n",
    "\n",
    "**Dataset** : New York City Airbnb Open Data"
   ]
  },
  {
   "cell_type": "code",
   "execution_count": 1,
   "metadata": {},
   "outputs": [],
   "source": [
    "#import libraries\n",
    "import numpy as np\n",
    "import pandas as pd\n",
    "from sklearn.model_selection import train_test_split\n",
    "from sklearn.linear_model import LinearRegression, Ridge, Lasso\n",
    "from sklearn import metrics\n",
    "\n",
    "\n",
    "#ignore warnings\n",
    "import warnings\n",
    "warnings.filterwarnings('ignore')\n",
    "\n",
    "\n",
    "from preprocess_data import *\n",
    "#importing dataset\n",
    "files_dir = \"../dataset/\"\n",
    "filename = files_dir + \"AB_NYC_2019.csv\"\n",
    "df_original = pd.read_csv(filename)"
   ]
  },
  {
   "cell_type": "code",
   "execution_count": 3,
   "metadata": {},
   "outputs": [],
   "source": [
    "df_preprocessed = preprocess(df_original)"
   ]
  },
  {
   "cell_type": "code",
   "execution_count": 4,
   "metadata": {},
   "outputs": [
    {
     "data": {
      "text/html": [
       "<div>\n",
       "<style scoped>\n",
       "    .dataframe tbody tr th:only-of-type {\n",
       "        vertical-align: middle;\n",
       "    }\n",
       "\n",
       "    .dataframe tbody tr th {\n",
       "        vertical-align: top;\n",
       "    }\n",
       "\n",
       "    .dataframe thead th {\n",
       "        text-align: right;\n",
       "    }\n",
       "</style>\n",
       "<table border=\"1\" class=\"dataframe\">\n",
       "  <thead>\n",
       "    <tr style=\"text-align: right;\">\n",
       "      <th></th>\n",
       "      <th>room_type_standard</th>\n",
       "      <th>minimum_nights_standard</th>\n",
       "      <th>number_of_reviews_standard</th>\n",
       "      <th>reviews_per_month_standard</th>\n",
       "      <th>calculated_host_listings_count_standard</th>\n",
       "      <th>availability_365_standard</th>\n",
       "      <th>id</th>\n",
       "      <th>latitude</th>\n",
       "      <th>longitude</th>\n",
       "      <th>price</th>\n",
       "      <th>NG_Brooklyn</th>\n",
       "      <th>NG_Manhattan</th>\n",
       "      <th>NG_Queens</th>\n",
       "      <th>NG_Staten Island</th>\n",
       "      <th>name</th>\n",
       "    </tr>\n",
       "  </thead>\n",
       "  <tbody>\n",
       "    <tr>\n",
       "      <th>0</th>\n",
       "      <td>-1.047718</td>\n",
       "      <td>-0.570973</td>\n",
       "      <td>-0.320442</td>\n",
       "      <td>-0.551561</td>\n",
       "      <td>-0.034737</td>\n",
       "      <td>1.916324</td>\n",
       "      <td>2539</td>\n",
       "      <td>40.64749</td>\n",
       "      <td>-73.97237</td>\n",
       "      <td>5.010635</td>\n",
       "      <td>1</td>\n",
       "      <td>0</td>\n",
       "      <td>0</td>\n",
       "      <td>0</td>\n",
       "      <td>Clean &amp; quiet apt home by the park</td>\n",
       "    </tr>\n",
       "    <tr>\n",
       "      <th>1</th>\n",
       "      <td>0.799847</td>\n",
       "      <td>-0.570973</td>\n",
       "      <td>0.487596</td>\n",
       "      <td>-0.445134</td>\n",
       "      <td>-0.156118</td>\n",
       "      <td>1.840345</td>\n",
       "      <td>2595</td>\n",
       "      <td>40.75362</td>\n",
       "      <td>-73.98377</td>\n",
       "      <td>5.420535</td>\n",
       "      <td>0</td>\n",
       "      <td>1</td>\n",
       "      <td>0</td>\n",
       "      <td>0</td>\n",
       "      <td>Skylit Midtown Castle</td>\n",
       "    </tr>\n",
       "    <tr>\n",
       "      <th>2</th>\n",
       "      <td>-1.047718</td>\n",
       "      <td>-0.340421</td>\n",
       "      <td>-0.522451</td>\n",
       "      <td>-0.683031</td>\n",
       "      <td>-0.186463</td>\n",
       "      <td>1.916324</td>\n",
       "      <td>3647</td>\n",
       "      <td>40.80902</td>\n",
       "      <td>-73.94190</td>\n",
       "      <td>5.017280</td>\n",
       "      <td>0</td>\n",
       "      <td>1</td>\n",
       "      <td>0</td>\n",
       "      <td>0</td>\n",
       "      <td>THE VILLAGE OF HARLEM....NEW YORK !</td>\n",
       "    </tr>\n",
       "    <tr>\n",
       "      <th>3</th>\n",
       "      <td>0.799847</td>\n",
       "      <td>-0.570973</td>\n",
       "      <td>5.537831</td>\n",
       "      <td>2.221817</td>\n",
       "      <td>-0.186463</td>\n",
       "      <td>0.617091</td>\n",
       "      <td>3831</td>\n",
       "      <td>40.68514</td>\n",
       "      <td>-73.95976</td>\n",
       "      <td>4.499810</td>\n",
       "      <td>1</td>\n",
       "      <td>0</td>\n",
       "      <td>0</td>\n",
       "      <td>0</td>\n",
       "      <td>Cozy Entire Floor of Brownstone</td>\n",
       "    </tr>\n",
       "    <tr>\n",
       "      <th>4</th>\n",
       "      <td>0.799847</td>\n",
       "      <td>0.466510</td>\n",
       "      <td>-0.320442</td>\n",
       "      <td>-0.620426</td>\n",
       "      <td>-0.186463</td>\n",
       "      <td>-0.856891</td>\n",
       "      <td>5022</td>\n",
       "      <td>40.79851</td>\n",
       "      <td>-73.94399</td>\n",
       "      <td>4.394449</td>\n",
       "      <td>0</td>\n",
       "      <td>1</td>\n",
       "      <td>0</td>\n",
       "      <td>0</td>\n",
       "      <td>Entire Apt: Spacious Studio/Loft by central park</td>\n",
       "    </tr>\n",
       "  </tbody>\n",
       "</table>\n",
       "</div>"
      ],
      "text/plain": [
       "   room_type_standard  minimum_nights_standard  number_of_reviews_standard  \\\n",
       "0           -1.047718                -0.570973                   -0.320442   \n",
       "1            0.799847                -0.570973                    0.487596   \n",
       "2           -1.047718                -0.340421                   -0.522451   \n",
       "3            0.799847                -0.570973                    5.537831   \n",
       "4            0.799847                 0.466510                   -0.320442   \n",
       "\n",
       "   reviews_per_month_standard  calculated_host_listings_count_standard  \\\n",
       "0                   -0.551561                                -0.034737   \n",
       "1                   -0.445134                                -0.156118   \n",
       "2                   -0.683031                                -0.186463   \n",
       "3                    2.221817                                -0.186463   \n",
       "4                   -0.620426                                -0.186463   \n",
       "\n",
       "   availability_365_standard    id  latitude  longitude     price  \\\n",
       "0                   1.916324  2539  40.64749  -73.97237  5.010635   \n",
       "1                   1.840345  2595  40.75362  -73.98377  5.420535   \n",
       "2                   1.916324  3647  40.80902  -73.94190  5.017280   \n",
       "3                   0.617091  3831  40.68514  -73.95976  4.499810   \n",
       "4                  -0.856891  5022  40.79851  -73.94399  4.394449   \n",
       "\n",
       "   NG_Brooklyn  NG_Manhattan  NG_Queens  NG_Staten Island  \\\n",
       "0            1             0          0                 0   \n",
       "1            0             1          0                 0   \n",
       "2            0             1          0                 0   \n",
       "3            1             0          0                 0   \n",
       "4            0             1          0                 0   \n",
       "\n",
       "                                               name  \n",
       "0                Clean & quiet apt home by the park  \n",
       "1                             Skylit Midtown Castle  \n",
       "2               THE VILLAGE OF HARLEM....NEW YORK !  \n",
       "3                   Cozy Entire Floor of Brownstone  \n",
       "4  Entire Apt: Spacious Studio/Loft by central park  "
      ]
     },
     "execution_count": 4,
     "metadata": {},
     "output_type": "execute_result"
    }
   ],
   "source": [
    "df_preprocessed.head()"
   ]
  },
  {
   "cell_type": "code",
   "execution_count": 51,
   "metadata": {},
   "outputs": [],
   "source": [
    "#linear surface for the dataset\n",
    "lr_model = LinearRegression()\n",
    "#linear least squares with L2 regularization\n",
    "ridge_model = Ridge()\n",
    "#tweaking the parameters\n",
    "ridge_model2 = Ridge(alpha = 0.2)\n",
    "#linear least squares with L1 regularizatio\n",
    "lasso_model = Lasso()\n",
    "\n",
    "#tweaking the parameters\n",
    "lasso_model2 = Lasso(alpha = 0.05)"
   ]
  },
  {
   "cell_type": "code",
   "execution_count": 52,
   "metadata": {},
   "outputs": [],
   "source": [
    "y = df_preprocessed['price']\n",
    "#X = df_class.drop(['neighbourhood_group','name','id'], axis=1)\n",
    "X = df_preprocessed.drop(['price','name','id'], axis=1)\n",
    "X_train, X_test, y_train, y_test = train_test_split(X, y, test_size=0.33, random_state=42)"
   ]
  },
  {
   "cell_type": "code",
   "execution_count": 53,
   "metadata": {},
   "outputs": [
    {
     "data": {
      "text/plain": [
       "Lasso(alpha=0.05)"
      ]
     },
     "execution_count": 53,
     "metadata": {},
     "output_type": "execute_result"
    }
   ],
   "source": [
    "lr_model.fit(X_train, y_train)\n",
    "ridge_model.fit(X_train, y_train)\n",
    "ridge_model2.fit(X_train, y_train)\n",
    "lasso_model.fit(X_train, y_train)\n",
    "lasso_model2.fit(X_train, y_train)"
   ]
  },
  {
   "cell_type": "markdown",
   "metadata": {},
   "source": [
    "### Evaluating the Algorithm\n"
   ]
  },
  {
   "cell_type": "code",
   "execution_count": 54,
   "metadata": {},
   "outputs": [],
   "source": [
    "lr_model_yhat = lr_model.predict(X_test)\n",
    "ridge_model_y_hat = ridge_model.predict(X_test)\n",
    "ridge2_model_yhat = ridge_model2.predict(X_test)\n",
    "lasso_model_yhat = lasso_model.predict(X_test)\n",
    "lasso_model2_yhat = lasso_model2.predict(X_test)"
   ]
  },
  {
   "cell_type": "code",
   "execution_count": 55,
   "metadata": {},
   "outputs": [
    {
     "name": "stdout",
     "output_type": "stream",
     "text": [
      "lr_model_yhat MAE : 67.18682013450453\n",
      "lr_model_yhat MSE : 62241.13699110584\n",
      "lr_model_yhat RMSE score: 249.48173678869932\n",
      "lr_model_yhat Coefficient of Determination: 0.04846566473773173\n",
      "ridgem_model_yhat MAE : 67.19194246237555\n",
      "ridgem_model_yhat MSE : 62252.71233983702\n",
      "ridgem_model_yhat RMSE score: 249.5049344999754\n",
      "ridgem_model_yhat Coefficient of Determination: 0.0482887023252051\n",
      "ridge2_model_yhat MAE : 67.1876582600165\n",
      "ridge2_model_yhat MSE : 62243.49085897427\n",
      "ridge2_model_yhat RMSE score: 249.48645425949334\n",
      "ridge2_model_yhat Coefficient of Determination: 0.04842967911462526\n",
      "lasso_model_yhat MAE : 84.2682426959643\n",
      "lasso_model_yhat MSE : 66965.84411706204\n",
      "lasso_model_yhat RMSE score: 258.7775958560981\n",
      "lasso_model_yhat Coefficient of Determination: -0.02376503784483952\n",
      "lasso_model2_yhat MAE : 71.0035232809456\n",
      "lasso_model2_yhat MSE : 63901.627973139024\n",
      "lasso_model2_yhat RMSE score: 252.78771325588397\n",
      "lasso_model2_yhat Coefficient of Determination: 0.023080296488052765\n"
     ]
    }
   ],
   "source": [
    "for model_name, y_predicted in zip(['lr_model_yhat','ridgem_model_yhat','ridge2_model_yhat','lasso_model_yhat','lasso_model2_yhat'],\n",
    "                                    [lr_model_yhat, ridge_model_y_hat, ridge2_model_yhat, lasso_model_yhat, lasso_model2_yhat]):\n",
    "    #transform back from logarithmic scale\n",
    "    y_predicted_inverse = np.expm1(y_predicted)\n",
    "    y_test_inverse = np.expm1(y_test)\n",
    "    print(f'{model_name} MAE : {metrics.mean_absolute_error(y_test_inverse, y_predicted_inverse)}')\n",
    "    print(f'{model_name} MSE : {metrics.mean_squared_error(y_test_inverse, y_predicted_inverse)}')\n",
    "    print(f'{model_name} RMSE score: {np.sqrt(metrics.mean_squared_error(y_test_inverse, y_predicted_inverse))}')\n",
    "    print(f'{model_name} Coefficient of Determination: {(metrics.r2_score(y_test_inverse, y_predicted_inverse))}')"
   ]
  },
  {
   "cell_type": "code",
   "execution_count": 12,
   "metadata": {},
   "outputs": [
    {
     "data": {
      "text/plain": [
       "count    32755.000000\n",
       "mean       152.745810\n",
       "std        232.104645\n",
       "min          0.000000\n",
       "25%         69.000000\n",
       "50%        106.000000\n",
       "75%        175.000000\n",
       "max      10000.000000\n",
       "Name: price, dtype: float64"
      ]
     },
     "execution_count": 12,
     "metadata": {},
     "output_type": "execute_result"
    }
   ],
   "source": [
    "y_train_inv = np.expm1(y_train)\n",
    "y_train_inv.describe()"
   ]
  },
  {
   "cell_type": "markdown",
   "metadata": {},
   "source": [
    "### QuAM Comparison"
   ]
  }
 ],
 "metadata": {
  "interpreter": {
   "hash": "b6bee91b03cc28c96f14c4403a0c8d34dd7dc529be2c88d35299c316ffc440ed"
  },
  "kernelspec": {
   "display_name": "Python 3.9.9 ('ENV': venv)",
   "language": "python",
   "name": "python3"
  },
  "language_info": {
   "codemirror_mode": {
    "name": "ipython",
    "version": 3
   },
   "file_extension": ".py",
   "mimetype": "text/x-python",
   "name": "python",
   "nbconvert_exporter": "python",
   "pygments_lexer": "ipython3",
   "version": "3.9.9"
  },
  "orig_nbformat": 4
 },
 "nbformat": 4,
 "nbformat_minor": 2
}
